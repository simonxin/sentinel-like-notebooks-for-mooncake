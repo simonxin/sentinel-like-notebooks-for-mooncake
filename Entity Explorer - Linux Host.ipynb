{
 "cells": [
  {
   "cell_type": "markdown",
   "metadata": {},
   "source": [
    "# Entity Explorer - Linux Host\n",
    " <details>\n",
    "     <summary>&nbsp;<u>Details...</u></summary>\n",
    "\n",
    " **Notebook Version:** 1.1<br>\n",
    " **Python Version:** Python 3.6 (including Python 3.6 - AzureML)<br>\n",
    " **Required Packages**: kqlmagic, msticpy, pandas, pandas_bokeh, numpy, matplotlib, networkx, seaborn, datetime, ipywidgets, ipython, dnspython, ipwhois, folium, maxminddb_geolite2<br>\n",
    " **Platforms Supported**:\n",
    " - Azure Notebooks Free Compute\n",
    " - Azure Notebooks DSVM\n",
    " - OS Independent\n",
    "\n",
    " **Data Sources Required**:\n",
    " - Log Analytics/Azure Sentinel - Syslog, Secuirty Alerts, Auditd, Azure Network Analytics.\n",
    " - (Optional) - AlienVault OTX (requires account and API key)\n",
    " </details>\n",
    "\n",
    "This Notebooks brings together a series of tools and techniques to enable threat hunting within the context of a singular Linux host. The notebook utilizes a range of data sources to achieve this but in order to support the widest possible range of scenarios this Notebook prioritizes using common Syslog data. If there is detailed auditd data available for a host you may wish to edit the Notebook to rely primarily on this dataset, as it currently stands auditd is used when available to provide insight not otherwise available via Syslog."
   ]
  },
  {
   "cell_type": "markdown",
   "metadata": {
    "toc": true
   },
   "source": [
    "<h1>Table of Contents<span class=\"tocSkip\"></span></h1>\n",
    "<div class=\"toc\"><ul class=\"toc-item\"><li><ul class=\"toc-item\"><li><span><a href=\"#Notebook-initialization\" data-toc-modified-id=\"Notebook-initialization-0.1\"><span class=\"toc-item-num\">0.1&nbsp;&nbsp;</span>Notebook initialization</a></span></li><li><span><a href=\"#Get-WorkspaceId-and-Authenticate-to-Log-Analytics\" data-toc-modified-id=\"Get-WorkspaceId-and-Authenticate-to-Log-Analytics-0.2\"><span class=\"toc-item-num\">0.2&nbsp;&nbsp;</span>Get WorkspaceId and Authenticate to Log Analytics</a></span></li></ul></li><li><span><a href=\"#Set-Hunting-Time-Frame\" data-toc-modified-id=\"Set-Hunting-Time-Frame-1\"><span class=\"toc-item-num\">1&nbsp;&nbsp;</span>Set Hunting Time Frame</a></span><ul class=\"toc-item\"><li><span><a href=\"#Select-Host-to-Investigate\" data-toc-modified-id=\"Select-Host-to-Investigate-1.1\"><span class=\"toc-item-num\">1.1&nbsp;&nbsp;</span>Select Host to Investigate</a></span></li></ul></li><li><span><a href=\"#Host-Summary\" data-toc-modified-id=\"Host-Summary-2\"><span class=\"toc-item-num\">2&nbsp;&nbsp;</span>Host Summary</a></span><ul class=\"toc-item\"><li><span><a href=\"#Host-Alerts\" data-toc-modified-id=\"Host-Alerts-2.1\"><span class=\"toc-item-num\">2.1&nbsp;&nbsp;</span>Host Alerts</a></span></li></ul></li><li><span><a href=\"#Re-scope-Hunting-Time-Frame\" data-toc-modified-id=\"Re-scope-Hunting-Time-Frame-3\"><span class=\"toc-item-num\">3&nbsp;&nbsp;</span>Re-scope Hunting Time Frame</a></span></li><li><span><a href=\"#How-to-use-this-Notebook\" data-toc-modified-id=\"How-to-use-this-Notebook-4\"><span class=\"toc-item-num\">4&nbsp;&nbsp;</span>How to use this Notebook</a></span></li><li><span><a href=\"#Host-Logon-Events\" data-toc-modified-id=\"Host-Logon-Events-5\"><span class=\"toc-item-num\">5&nbsp;&nbsp;</span>Host Logon Events</a></span><ul class=\"toc-item\"><li><span><a href=\"#Logon-Sessions\" data-toc-modified-id=\"Logon-Sessions-5.1\"><span class=\"toc-item-num\">5.1&nbsp;&nbsp;</span>Logon Sessions</a></span><ul class=\"toc-item\"><li><span><a href=\"#Session-Details\" data-toc-modified-id=\"Session-Details-5.1.1\"><span class=\"toc-item-num\">5.1.1&nbsp;&nbsp;</span>Session Details</a></span></li><li><span><a href=\"#Raw-data-from-user-session\" data-toc-modified-id=\"Raw-data-from-user-session-5.1.2\"><span class=\"toc-item-num\">5.1.2&nbsp;&nbsp;</span>Raw data from user session</a></span></li></ul></li><li><span><a href=\"#Process-Tree-from-session\" data-toc-modified-id=\"Process-Tree-from-session-5.2\"><span class=\"toc-item-num\">5.2&nbsp;&nbsp;</span>Process Tree from session</a></span></li><li><span><a href=\"#Sudo-Session-Investigation\" data-toc-modified-id=\"Sudo-Session-Investigation-5.3\"><span class=\"toc-item-num\">5.3&nbsp;&nbsp;</span>Sudo Session Investigation</a></span></li></ul></li><li><span><a href=\"#User-Activity\" data-toc-modified-id=\"User-Activity-6\"><span class=\"toc-item-num\">6&nbsp;&nbsp;</span>User Activity</a></span></li><li><span><a href=\"#Application-Activity\" data-toc-modified-id=\"Application-Activity-7\"><span class=\"toc-item-num\">7&nbsp;&nbsp;</span>Application Activity</a></span><ul class=\"toc-item\"><li><span><a href=\"#Display-process-tree\" data-toc-modified-id=\"Display-process-tree-7.1\"><span class=\"toc-item-num\">7.1&nbsp;&nbsp;</span>Display process tree</a></span></li><li><span><a href=\"#Application-Logs-with-associated-Threat-Intelligence\" data-toc-modified-id=\"Application-Logs-with-associated-Threat-Intelligence-7.2\"><span class=\"toc-item-num\">7.2&nbsp;&nbsp;</span>Application Logs with associated Threat Intelligence</a></span></li></ul></li><li><span><a href=\"#Network-Activity\" data-toc-modified-id=\"Network-Activity-8\"><span class=\"toc-item-num\">8&nbsp;&nbsp;</span>Network Activity</a></span><ul class=\"toc-item\"><li><span><a href=\"#Choose-ASNs/IPs-to-Check-for-Threat-Intel-Reports\" data-toc-modified-id=\"Choose-ASNs/IPs-to-Check-for-Threat-Intel-Reports-8.1\"><span class=\"toc-item-num\">8.1&nbsp;&nbsp;</span>Choose ASNs/IPs to Check for Threat Intel Reports</a></span></li></ul></li><li><span><a href=\"#Configuration\" data-toc-modified-id=\"Configuration-9\"><span class=\"toc-item-num\">9&nbsp;&nbsp;</span>Configuration</a></span><ul class=\"toc-item\"><li><span><a href=\"#msticpyconfig.yaml-configuration-File\" data-toc-modified-id=\"msticpyconfig.yaml-configuration-File-9.1\"><span class=\"toc-item-num\">9.1&nbsp;&nbsp;</span><code>msticpyconfig.yaml</code> configuration File</a></span></li></ul></li></ul></div>"
   ]
  },
  {
   "cell_type": "markdown",
   "metadata": {},
   "source": [
    "# Hunting Hypothesis: \n",
    "Our broad initial hunting hypothesis is that a particular Linux host in our environment has been compromised, we will need to hunt from a range of different positions to validate or disprove this hypothesis.\n"
   ]
  },
  {
   "cell_type": "markdown",
   "metadata": {},
   "source": [
    "---\n",
    "### Notebook initialization\n",
    "The next cell:\n",
    "- Checks for the correct Python version\n",
    "- Checks versions and optionally installs required packages\n",
    "- Imports the required packages into the notebook\n",
    "- Sets a number of configuration options.\n",
    "\n",
    "This should complete without errors. If you encounter errors or warnings look at the following two notebooks:\n",
    "- [TroubleShootingNotebooks](https://github.com/Azure/Azure-Sentinel-Notebooks/blob/master/TroubleShootingNotebooks.ipynb)\n",
    "- [ConfiguringNotebookEnvironment](https://github.com/Azure/Azure-Sentinel-Notebooks/blob/master/ConfiguringNotebookEnvironment.ipynb)\n",
    "\n",
    "If you are running in the Azure Sentinel Notebooks environment (Azure Notebooks or Azure ML) you can run live versions of these notebooks:\n",
    "- [Run TroubleShootingNotebooks](./TroubleShootingNotebooks.ipynb)\n",
    "- [Run ConfiguringNotebookEnvironment](./ConfiguringNotebookEnvironment.ipynb)\n",
    "\n",
    "You may also need to do some additional configuration to successfully use functions such as Threat Intelligence service lookup and Geo IP lookup. \n",
    "There are more details about this in the `ConfiguringNotebookEnvironment` notebook and in these documents:\n",
    "- [msticpy configuration](https://msticpy.readthedocs.io/en/latest/getting_started/msticpyconfig.html)\n",
    "- [Threat intelligence provider configuration](https://msticpy.readthedocs.io/en/latest/data_acquisition/TIProviders.html#configuration-file)"
   ]
  },
  {
   "cell_type": "code",
   "execution_count": 1,
   "metadata": {
    "ExecuteTime": {
     "end_time": "2020-06-24T01:51:59.386590Z",
     "start_time": "2020-06-24T01:51:55.136591Z"
    }
   },
   "outputs": [
    {
     "data": {
      "text/html": [
       "<h3>Starting Notebook setup...</h3>"
      ],
      "text/plain": [
       "<IPython.core.display.HTML object>"
      ]
     },
     "metadata": {},
     "output_type": "display_data"
    },
    {
     "name": "stdout",
     "output_type": "stream",
     "text": [
      "Processing imports....\n",
      "All packages are already installed\n",
      "Checking configuration....\n",
      "No errors found.\n",
      "No warnings found.\n",
      "Setting notebook options....\n"
     ]
    },
    {
     "data": {
      "text/html": [
       "<h3>Notebook setup complete</h3>"
      ],
      "text/plain": [
       "<IPython.core.display.HTML object>"
      ]
     },
     "metadata": {},
     "output_type": "display_data"
    }
   ],
   "source": [
    "from pathlib import Path\n",
    "import os\n",
    "import sys\n",
    "import warnings\n",
    "from IPython.display import display, HTML, Markdown\n",
    "\n",
    "REQ_PYTHON_VER=(3, 6)\n",
    "REQ_MSTICPY_VER=(0, 6, 0)\n",
    "\n",
    "display(HTML(\"<h3>Starting Notebook setup...</h3>\"))\n",
    "if Path(\"./utils/nb_check.py\").is_file():\n",
    "    from utils.nb_check import check_python_ver, check_mp_ver\n",
    "\n",
    "    check_python_ver(min_py_ver=REQ_PYTHON_VER)\n",
    "    try:\n",
    "        check_mp_ver(min_msticpy_ver=REQ_MSTICPY_VER)\n",
    "    except ImportError:\n",
    "        !pip install --upgrade msticpy\n",
    "        if \"msticpy\" in sys.modules:\n",
    "            importlib.reload(sys.modules[\"msticpy\"])\n",
    "        else:\n",
    "            import msticpy\n",
    "        check_mp_ver(REQ_MSTICPY_VER)\n",
    "            \n",
    "\n",
    "# If not using Azure Notebooks, install msticpy with\n",
    "# !pip install msticpy\n",
    "from msticpy.nbtools import nbinit\n",
    "extra_imports = [\n",
    "    \"msticpy.nbtools, observationlist\",\n",
    "    \"msticpy.nbtools.foliummap, get_map_center\",\n",
    "    \"msticpy.common.exceptions, MsticpyException\",\n",
    "    \"msticpy.sectools.syslog_utils, create_host_record\",\n",
    "    \"msticpy.sectools.syslog_utils, cluster_syslog_logons_df\",\n",
    "    \"msticpy.sectools.syslog_utils, risky_sudo_sessions\",\n",
    "    \"msticpy.sectools.ip_utils, convert_to_ip_entities\",\n",
    "    \"msticpy.sectools, auditdextract\",\n",
    "    \"msticpy.sectools.cmd_line, risky_cmd_line\",\n",
    "    \"pyvis.network, Network\",\n",
    "    \"re\",\n",
    "    \"math, pi\",\n",
    "    \"ipwhois, IPWhois\",\n",
    "    \"bokeh.plotting, show\",\n",
    "    \"bokeh.plotting, Row\",\n",
    "    \"bokeh.models, ColumnDataSource\",\n",
    "    \"bokeh.models, FactorRange\",\n",
    "    \"bokeh.transform, factor_cmap\",\n",
    "    \"bokeh.transform, cumsum\",\n",
    "    \"bokeh.palettes, viridis\",\n",
    "    \"dns, reversename\",\n",
    "    \"dns, resolver\",\n",
    "    \"ipaddress, ip_address\",\n",
    "    \"functools, lru_cache\",\n",
    "    \"datetime,,dt\"\n",
    "]\n",
    "additional_packages = [\n",
    "    \"oauthlib\", \"pyvis\", \"python-whois\"\n",
    "]\n",
    "nbinit.init_notebook(\n",
    "    namespace=globals(),\n",
    "    additional_packages=additional_packages,\n",
    "    extra_imports=extra_imports,\n",
    ");\n",
    "\n",
    "WIDGET_DEFAULTS = {\n",
    "    \"layout\": widgets.Layout(width=\"95%\"),\n",
    "    \"style\": {\"description_width\": \"initial\"},\n",
    "}\n",
    "from bokeh.plotting import figure"
   ]
  },
  {
   "cell_type": "code",
   "execution_count": 2,
   "metadata": {
    "ExecuteTime": {
     "start_time": "2019-09-05T18:05:09.026Z"
    }
   },
   "outputs": [
    {
     "ename": "SyntaxError",
     "evalue": "invalid syntax (<ipython-input-2-34b4cdb09b47>, line 2)",
     "output_type": "error",
     "traceback": [
      "\u001b[1;36m  File \u001b[1;32m\"<ipython-input-2-34b4cdb09b47>\"\u001b[1;36m, line \u001b[1;32m2\u001b[0m\n\u001b[1;33m    <details>\u001b[0m\n\u001b[1;37m    ^\u001b[0m\n\u001b[1;31mSyntaxError\u001b[0m\u001b[1;31m:\u001b[0m invalid syntax\n"
     ]
    }
   ],
   "source": [
    "### Get WorkspaceId and Authenticate to Log Analytics\n",
    "<details>\n",
    "    <summary> <u>Details...</u></summary>\n",
    "If you are using user/device authentication, run the following cell. \n",
    "- Click the 'Copy code to clipboard and authenticate' button.\n",
    "- This will pop up an Azure Active Directory authentication dialog (in a new tab or browser window). The device code will have been copied to the clipboard. \n",
    "- Select the text box and paste (Ctrl-V/Cmd-V) the copied value. \n",
    "- You should then be redirected to a user authentication page where you should authenticate with a user account that has permission to query your Log Analytics workspace.\n",
    "\n",
    "Use the following syntax if you are authenticating using an Azure Active Directory AppId and Secret:\n",
    "```\n",
    "%kql loganalytics://tenant(aad_tenant).workspace(WORKSPACE_ID).clientid(client_id).clientsecret(client_secret)\n",
    "```\n",
    "instead of\n",
    "```\n",
    "%kql loganalytics://code().workspace(WORKSPACE_ID)\n",
    "```\n",
    "\n",
    "Note: you may occasionally see a JavaScript error displayed at the end of the authentication - you can safely ignore this.<br>\n",
    "On successful authentication you should see a ```popup schema``` button.\n",
    "To find your Workspace Id go to [Log Analytics](https://ms.portal.azure.com/#blade/HubsExtension/Resources/resourceType/Microsoft.OperationalInsights%2Fworkspaces). Look at the workspace properties to find the ID.\n",
    "</details>"
   ]
  },
  {
   "cell_type": "code",
   "execution_count": 3,
   "metadata": {
    "ExecuteTime": {
     "end_time": "2020-06-24T01:51:59.434663Z",
     "start_time": "2020-06-24T01:51:59.420592Z"
    }
   },
   "outputs": [
    {
     "data": {
      "text/html": [
       "<p style=''>Workspace details collected from config file</p>"
      ],
      "text/plain": [
       "<IPython.core.display.HTML object>"
      ]
     },
     "metadata": {},
     "output_type": "display_data"
    }
   ],
   "source": [
    "#See if we have an Azure Sentinel Workspace defined in our config file, if not let the user specify Workspace and Tenant IDs\n",
    "from msticpy.nbtools.wsconfig import WorkspaceConfig\n",
    "ws_config = WorkspaceConfig()\n",
    "try:\n",
    "    ws_id = ws_config['workspace_id']\n",
    "    ten_id = ws_config['tenant_id']\n",
    "    \n",
    "    md(\"Workspace details collected from config file\")\n",
    "    config = True\n",
    "except:\n",
    "    md('Please go to your Log Analytics workspace, copy the workspace ID'\n",
    "                 ' and/or tenant Id and paste here to enable connection to the workspace and querying of it..<br> ')\n",
    "    ws_id = nbwidgets.GetEnvironmentKey(env_var='WORKSPACE_ID',\n",
    "                                        prompt='Please enter your Log Analytics Workspace Id:', auto_display=True)\n",
    "    ten_id = nbwidgets.GetEnvironmentKey(env_var='TENANT_ID',\n",
    "                                         prompt='Please enter your Log Analytics Tenant Id:', auto_display=True)\n",
    "    config = False\n"
   ]
  },
  {
   "cell_type": "code",
   "execution_count": 4,
   "metadata": {
    "ExecuteTime": {
     "end_time": "2020-06-24T01:52:41.282988Z",
     "start_time": "2020-06-24T01:52:00.925257Z"
    }
   },
   "outputs": [
    {
     "name": "stdout",
     "output_type": "stream",
     "text": [
      "Please wait. Loading Kqlmagic extension...\n"
     ]
    },
    {
     "data": {
      "application/javascript": [
       "try {IPython.notebook.kernel.reconnect();} catch(err) {;}"
      ],
      "text/plain": [
       "<IPython.core.display.Javascript object>"
      ]
     },
     "metadata": {},
     "output_type": "display_data"
    },
    {
     "data": {
      "application/javascript": [
       "try {IPython.notebook.kernel.execute(\"NOTEBOOK_URL = '\" + window.location + \"'\");} catch(err) {;}"
      ],
      "text/plain": [
       "<IPython.core.display.Javascript object>"
      ]
     },
     "metadata": {},
     "output_type": "display_data"
    },
    {
     "name": "stdout",
     "output_type": "stream",
     "text": [
      "C:\\Python\\Lib\\site-packages\\msticpy\\data\\queries\\kql_mdatp_hunting.yaml is not a valid query definition file - skipping.\n"
     ]
    },
    {
     "data": {
      "application/javascript": [
       "try {IPython.notebook.kernel.execute(\"NOTEBOOK_URL = '\" + window.location + \"'\");} catch(err) {;}"
      ],
      "text/plain": [
       "<IPython.core.display.Javascript object>"
      ]
     },
     "metadata": {},
     "output_type": "display_data"
    },
    {
     "data": {
      "text/html": [
       "<!DOCTYPE html>\n",
       "            <html><body>\n",
       "            <div style=''>\n",
       "            \n",
       "            <button onclick=\"this.style.visibility='visible';\n",
       "            kql_MagicLaunchWindowFunction('kqlmagic/temp_files/000b1064-9d3e-423d-8a55-ca1b91e54a3a/_5276df1f-13f1-450d-b45a-f93931f64a20_at_loganalytics_schema.html', 'fullscreen=no,directories=no,location=no,menubar=no,resizable=yes,scrollbars=yes,status=no,titlebar=no,toolbar=no,', '_5276df1f_13f1_450d_b45a_f93931f64a20_at_loganalytics_schema', '');\n",
       "            kql_MagicCloseWindow(kql_Magic__5276df1f_13f1_450d_b45a_f93931f64a20_at_loganalytics_schema, -1, -1);\">\n",
       "            popup schema 5276df1f-13f1-450d-b45a-f93931f64a20@loganalytics</button>\n",
       "            </div>\n",
       "\n",
       "            <script>\n",
       "            var kql_Magic__5276df1f_13f1_450d_b45a_f93931f64a20_at_loganalytics_schema = null;\n",
       "\n",
       "\n",
       "            function kql_MagicCloseWindow(window_obj, obj_secs, itself_secs) {\n",
       "                if (obj_secs >= 0) {\n",
       "                    _timeout = setTimeout(function(){\n",
       "                        window_obj.close();\n",
       "                        if (itself_secs >= 0) {\n",
       "                            __timeout = setTimeout(function(){window.close();}, itself_secs * 1000);\n",
       "                        }\n",
       "                    }, obj_secs * 1000);\n",
       "                } else if (itself_secs >= 0) {\n",
       "                    _timeout = setTimeout(function(){window.close();}, itself_secs * 1000);\n",
       "                }\n",
       "            }\n",
       "\n",
       "            function kql_MagicLaunchWindowFunction(file_path, window_params, window_name, host_or_text) {\n",
       "                var url;\n",
       "                if (host_or_text == 'text') {\n",
       "                    url = ''\n",
       "                } else if (file_path.startsWith('http')) {\n",
       "                    url = file_path;\n",
       "                } else {\n",
       "                    var base_url = '';\n",
       "\n",
       "                    // check if azure notebook\n",
       "                    var azure_host = (host_or_text == null || host_or_text.length == 0) ? 'https://notebooks.azure.com' : host_or_text;\n",
       "                    var start = azure_host.search('//');\n",
       "                    var azure_host_suffix = '.' + azure_host.substring(start+2);\n",
       "\n",
       "                    var loc = String(window.location);\n",
       "                    var end = loc.search(azure_host_suffix);\n",
       "                    start = loc.search('//');\n",
       "                    if (start > 0 && end > 0) {\n",
       "                        var parts = loc.substring(start+2, end).split('-');\n",
       "                        if (parts.length == 2) {\n",
       "                            var library = parts[0];\n",
       "                            var user = parts[1];\n",
       "                            base_url = azure_host + '/api/user/' +user+ '/library/' +library+ '/html/';\n",
       "                        }\n",
       "                    }\n",
       "\n",
       "                    // check if local jupyter lab\n",
       "                    if (base_url.length == 0) {\n",
       "                        var configDataScipt  = document.getElementById('jupyter-config-data');\n",
       "                        if (configDataScipt != null) {\n",
       "                            var jupyterConfigData = JSON.parse(configDataScipt.textContent);\n",
       "                            if (jupyterConfigData['appName'] == 'JupyterLab' && jupyterConfigData['serverRoot'] != null &&  jupyterConfigData['treeUrl'] != null) {\n",
       "                                var basePath = 'C:/GitHub/azseccheck/src/private/demos/mstiscpdemo' + '/';\n",
       "                                if (basePath.startsWith(jupyterConfigData['serverRoot'])) {\n",
       "                                    base_url = '/files/' + basePath.substring(jupyterConfigData['serverRoot'].length+1);\n",
       "                                }\n",
       "                            }\n",
       "                        }\n",
       "                    }\n",
       "\n",
       "                    // assume local jupyter notebook\n",
       "                    if (base_url.length == 0) {\n",
       "\n",
       "                        var parts = loc.split('/');\n",
       "                        parts.pop();\n",
       "                        base_url = parts.join('/') + '/';\n",
       "                    }\n",
       "                    url = base_url + file_path;\n",
       "                }\n",
       "\n",
       "                window.focus();\n",
       "                var w = screen.width / 2;\n",
       "                var h = screen.height / 2;\n",
       "                params = 'width='+w+',height='+h;\n",
       "                // kql_Magic + window_name should be a global variable \n",
       "                window_obj = window.open(url, window_name, window_params + params);\n",
       "                if (url == '') {\n",
       "                    var el = window_obj.document.createElement('p');\n",
       "                    window_obj.document.body.overflow = 'auto';\n",
       "                    el.style.top = 0;\n",
       "                    el.style.left = 0;\n",
       "                    el.innerHTML = file_path;\n",
       "                    window_obj.document.body.appendChild(el);\n",
       "                }\n",
       "                kql_Magic__5276df1f_13f1_450d_b45a_f93931f64a20_at_loganalytics_schema = window_obj;\n",
       "            }\n",
       "            </script>\n",
       "\n",
       "            </body></html>"
      ],
      "text/plain": [
       "<IPython.core.display.HTML object>"
      ]
     },
     "metadata": {},
     "output_type": "display_data"
    },
    {
     "data": {
      "application/javascript": [
       "try {IPython.notebook.kernel.execute(\"NOTEBOOK_URL = '\" + window.location + \"'\");} catch(err) {;}"
      ],
      "text/plain": [
       "<IPython.core.display.Javascript object>"
      ]
     },
     "metadata": {},
     "output_type": "display_data"
    }
   ],
   "source": [
    "# Establish a query provider for Azure Sentinel and connect to it\n",
    "if config is False:\n",
    "    ws_id = ws_id.value\n",
    "    ten_id = ten_id.value\n",
    "connect_str = \"loganalytics://tenant(ten_id).data_source_url('https://api.loganalytics.azure.cn').aad_url('https://login.chinacloudapi.cn').clientid('<your_client_id>').clientsecret('<your_client_secret>').workspace(ws_id)\"\n",
    "\n",
    "qry_prov = QueryProvider(data_environment='LogAnalytics')\n",
    "#qry_prov.connect(connection_str=ws_config.code_connect_str)\n",
    "qry_prov.connect(connect_str)\n"
   ]
  },
  {
   "cell_type": "markdown",
   "metadata": {},
   "source": [
    "## Set Hunting Time Frame\n",
    "To begin the hunt we need to et the time frame in which you wish to test your compromised host hunting hypothesis within. Use the widget below to select your start and end time for the hunt. "
   ]
  },
  {
   "cell_type": "code",
   "execution_count": 37,
   "metadata": {
    "ExecuteTime": {
     "end_time": "2020-06-24T01:52:41.392989Z",
     "start_time": "2020-06-24T01:52:41.334990Z"
    }
   },
   "outputs": [
    {
     "data": {
      "application/vnd.jupyter.widget-view+json": {
       "model_id": "7b227945ce4b4905a9322b1b39394c75",
       "version_major": 2,
       "version_minor": 0
      },
      "text/plain": [
       "HTML(value='<h4>Set query time boundaries</h4>')"
      ]
     },
     "metadata": {},
     "output_type": "display_data"
    },
    {
     "data": {
      "application/vnd.jupyter.widget-view+json": {
       "model_id": "5dbcef2dba4842e983922aaa5580d01b",
       "version_major": 2,
       "version_minor": 0
      },
      "text/plain": [
       "HBox(children=(DatePicker(value=datetime.date(2020, 10, 10), description='Origin Date'), Text(value='05:59:21.…"
      ]
     },
     "metadata": {},
     "output_type": "display_data"
    },
    {
     "data": {
      "application/vnd.jupyter.widget-view+json": {
       "model_id": "61a34225cc384d62ba3f65840cfa8182",
       "version_major": 2,
       "version_minor": 0
      },
      "text/plain": [
       "VBox(children=(IntRangeSlider(value=(-1, 1), description='Time Range (day):', layout=Layout(width='80%'), max=…"
      ]
     },
     "metadata": {},
     "output_type": "display_data"
    }
   ],
   "source": [
    "query_times = nbwidgets.QueryTime(units='day',\n",
    "                                  max_before=14, max_after=7, before=1)\n",
    "query_times.display()"
   ]
  },
  {
   "cell_type": "markdown",
   "metadata": {},
   "source": [
    "### Select Host to Investigate\n",
    "Select the host you want to test your hunting hypothesis against, only hosts with Syslog data within the time frame you specified are available. If the host you wish to select is not present try adjusting your time frame."
   ]
  },
  {
   "cell_type": "code",
   "execution_count": 39,
   "metadata": {},
   "outputs": [
    {
     "data": {
      "text/html": [
       "<p style=''>Collecting avaliable host details...</p>"
      ],
      "text/plain": [
       "<IPython.core.display.HTML object>"
      ]
     },
     "metadata": {},
     "output_type": "display_data"
    },
    {
     "data": {
      "application/vnd.jupyter.widget-view+json": {
       "model_id": "75abaf325bb44d2fad113ce600a48a7a",
       "version_major": 2,
       "version_minor": 0
      },
      "text/plain": [
       "VBox(children=(Text(value='', description='Filter:', style=DescriptionStyle(description_width='initial')), Sel…"
      ]
     },
     "metadata": {},
     "output_type": "display_data"
    },
    {
     "data": {
      "text/html": [
       "<hr>"
      ],
      "text/plain": [
       "<IPython.core.display.HTML object>"
      ]
     },
     "metadata": {},
     "output_type": "display_data"
    }
   ],
   "source": [
    "#Get a list of hosts with syslog data in our hunting timegframe to provide easy selection\n",
    "syslog_query = f\"\"\"Syslog | where TimeGenerated between (datetime({query_times.start}) .. datetime({query_times.end})) | summarize by Computer\"\"\"\n",
    "md(\"Collecting avaliable host details...\")\n",
    "hosts_list = qry_prov._query_provider.query(query=syslog_query)\n",
    "if isinstance(hosts_list, pd.DataFrame) and not hosts_list.empty:\n",
    "    hosts = hosts_list[\"Computer\"].unique().tolist()\n",
    "    host_text = nbwidgets.SelectItem(description='Select host to investigate: ', \n",
    "                             item_list=hosts, width='75%', auto_display=True)\n",
    "else:\n",
    "    display(md(\"There are no hosts with syslog data in this time period to investigate\"))"
   ]
  },
  {
   "cell_type": "markdown",
   "metadata": {},
   "source": [
    "## Host Summary\n",
    "Below is a overview of the selected host based on available data sources."
   ]
  },
  {
   "cell_type": "code",
   "execution_count": 40,
   "metadata": {},
   "outputs": [
    {
     "data": {
      "text/html": [
       "<p style=''>k8skindvm</p>"
      ],
      "text/plain": [
       "<IPython.core.display.HTML object>"
      ]
     },
     "metadata": {},
     "output_type": "display_data"
    },
    {
     "name": "stdout",
     "output_type": "stream",
     "text": [
      "Getting network data...\n",
      "Getting host data...\n"
     ]
    },
    {
     "data": {
      "text/html": [
       "<p style=''><b>Host Details</b><br><b>Hostname</b>: k8skindvm<br><b>OS</b>: Linux Ubuntu<br><b>IP Address</b>: 139.217.236.128<br><b>Location</b>: People's Republic of China<br><b>Installed Applications</b>: ['kernel', 'rsyslogd-2222', 'rsyslogd-2207', 'rsyslogd-2184', 'rsyslogd-3000', 'rsyslogd-2039', 'rsyslogd-2007', 'rsyslogd-2359']<br></p>"
      ],
      "text/plain": [
       "<IPython.core.display.HTML object>"
      ]
     },
     "metadata": {},
     "output_type": "display_data"
    }
   ],
   "source": [
    "hostname=host_text.value\n",
    "md(hostname)\n",
    "az_net_df = None\n",
    "# Collect data on the host\n",
    "all_syslog_query = f\"Syslog | where TimeGenerated between (datetime({query_times.start}) .. datetime({query_times.end})) | where Computer =~ '{hostname}'\"\"\"\n",
    "all_syslog_data = qry_prov.exec_query(all_syslog_query)\n",
    "if isinstance(all_syslog_data, pd.DataFrame) and not all_syslog_data.empty:\n",
    "    heartbeat_query = f\"\"\"Heartbeat | where TimeGenerated >= datetime({query_times.start}) | where TimeGenerated <= datetime({query_times.end})| where Computer == '{hostname}' | top 1 by TimeGenerated desc nulls last\"\"\"\n",
    "    if \"AzureNetworkAnalytics_CL\" in qry_prov.schema:\n",
    "        aznet_query = f\"\"\"AzureNetworkAnalytics_CL | where TimeGenerated >= datetime({query_times.start}) | where TimeGenerated <= datetime({query_times.end}) | where VirtualMachine_s has '{hostname}' | where ResourceType == 'NetworkInterface' | top 1 by TimeGenerated desc | project PrivateIPAddresses = PrivateIPAddresses_s, PublicIPAddresses = PublicIPAddresses_s\"\"\"\n",
    "        print(\"Getting network data...\")\n",
    "        az_net_df = qry_prov.exec_query(query=aznet_query)\n",
    "    print(\"Getting host data...\")\n",
    "    host_hb = qry_prov.exec_query(query=heartbeat_query)\n",
    "\n",
    "    # Create host entity record, with Azure network data if any is avaliable\n",
    "    if az_net_df is not None and isinstance(az_net_df, pd.DataFrame) and not az_net_df.empty:\n",
    "        host_entity = create_host_record(syslog_df=all_syslog_data, heartbeat_df=host_hb, az_net_df=az_net_df)\n",
    "    else:\n",
    "        host_entity = create_host_record(syslog_df=all_syslog_data, heartbeat_df=host_hb)\n",
    "\n",
    "    md(\n",
    "                \"<b>Host Details</b><br>\"\n",
    "                f\"<b>Hostname</b>: {host_entity.computer}<br>\"\n",
    "                f\"<b>OS</b>: {host_entity.OSType} {host_entity.OSName}<br>\"\n",
    "                f\"<b>IP Address</b>: {host_entity.IPAddress.Address}<br>\"\n",
    "                f\"<b>Location</b>: {host_entity.IPAddress.Location.CountryName}<br>\"\n",
    "                f\"<b>Installed Applications</b>: {host_entity.Applications}<br>\"\n",
    "            )\n",
    "else:\n",
    "    md_warn(\"No Syslog data found, check hostname and timeframe.\")\n",
    "    md(\"The data query may be timing out, consider reducing the timeframe size.\")"
   ]
  },
  {
   "cell_type": "markdown",
   "metadata": {},
   "source": [
    "### Host Alerts & Bookmarks\n",
    "This section provides an overview of any security alerts or Hunting Bookmarks in Azure Sentinel related to this host, this will help scope and guide our hunt."
   ]
  },
  {
   "cell_type": "code",
   "execution_count": 41,
   "metadata": {},
   "outputs": [
    {
     "data": {
      "text/html": [
       "<p style=''>No related alerts found.</p>"
      ],
      "text/plain": [
       "<IPython.core.display.HTML object>"
      ]
     },
     "metadata": {},
     "output_type": "display_data"
    },
    {
     "data": {
      "text/html": [
       "<p style=''>No related bookmarks found.</p>"
      ],
      "text/plain": [
       "<IPython.core.display.HTML object>"
      ]
     },
     "metadata": {},
     "output_type": "display_data"
    }
   ],
   "source": [
    "related_alerts = qry_prov.SecurityAlert.list_related_alerts(\n",
    "    query_times, host_name=hostname)\n",
    "# skip bookmark check\n",
    "# realted_bookmarks = qry_prov.AzureSentinel.list_bookmarks_for_entity(query_times, entity_id=hostname)\n",
    "if isinstance(related_alerts, pd.DataFrame) and not related_alerts.empty:\n",
    "    host_alert_items = (related_alerts[['AlertName', 'TimeGenerated']]\n",
    "                        .groupby('AlertName').TimeGenerated.agg('count').to_dict())\n",
    "\n",
    "    def print_related_alerts(alertDict, entityType, entityName):\n",
    "        if len(alertDict) > 0:\n",
    "            md(f\"Found {len(alertDict)} different alert types related to this {entityType} (\\'{entityName}\\')\")\n",
    "            for (k, v) in alertDict.items():\n",
    "                md(f\"- {k}, Count of alerts: {v}\")\n",
    "        else:\n",
    "            md(f\"No alerts for {entityType} entity \\'{entityName}\\'\")\n",
    "\n",
    "    print_related_alerts(host_alert_items, 'host', host_entity.HostName)\n",
    "    nbdisplay.display_timeline(\n",
    "        data=related_alerts, source_columns=[\"AlertName\"], title=\"Host alerts over time\", height=300, color=\"red\")\n",
    "else:\n",
    "    md('No related alerts found.')\n",
    "    \n",
    "#if isinstance(realted_bookmarks, pd.DataFrame) and not realted_bookmarks.empty:\n",
    "#    nbdisplay.display_timeline(data=realted_bookmarks, source_columns=[\"BookmarkName\"], height=200, color=\"orange\", title=\"Host bookmarks over time\",)\n",
    "#else:\n",
    "    md('No related bookmarks found.')"
   ]
  },
  {
   "cell_type": "code",
   "execution_count": 42,
   "metadata": {
    "ExecuteTime": {
     "end_time": "2020-06-24T01:53:31.887372Z",
     "start_time": "2020-06-24T01:53:31.826372Z"
    }
   },
   "outputs": [
    {
     "data": {
      "text/html": [
       "<p style=''>No related alerts found.</p>"
      ],
      "text/plain": [
       "<IPython.core.display.HTML object>"
      ]
     },
     "metadata": {},
     "output_type": "display_data"
    }
   ],
   "source": [
    "rel_alert_select = None\n",
    "\n",
    "def show_full_alert(selected_alert):\n",
    "    global security_alert, alert_ip_entities\n",
    "    security_alert = SecurityAlert(\n",
    "        rel_alert_select.selected_alert)\n",
    "    nbdisplay.display_alert(security_alert, show_entities=True)\n",
    "\n",
    "# Show selected alert when selected\n",
    "if isinstance(related_alerts, pd.DataFrame) and not related_alerts.empty:\n",
    "    related_alerts['CompromisedEntity'] = related_alerts['Computer']\n",
    "    md('### Click on alert to view details.')\n",
    "    rel_alert_select = nbwidgets.SelectAlert(alerts=related_alerts,\n",
    "                                               action=show_full_alert)\n",
    "    rel_alert_select.display()\n",
    "else:\n",
    "    md('No related alerts found.')"
   ]
  },
  {
   "cell_type": "markdown",
   "metadata": {},
   "source": [
    "## Re-scope Hunting Time Frame\n",
    "Based on the security alerts for this host we can choose to re-scope our hunting time frame."
   ]
  },
  {
   "cell_type": "code",
   "execution_count": 44,
   "metadata": {
    "ExecuteTime": {
     "end_time": "2020-06-24T01:53:32.233372Z",
     "start_time": "2020-06-24T01:53:32.172372Z"
    }
   },
   "outputs": [
    {
     "data": {
      "application/vnd.jupyter.widget-view+json": {
       "model_id": "131785e52e74489ca1393b60b23e05ae",
       "version_major": 2,
       "version_minor": 0
      },
      "text/plain": [
       "HTML(value='<h4>Set query time boundaries</h4>')"
      ]
     },
     "metadata": {},
     "output_type": "display_data"
    },
    {
     "data": {
      "application/vnd.jupyter.widget-view+json": {
       "model_id": "017d2d3f62d44e009751e8b08e22d422",
       "version_major": 2,
       "version_minor": 0
      },
      "text/plain": [
       "HBox(children=(DatePicker(value=datetime.date(2020, 10, 9), description='Origin Date'), Text(value='05:59:21.6…"
      ]
     },
     "metadata": {},
     "output_type": "display_data"
    },
    {
     "data": {
      "application/vnd.jupyter.widget-view+json": {
       "model_id": "6555a30c6ba14d858a5a9bd4a0185a7d",
       "version_major": 2,
       "version_minor": 0
      },
      "text/plain": [
       "VBox(children=(IntRangeSlider(value=(-14, 1), description='Time Range (day):', layout=Layout(width='80%'), max…"
      ]
     },
     "metadata": {},
     "output_type": "display_data"
    }
   ],
   "source": [
    "if rel_alert_select is None or rel_alert_select.selected_alert is None:\n",
    "    start = query_times.start\n",
    "else:\n",
    "    start = rel_alert_select.selected_alert['TimeGenerated']\n",
    "\n",
    "# Set new investigation time windows based on the selected alert\n",
    "invest_times = nbwidgets.QueryTime(\n",
    "    units='day', max_before=24, max_after=12, before=14, after=1, origin_time=start)\n",
    "invest_times.display()"
   ]
  },
  {
   "cell_type": "markdown",
   "metadata": {},
   "source": [
    "## How to use this Notebook\n",
    "Whilst this notebook is linear in layout it doesn't need to be linear in usage. We have selected our host to investigate and set an initial hunting time-frame to work within. We can now start to test more specific hunting hypothesis with the aim of validating our broader initial hunting hypothesis. To do this we can start by looking at:\n",
    "- <a>Host Logon Events</a>\n",
    "- <a>User Activity</a>\n",
    "- <a>Application Activity</a>\n",
    "- <a>Network Activity</a>\n",
    "\n",
    "You can choose to start below with a hunt in host logon events or choose to jump to one of the other sections listed above. The order in which you choose to run each of these major sections doesn't matter, they are each self contained. You may also choose to rerun sections based on your findings from running other sections."
   ]
  },
  {
   "cell_type": "markdown",
   "metadata": {},
   "source": [
    "This notebook uses external threat intelligence sources to enrich data. The next cell loads the TILookup class.\n",
    "> **Note**: to use TILookup you will need configuration settings in your msticpyconfig.yaml\n",
    "> <br>see [TIProviders documenation](https://msticpy.readthedocs.io/en/latest/TIProviders.html)\n",
    "> <br>and [Configuring Notebook Environment notebook](./ConfiguringNotebookEnvironment.ipynb)\n",
    "> <br>or [ConfiguringNotebookEnvironment (GitHub static view)](https://github.com/Azure/Azure-Sentinel-Notebooks/blob/master/ConfiguringNotebookEnvironment.ipynb)"
   ]
  },
  {
   "cell_type": "code",
   "execution_count": 45,
   "metadata": {},
   "outputs": [
    {
     "data": {
      "text/html": [
       "<p style=''>Threat intelligence provider loading complete.</p>"
      ],
      "text/plain": [
       "<IPython.core.display.HTML object>"
      ]
     },
     "metadata": {},
     "output_type": "display_data"
    },
    {
     "data": {
      "text/html": [
       "<p style=''><msticpy.sectools.tilookup.TILookup object at 0x00000227EDFD69E8></p>"
      ],
      "text/plain": [
       "<IPython.core.display.HTML object>"
      ]
     },
     "metadata": {},
     "output_type": "display_data"
    }
   ],
   "source": [
    "tilookup = TILookup()\n",
    "md(\"Threat intelligence provider loading complete.\")\n",
    "md(tilookup)"
   ]
  },
  {
   "cell_type": "markdown",
   "metadata": {},
   "source": [
    "## Host Logon Events\n",
    "**Hypothesis:** That an attacker has gained legitimate access to the host via compromised credentials and has logged into the host to conduct malicious activity. \n",
    "\n",
    "This section provides an overview of logon activity for the host within our hunting time frame, the purpose of this is to allow for the identification of anomalous logons or attempted logons."
   ]
  },
  {
   "cell_type": "code",
   "execution_count": 49,
   "metadata": {},
   "outputs": [
    {
     "data": {
      "text/markdown": [
       "### Timeline of sucessful host logons."
      ],
      "text/plain": [
       "<IPython.core.display.Markdown object>"
      ]
     },
     "metadata": {},
     "output_type": "display_data"
    },
    {
     "data": {
      "text/html": [
       "\n",
       "    <div class=\"bk-root\">\n",
       "        <a href=\"https://bokeh.org\" target=\"_blank\" class=\"bk-logo bk-logo-small bk-logo-notebook\"></a>\n",
       "        <span id=\"2139\">Loading BokehJS ...</span>\n",
       "    </div>"
      ]
     },
     "metadata": {},
     "output_type": "display_data"
    },
    {
     "data": {
      "application/javascript": [
       "\n",
       "(function(root) {\n",
       "  function now() {\n",
       "    return new Date();\n",
       "  }\n",
       "\n",
       "  var force = true;\n",
       "\n",
       "  if (typeof root._bokeh_onload_callbacks === \"undefined\" || force === true) {\n",
       "    root._bokeh_onload_callbacks = [];\n",
       "    root._bokeh_is_loading = undefined;\n",
       "  }\n",
       "\n",
       "  var JS_MIME_TYPE = 'application/javascript';\n",
       "  var HTML_MIME_TYPE = 'text/html';\n",
       "  var EXEC_MIME_TYPE = 'application/vnd.bokehjs_exec.v0+json';\n",
       "  var CLASS_NAME = 'output_bokeh rendered_html';\n",
       "\n",
       "  /**\n",
       "   * Render data to the DOM node\n",
       "   */\n",
       "  function render(props, node) {\n",
       "    var script = document.createElement(\"script\");\n",
       "    node.appendChild(script);\n",
       "  }\n",
       "\n",
       "  /**\n",
       "   * Handle when an output is cleared or removed\n",
       "   */\n",
       "  function handleClearOutput(event, handle) {\n",
       "    var cell = handle.cell;\n",
       "\n",
       "    var id = cell.output_area._bokeh_element_id;\n",
       "    var server_id = cell.output_area._bokeh_server_id;\n",
       "    // Clean up Bokeh references\n",
       "    if (id != null && id in Bokeh.index) {\n",
       "      Bokeh.index[id].model.document.clear();\n",
       "      delete Bokeh.index[id];\n",
       "    }\n",
       "\n",
       "    if (server_id !== undefined) {\n",
       "      // Clean up Bokeh references\n",
       "      var cmd = \"from bokeh.io.state import curstate; print(curstate().uuid_to_server['\" + server_id + \"'].get_sessions()[0].document.roots[0]._id)\";\n",
       "      cell.notebook.kernel.execute(cmd, {\n",
       "        iopub: {\n",
       "          output: function(msg) {\n",
       "            var id = msg.content.text.trim();\n",
       "            if (id in Bokeh.index) {\n",
       "              Bokeh.index[id].model.document.clear();\n",
       "              delete Bokeh.index[id];\n",
       "            }\n",
       "          }\n",
       "        }\n",
       "      });\n",
       "      // Destroy server and session\n",
       "      var cmd = \"import bokeh.io.notebook as ion; ion.destroy_server('\" + server_id + \"')\";\n",
       "      cell.notebook.kernel.execute(cmd);\n",
       "    }\n",
       "  }\n",
       "\n",
       "  /**\n",
       "   * Handle when a new output is added\n",
       "   */\n",
       "  function handleAddOutput(event, handle) {\n",
       "    var output_area = handle.output_area;\n",
       "    var output = handle.output;\n",
       "\n",
       "    // limit handleAddOutput to display_data with EXEC_MIME_TYPE content only\n",
       "    if ((output.output_type != \"display_data\") || (!output.data.hasOwnProperty(EXEC_MIME_TYPE))) {\n",
       "      return\n",
       "    }\n",
       "\n",
       "    var toinsert = output_area.element.find(\".\" + CLASS_NAME.split(' ')[0]);\n",
       "\n",
       "    if (output.metadata[EXEC_MIME_TYPE][\"id\"] !== undefined) {\n",
       "      toinsert[toinsert.length - 1].firstChild.textContent = output.data[JS_MIME_TYPE];\n",
       "      // store reference to embed id on output_area\n",
       "      output_area._bokeh_element_id = output.metadata[EXEC_MIME_TYPE][\"id\"];\n",
       "    }\n",
       "    if (output.metadata[EXEC_MIME_TYPE][\"server_id\"] !== undefined) {\n",
       "      var bk_div = document.createElement(\"div\");\n",
       "      bk_div.innerHTML = output.data[HTML_MIME_TYPE];\n",
       "      var script_attrs = bk_div.children[0].attributes;\n",
       "      for (var i = 0; i < script_attrs.length; i++) {\n",
       "        toinsert[toinsert.length - 1].firstChild.setAttribute(script_attrs[i].name, script_attrs[i].value);\n",
       "        toinsert[toinsert.length - 1].firstChild.textContent = bk_div.children[0].textContent\n",
       "      }\n",
       "      // store reference to server id on output_area\n",
       "      output_area._bokeh_server_id = output.metadata[EXEC_MIME_TYPE][\"server_id\"];\n",
       "    }\n",
       "  }\n",
       "\n",
       "  function register_renderer(events, OutputArea) {\n",
       "\n",
       "    function append_mime(data, metadata, element) {\n",
       "      // create a DOM node to render to\n",
       "      var toinsert = this.create_output_subarea(\n",
       "        metadata,\n",
       "        CLASS_NAME,\n",
       "        EXEC_MIME_TYPE\n",
       "      );\n",
       "      this.keyboard_manager.register_events(toinsert);\n",
       "      // Render to node\n",
       "      var props = {data: data, metadata: metadata[EXEC_MIME_TYPE]};\n",
       "      render(props, toinsert[toinsert.length - 1]);\n",
       "      element.append(toinsert);\n",
       "      return toinsert\n",
       "    }\n",
       "\n",
       "    /* Handle when an output is cleared or removed */\n",
       "    events.on('clear_output.CodeCell', handleClearOutput);\n",
       "    events.on('delete.Cell', handleClearOutput);\n",
       "\n",
       "    /* Handle when a new output is added */\n",
       "    events.on('output_added.OutputArea', handleAddOutput);\n",
       "\n",
       "    /**\n",
       "     * Register the mime type and append_mime function with output_area\n",
       "     */\n",
       "    OutputArea.prototype.register_mime_type(EXEC_MIME_TYPE, append_mime, {\n",
       "      /* Is output safe? */\n",
       "      safe: true,\n",
       "      /* Index of renderer in `output_area.display_order` */\n",
       "      index: 0\n",
       "    });\n",
       "  }\n",
       "\n",
       "  // register the mime type if in Jupyter Notebook environment and previously unregistered\n",
       "  if (root.Jupyter !== undefined) {\n",
       "    var events = require('base/js/events');\n",
       "    var OutputArea = require('notebook/js/outputarea').OutputArea;\n",
       "\n",
       "    if (OutputArea.prototype.mime_types().indexOf(EXEC_MIME_TYPE) == -1) {\n",
       "      register_renderer(events, OutputArea);\n",
       "    }\n",
       "  }\n",
       "\n",
       "  \n",
       "  if (typeof (root._bokeh_timeout) === \"undefined\" || force === true) {\n",
       "    root._bokeh_timeout = Date.now() + 5000;\n",
       "    root._bokeh_failed_load = false;\n",
       "  }\n",
       "\n",
       "  var NB_LOAD_WARNING = {'data': {'text/html':\n",
       "     \"<div style='background-color: #fdd'>\\n\"+\n",
       "     \"<p>\\n\"+\n",
       "     \"BokehJS does not appear to have successfully loaded. If loading BokehJS from CDN, this \\n\"+\n",
       "     \"may be due to a slow or bad network connection. Possible fixes:\\n\"+\n",
       "     \"</p>\\n\"+\n",
       "     \"<ul>\\n\"+\n",
       "     \"<li>re-rerun `output_notebook()` to attempt to load from CDN again, or</li>\\n\"+\n",
       "     \"<li>use INLINE resources instead, as so:</li>\\n\"+\n",
       "     \"</ul>\\n\"+\n",
       "     \"<code>\\n\"+\n",
       "     \"from bokeh.resources import INLINE\\n\"+\n",
       "     \"output_notebook(resources=INLINE)\\n\"+\n",
       "     \"</code>\\n\"+\n",
       "     \"</div>\"}};\n",
       "\n",
       "  function display_loaded() {\n",
       "    var el = document.getElementById(\"2139\");\n",
       "    if (el != null) {\n",
       "      el.textContent = \"BokehJS is loading...\";\n",
       "    }\n",
       "    if (root.Bokeh !== undefined) {\n",
       "      if (el != null) {\n",
       "        el.textContent = \"BokehJS \" + root.Bokeh.version + \" successfully loaded.\";\n",
       "      }\n",
       "    } else if (Date.now() < root._bokeh_timeout) {\n",
       "      setTimeout(display_loaded, 100)\n",
       "    }\n",
       "  }\n",
       "\n",
       "\n",
       "  function run_callbacks() {\n",
       "    try {\n",
       "      root._bokeh_onload_callbacks.forEach(function(callback) {\n",
       "        if (callback != null)\n",
       "          callback();\n",
       "      });\n",
       "    } finally {\n",
       "      delete root._bokeh_onload_callbacks\n",
       "    }\n",
       "    console.debug(\"Bokeh: all callbacks have finished\");\n",
       "  }\n",
       "\n",
       "  function load_libs(css_urls, js_urls, callback) {\n",
       "    if (css_urls == null) css_urls = [];\n",
       "    if (js_urls == null) js_urls = [];\n",
       "\n",
       "    root._bokeh_onload_callbacks.push(callback);\n",
       "    if (root._bokeh_is_loading > 0) {\n",
       "      console.debug(\"Bokeh: BokehJS is being loaded, scheduling callback at\", now());\n",
       "      return null;\n",
       "    }\n",
       "    if (js_urls == null || js_urls.length === 0) {\n",
       "      run_callbacks();\n",
       "      return null;\n",
       "    }\n",
       "    console.debug(\"Bokeh: BokehJS not loaded, scheduling load and callback at\", now());\n",
       "    root._bokeh_is_loading = css_urls.length + js_urls.length;\n",
       "\n",
       "    function on_load() {\n",
       "      root._bokeh_is_loading--;\n",
       "      if (root._bokeh_is_loading === 0) {\n",
       "        console.debug(\"Bokeh: all BokehJS libraries/stylesheets loaded\");\n",
       "        run_callbacks()\n",
       "      }\n",
       "    }\n",
       "\n",
       "    function on_error() {\n",
       "      console.error(\"failed to load \" + url);\n",
       "    }\n",
       "\n",
       "    for (var i = 0; i < css_urls.length; i++) {\n",
       "      var url = css_urls[i];\n",
       "      const element = document.createElement(\"link\");\n",
       "      element.onload = on_load;\n",
       "      element.onerror = on_error;\n",
       "      element.rel = \"stylesheet\";\n",
       "      element.type = \"text/css\";\n",
       "      element.href = url;\n",
       "      console.debug(\"Bokeh: injecting link tag for BokehJS stylesheet: \", url);\n",
       "      document.body.appendChild(element);\n",
       "    }\n",
       "\n",
       "    const hashes = {\"https://cdn.bokeh.org/bokeh/release/bokeh-2.2.1.min.js\": \"qkRvDQVAIfzsJo40iRBbxt6sttt0hv4lh74DG7OK4MCHv4C5oohXYoHUM5W11uqS\", \"https://cdn.bokeh.org/bokeh/release/bokeh-widgets-2.2.1.min.js\": \"Sb7Mr06a9TNlet/GEBeKaf5xH3eb6AlCzwjtU82wNPyDrnfoiVl26qnvlKjmcAd+\", \"https://cdn.bokeh.org/bokeh/release/bokeh-tables-2.2.1.min.js\": \"HaJ15vgfmcfRtB4c4YBOI4f1MUujukqInOWVqZJZZGK7Q+ivud0OKGSTn/Vm2iso\"};\n",
       "\n",
       "    for (var i = 0; i < js_urls.length; i++) {\n",
       "      var url = js_urls[i];\n",
       "      var element = document.createElement('script');\n",
       "      element.onload = on_load;\n",
       "      element.onerror = on_error;\n",
       "      element.async = false;\n",
       "      element.src = url;\n",
       "      if (url in hashes) {\n",
       "        element.crossOrigin = \"anonymous\";\n",
       "        element.integrity = \"sha384-\" + hashes[url];\n",
       "      }\n",
       "      console.debug(\"Bokeh: injecting script tag for BokehJS library: \", url);\n",
       "      document.head.appendChild(element);\n",
       "    }\n",
       "  };\n",
       "\n",
       "  function inject_raw_css(css) {\n",
       "    const element = document.createElement(\"style\");\n",
       "    element.appendChild(document.createTextNode(css));\n",
       "    document.body.appendChild(element);\n",
       "  }\n",
       "\n",
       "  \n",
       "  var js_urls = [\"https://cdn.bokeh.org/bokeh/release/bokeh-2.2.1.min.js\", \"https://cdn.bokeh.org/bokeh/release/bokeh-widgets-2.2.1.min.js\", \"https://cdn.bokeh.org/bokeh/release/bokeh-tables-2.2.1.min.js\"];\n",
       "  var css_urls = [];\n",
       "  \n",
       "\n",
       "  var inline_js = [\n",
       "    function(Bokeh) {\n",
       "      Bokeh.set_log_level(\"info\");\n",
       "    },\n",
       "    function(Bokeh) {\n",
       "    \n",
       "    \n",
       "    }\n",
       "  ];\n",
       "\n",
       "  function run_inline_js() {\n",
       "    \n",
       "    if (root.Bokeh !== undefined || force === true) {\n",
       "      \n",
       "    for (var i = 0; i < inline_js.length; i++) {\n",
       "      inline_js[i].call(root, root.Bokeh);\n",
       "    }\n",
       "    if (force === true) {\n",
       "        display_loaded();\n",
       "      }} else if (Date.now() < root._bokeh_timeout) {\n",
       "      setTimeout(run_inline_js, 100);\n",
       "    } else if (!root._bokeh_failed_load) {\n",
       "      console.log(\"Bokeh: BokehJS failed to load within specified timeout.\");\n",
       "      root._bokeh_failed_load = true;\n",
       "    } else if (force !== true) {\n",
       "      var cell = $(document.getElementById(\"2139\")).parents('.cell').data().cell;\n",
       "      cell.output_area.append_execute_result(NB_LOAD_WARNING)\n",
       "    }\n",
       "\n",
       "  }\n",
       "\n",
       "  if (root._bokeh_is_loading === 0) {\n",
       "    console.debug(\"Bokeh: BokehJS loaded, going straight to plotting\");\n",
       "    run_inline_js();\n",
       "  } else {\n",
       "    load_libs(css_urls, js_urls, function() {\n",
       "      console.debug(\"Bokeh: BokehJS plotting callback run at\", now());\n",
       "      run_inline_js();\n",
       "    });\n",
       "  }\n",
       "}(window));"
      ],
      "application/vnd.bokehjs_load.v0+json": "\n(function(root) {\n  function now() {\n    return new Date();\n  }\n\n  var force = true;\n\n  if (typeof root._bokeh_onload_callbacks === \"undefined\" || force === true) {\n    root._bokeh_onload_callbacks = [];\n    root._bokeh_is_loading = undefined;\n  }\n\n  \n\n  \n  if (typeof (root._bokeh_timeout) === \"undefined\" || force === true) {\n    root._bokeh_timeout = Date.now() + 5000;\n    root._bokeh_failed_load = false;\n  }\n\n  var NB_LOAD_WARNING = {'data': {'text/html':\n     \"<div style='background-color: #fdd'>\\n\"+\n     \"<p>\\n\"+\n     \"BokehJS does not appear to have successfully loaded. If loading BokehJS from CDN, this \\n\"+\n     \"may be due to a slow or bad network connection. Possible fixes:\\n\"+\n     \"</p>\\n\"+\n     \"<ul>\\n\"+\n     \"<li>re-rerun `output_notebook()` to attempt to load from CDN again, or</li>\\n\"+\n     \"<li>use INLINE resources instead, as so:</li>\\n\"+\n     \"</ul>\\n\"+\n     \"<code>\\n\"+\n     \"from bokeh.resources import INLINE\\n\"+\n     \"output_notebook(resources=INLINE)\\n\"+\n     \"</code>\\n\"+\n     \"</div>\"}};\n\n  function display_loaded() {\n    var el = document.getElementById(\"2139\");\n    if (el != null) {\n      el.textContent = \"BokehJS is loading...\";\n    }\n    if (root.Bokeh !== undefined) {\n      if (el != null) {\n        el.textContent = \"BokehJS \" + root.Bokeh.version + \" successfully loaded.\";\n      }\n    } else if (Date.now() < root._bokeh_timeout) {\n      setTimeout(display_loaded, 100)\n    }\n  }\n\n\n  function run_callbacks() {\n    try {\n      root._bokeh_onload_callbacks.forEach(function(callback) {\n        if (callback != null)\n          callback();\n      });\n    } finally {\n      delete root._bokeh_onload_callbacks\n    }\n    console.debug(\"Bokeh: all callbacks have finished\");\n  }\n\n  function load_libs(css_urls, js_urls, callback) {\n    if (css_urls == null) css_urls = [];\n    if (js_urls == null) js_urls = [];\n\n    root._bokeh_onload_callbacks.push(callback);\n    if (root._bokeh_is_loading > 0) {\n      console.debug(\"Bokeh: BokehJS is being loaded, scheduling callback at\", now());\n      return null;\n    }\n    if (js_urls == null || js_urls.length === 0) {\n      run_callbacks();\n      return null;\n    }\n    console.debug(\"Bokeh: BokehJS not loaded, scheduling load and callback at\", now());\n    root._bokeh_is_loading = css_urls.length + js_urls.length;\n\n    function on_load() {\n      root._bokeh_is_loading--;\n      if (root._bokeh_is_loading === 0) {\n        console.debug(\"Bokeh: all BokehJS libraries/stylesheets loaded\");\n        run_callbacks()\n      }\n    }\n\n    function on_error() {\n      console.error(\"failed to load \" + url);\n    }\n\n    for (var i = 0; i < css_urls.length; i++) {\n      var url = css_urls[i];\n      const element = document.createElement(\"link\");\n      element.onload = on_load;\n      element.onerror = on_error;\n      element.rel = \"stylesheet\";\n      element.type = \"text/css\";\n      element.href = url;\n      console.debug(\"Bokeh: injecting link tag for BokehJS stylesheet: \", url);\n      document.body.appendChild(element);\n    }\n\n    const hashes = {\"https://cdn.bokeh.org/bokeh/release/bokeh-2.2.1.min.js\": \"qkRvDQVAIfzsJo40iRBbxt6sttt0hv4lh74DG7OK4MCHv4C5oohXYoHUM5W11uqS\", \"https://cdn.bokeh.org/bokeh/release/bokeh-widgets-2.2.1.min.js\": \"Sb7Mr06a9TNlet/GEBeKaf5xH3eb6AlCzwjtU82wNPyDrnfoiVl26qnvlKjmcAd+\", \"https://cdn.bokeh.org/bokeh/release/bokeh-tables-2.2.1.min.js\": \"HaJ15vgfmcfRtB4c4YBOI4f1MUujukqInOWVqZJZZGK7Q+ivud0OKGSTn/Vm2iso\"};\n\n    for (var i = 0; i < js_urls.length; i++) {\n      var url = js_urls[i];\n      var element = document.createElement('script');\n      element.onload = on_load;\n      element.onerror = on_error;\n      element.async = false;\n      element.src = url;\n      if (url in hashes) {\n        element.crossOrigin = \"anonymous\";\n        element.integrity = \"sha384-\" + hashes[url];\n      }\n      console.debug(\"Bokeh: injecting script tag for BokehJS library: \", url);\n      document.head.appendChild(element);\n    }\n  };\n\n  function inject_raw_css(css) {\n    const element = document.createElement(\"style\");\n    element.appendChild(document.createTextNode(css));\n    document.body.appendChild(element);\n  }\n\n  \n  var js_urls = [\"https://cdn.bokeh.org/bokeh/release/bokeh-2.2.1.min.js\", \"https://cdn.bokeh.org/bokeh/release/bokeh-widgets-2.2.1.min.js\", \"https://cdn.bokeh.org/bokeh/release/bokeh-tables-2.2.1.min.js\"];\n  var css_urls = [];\n  \n\n  var inline_js = [\n    function(Bokeh) {\n      Bokeh.set_log_level(\"info\");\n    },\n    function(Bokeh) {\n    \n    \n    }\n  ];\n\n  function run_inline_js() {\n    \n    if (root.Bokeh !== undefined || force === true) {\n      \n    for (var i = 0; i < inline_js.length; i++) {\n      inline_js[i].call(root, root.Bokeh);\n    }\n    if (force === true) {\n        display_loaded();\n      }} else if (Date.now() < root._bokeh_timeout) {\n      setTimeout(run_inline_js, 100);\n    } else if (!root._bokeh_failed_load) {\n      console.log(\"Bokeh: BokehJS failed to load within specified timeout.\");\n      root._bokeh_failed_load = true;\n    } else if (force !== true) {\n      var cell = $(document.getElementById(\"2139\")).parents('.cell').data().cell;\n      cell.output_area.append_execute_result(NB_LOAD_WARNING)\n    }\n\n  }\n\n  if (root._bokeh_is_loading === 0) {\n    console.debug(\"Bokeh: BokehJS loaded, going straight to plotting\");\n    run_inline_js();\n  } else {\n    load_libs(css_urls, js_urls, function() {\n      console.debug(\"Bokeh: BokehJS plotting callback run at\", now());\n      run_inline_js();\n    });\n  }\n}(window));"
     },
     "metadata": {},
     "output_type": "display_data"
    },
    {
     "data": {
      "text/html": [
       "\n",
       "\n",
       "\n",
       "\n",
       "\n",
       "\n",
       "  <div class=\"bk-root\" id=\"593a8a45-96ae-430c-9d99-0db4b01265c4\" data-root-id=\"2224\"></div>\n"
      ]
     },
     "metadata": {},
     "output_type": "display_data"
    },
    {
     "data": {
      "application/javascript": [
       "(function(root) {\n",
       "  function embed_document(root) {\n",
       "    \n",
       "  var docs_json = {\"70136578-ca8e-4961-9d5c-ecac2063191e\":{\"roots\":{\"references\":[{\"attributes\":{\"children\":[{\"id\":\"2143\"},{\"id\":\"2175\"}]},\"id\":\"2224\",\"type\":\"Column\"},{\"attributes\":{},\"id\":\"2165\",\"type\":\"SaveTool\"},{\"attributes\":{\"source\":{\"id\":\"2141\"}},\"id\":\"2203\",\"type\":\"CDSView\"},{\"attributes\":{\"data_source\":{\"id\":\"2140\"},\"glyph\":{\"id\":\"2195\"},\"hover_glyph\":null,\"muted_glyph\":null,\"nonselection_glyph\":{\"id\":\"2196\"},\"selection_glyph\":null,\"view\":{\"id\":\"2198\"}},\"id\":\"2197\",\"type\":\"GlyphRenderer\"},{\"attributes\":{\"source\":{\"id\":\"2141\"}},\"id\":\"2220\",\"type\":\"CDSView\"},{\"attributes\":{\"axis_label\":\"Event Time\",\"formatter\":{\"id\":\"2209\"},\"ticker\":{\"id\":\"2155\"}},\"id\":\"2154\",\"type\":\"DatetimeAxis\"},{\"attributes\":{},\"id\":\"2159\",\"type\":\"BasicTicker\"},{\"attributes\":{\"data_source\":{\"id\":\"2141\"},\"glyph\":{\"id\":\"2217\"},\"hover_glyph\":null,\"muted_glyph\":null,\"nonselection_glyph\":{\"id\":\"2218\"},\"selection_glyph\":null,\"view\":{\"id\":\"2220\"}},\"id\":\"2219\",\"type\":\"GlyphRenderer\"},{\"attributes\":{\"overlay\":{\"id\":\"2167\"}},\"id\":\"2163\",\"type\":\"BoxZoomTool\"},{\"attributes\":{},\"id\":\"2247\",\"type\":\"YearsTicker\"},{\"attributes\":{\"end\":1601190685714.5,\"start\":1601171891835.5},\"id\":\"2178\",\"type\":\"Range1d\"},{\"attributes\":{\"fill_alpha\":{\"value\":0.1},\"fill_color\":{\"value\":\"red\"},\"line_alpha\":{\"value\":0.1},\"line_color\":{\"value\":\"red\"},\"size\":{\"units\":\"screen\",\"value\":10},\"x\":{\"field\":\"TimeGenerated\"},\"y\":{\"field\":\"y_index\"}},\"id\":\"2218\",\"type\":\"Diamond\"},{\"attributes\":{\"num_minor_ticks\":5,\"tickers\":[{\"id\":\"2249\"},{\"id\":\"2250\"},{\"id\":\"2251\"},{\"id\":\"2252\"},{\"id\":\"2253\"},{\"id\":\"2254\"},{\"id\":\"2255\"},{\"id\":\"2256\"},{\"id\":\"2257\"},{\"id\":\"2258\"},{\"id\":\"2259\"},{\"id\":\"2260\"}]},\"id\":\"2187\",\"type\":\"DatetimeTicker\"},{\"attributes\":{\"formatter\":{\"id\":\"2192\"},\"ticker\":{\"id\":\"2187\"}},\"id\":\"2186\",\"type\":\"DatetimeAxis\"},{\"attributes\":{\"mantissas\":[1,2,5],\"max_interval\":500.0,\"num_minor_ticks\":0},\"id\":\"2249\",\"type\":\"AdaptiveTicker\"},{\"attributes\":{\"formatter\":{\"id\":\"2228\"},\"ticker\":{\"id\":\"2159\"},\"visible\":false},\"id\":\"2158\",\"type\":\"LinearAxis\"},{\"attributes\":{\"label\":{\"value\":\"Primary\"},\"renderers\":[{\"id\":\"2214\"}]},\"id\":\"2222\",\"type\":\"LegendItem\"},{\"attributes\":{\"base\":60,\"mantissas\":[1,2,5,10,15,20,30],\"max_interval\":1800000.0,\"min_interval\":1000.0,\"num_minor_ticks\":0},\"id\":\"2250\",\"type\":\"AdaptiveTicker\"},{\"attributes\":{\"label\":{\"value\":\"Secondary\"},\"renderers\":[{\"id\":\"2219\"}]},\"id\":\"2223\",\"type\":\"LegendItem\"},{\"attributes\":{},\"id\":\"2231\",\"type\":\"Selection\"},{\"attributes\":{\"days\":[1,8,15,22]},\"id\":\"2254\",\"type\":\"DaysTicker\"},{\"attributes\":{},\"id\":\"2228\",\"type\":\"BasicTickFormatter\"},{\"attributes\":{\"days\":[1,15]},\"id\":\"2255\",\"type\":\"DaysTicker\"},{\"attributes\":{\"callback\":null,\"formatters\":{\"@TimeGenerated\":\"datetime\"},\"tooltips\":[[\"ProcessName\",\"@ProcessName\"],[\"TimeGenerated\",\"@TimeGenerated{%F %T.%3N}\"],[\"SourceIP\",\"@SourceIP\"],[\"User\",\"@User\"]]},\"id\":\"2142\",\"type\":\"HoverTool\"},{\"attributes\":{},\"id\":\"2232\",\"type\":\"UnionRenderers\"},{\"attributes\":{\"months\":[0,1,2,3,4,5,6,7,8,9,10,11]},\"id\":\"2256\",\"type\":\"MonthsTicker\"},{\"attributes\":{},\"id\":\"2233\",\"type\":\"Selection\"},{\"attributes\":{},\"id\":\"2164\",\"type\":\"ResetTool\"},{\"attributes\":{\"months\":[0,2,4,6,8,10]},\"id\":\"2257\",\"type\":\"MonthsTicker\"},{\"attributes\":{\"data_source\":{\"id\":\"2141\"},\"glyph\":{\"id\":\"2200\"},\"hover_glyph\":null,\"muted_glyph\":null,\"nonselection_glyph\":{\"id\":\"2201\"},\"selection_glyph\":null,\"view\":{\"id\":\"2203\"}},\"id\":\"2202\",\"type\":\"GlyphRenderer\"},{\"attributes\":{},\"id\":\"2184\",\"type\":\"LinearScale\"},{\"attributes\":{},\"id\":\"2234\",\"type\":\"UnionRenderers\"},{\"attributes\":{\"months\":[0,4,8]},\"id\":\"2258\",\"type\":\"MonthsTicker\"},{\"attributes\":{\"mantissas\":[1,2,5],\"max_interval\":500.0,\"num_minor_ticks\":0},\"id\":\"2236\",\"type\":\"AdaptiveTicker\"},{\"attributes\":{\"axis\":{\"id\":\"2158\"},\"dimension\":1,\"grid_line_color\":null,\"ticker\":null},\"id\":\"2161\",\"type\":\"Grid\"},{\"attributes\":{\"months\":[0,6]},\"id\":\"2259\",\"type\":\"MonthsTicker\"},{\"attributes\":{},\"id\":\"2152\",\"type\":\"LinearScale\"},{\"attributes\":{},\"id\":\"2260\",\"type\":\"YearsTicker\"},{\"attributes\":{\"base\":60,\"mantissas\":[1,2,5,10,15,20,30],\"max_interval\":1800000.0,\"min_interval\":1000.0,\"num_minor_ticks\":0},\"id\":\"2237\",\"type\":\"AdaptiveTicker\"},{\"attributes\":{},\"id\":\"2182\",\"type\":\"LinearScale\"},{\"attributes\":{\"days\":[1,2,3,4,5,6,7,8,9,10,11,12,13,14,15,16,17,18,19,20,21,22,23,24,25,26,27,28,29,30,31]},\"id\":\"2239\",\"type\":\"DaysTicker\"},{\"attributes\":{\"base\":24,\"mantissas\":[1,2,4,6,8,12],\"max_interval\":43200000.0,\"min_interval\":3600000.0,\"num_minor_ticks\":0},\"id\":\"2238\",\"type\":\"AdaptiveTicker\"},{\"attributes\":{\"text\":\"Range Selector\"},\"id\":\"2176\",\"type\":\"Title\"},{\"attributes\":{\"days\":[1,4,7,10,13,16,19,22,25,28]},\"id\":\"2240\",\"type\":\"DaysTicker\"},{\"attributes\":{\"months\":[0,4,8]},\"id\":\"2245\",\"type\":\"MonthsTicker\"},{\"attributes\":{\"days\":[1,15]},\"id\":\"2242\",\"type\":\"DaysTicker\"},{\"attributes\":{\"align\":\"right\",\"text\":\"Drag the middle or edges of the selection box to change the range in the main chart\",\"text_font_size\":{\"value\":\"10px\"}},\"id\":\"2191\",\"type\":\"Title\"},{\"attributes\":{\"dimensions\":\"width\"},\"id\":\"2166\",\"type\":\"PanTool\"},{\"attributes\":{\"days\":[1,8,15,22]},\"id\":\"2241\",\"type\":\"DaysTicker\"},{\"attributes\":{\"months\":[0,1,2,3,4,5,6,7,8,9,10,11]},\"id\":\"2243\",\"type\":\"MonthsTicker\"},{\"attributes\":{\"fill_color\":{\"value\":\"navy\"},\"line_color\":{\"value\":\"navy\"},\"x\":{\"field\":\"TimeGenerated\"},\"y\":{\"field\":\"y_index\"}},\"id\":\"2195\",\"type\":\"Circle\"},{\"attributes\":{\"months\":[0,2,4,6,8,10]},\"id\":\"2244\",\"type\":\"MonthsTicker\"},{\"attributes\":{\"click_policy\":\"hide\",\"items\":[{\"id\":\"2222\"},{\"id\":\"2223\"}],\"label_text_font_size\":\"8pt\",\"location\":\"center\"},\"id\":\"2221\",\"type\":\"Legend\"},{\"attributes\":{},\"id\":\"2150\",\"type\":\"LinearScale\"},{\"attributes\":{\"days\":[\"%m-%d %H:%M\"],\"hours\":[\"%H:%M:%S\"],\"milliseconds\":[\"%H:%M:%S.%3N\"],\"minutes\":[\"%H:%M:%S\"],\"seconds\":[\"%H:%M:%S\"]},\"id\":\"2209\",\"type\":\"DatetimeTickFormatter\"},{\"attributes\":{\"active_drag\":\"auto\",\"active_inspect\":\"auto\",\"active_multi\":null,\"active_scroll\":\"auto\",\"active_tap\":\"auto\",\"tools\":[{\"id\":\"2142\"},{\"id\":\"2162\"},{\"id\":\"2163\"},{\"id\":\"2164\"},{\"id\":\"2165\"},{\"id\":\"2166\"}]},\"id\":\"2168\",\"type\":\"Toolbar\"},{\"attributes\":{},\"id\":\"2180\",\"type\":\"DataRange1d\"},{\"attributes\":{\"end\":1601189962873.0,\"start\":1601172614677.0},\"id\":\"2146\",\"type\":\"Range1d\"},{\"attributes\":{\"overlay\":{\"id\":\"2205\"},\"x_range\":{\"id\":\"2146\"},\"y_range\":null},\"id\":\"2204\",\"type\":\"RangeTool\"},{\"attributes\":{\"end\":1.5,\"start\":-0.5},\"id\":\"2148\",\"type\":\"Range1d\"},{\"attributes\":{\"fill_alpha\":{\"value\":0.1},\"fill_color\":{\"value\":\"navy\"},\"line_alpha\":{\"value\":0.1},\"line_color\":{\"value\":\"navy\"},\"size\":{\"units\":\"screen\",\"value\":10},\"x\":{\"field\":\"TimeGenerated\"},\"y\":{\"field\":\"y_index\"}},\"id\":\"2213\",\"type\":\"Diamond\"},{\"attributes\":{\"fill_alpha\":0.2,\"fill_color\":\"navy\",\"level\":\"overlay\",\"line_alpha\":1.0,\"line_color\":\"black\",\"line_dash\":[2,2],\"line_width\":0.5},\"id\":\"2205\",\"type\":\"BoxAnnotation\"},{\"attributes\":{\"axis\":{\"id\":\"2186\"},\"ticker\":null},\"id\":\"2189\",\"type\":\"Grid\"},{\"attributes\":{\"bottom_units\":\"screen\",\"fill_alpha\":0.5,\"fill_color\":\"lightgrey\",\"left_units\":\"screen\",\"level\":\"overlay\",\"line_alpha\":1.0,\"line_color\":\"black\",\"line_dash\":[4,4],\"line_width\":2,\"right_units\":\"screen\",\"top_units\":\"screen\"},\"id\":\"2167\",\"type\":\"BoxAnnotation\"},{\"attributes\":{\"active_drag\":\"auto\",\"active_inspect\":\"auto\",\"active_multi\":{\"id\":\"2204\"},\"active_scroll\":\"auto\",\"active_tap\":\"auto\",\"tools\":[{\"id\":\"2204\"}]},\"id\":\"2190\",\"type\":\"Toolbar\"},{\"attributes\":{\"data_source\":{\"id\":\"2140\"},\"glyph\":{\"id\":\"2212\"},\"hover_glyph\":null,\"muted_glyph\":null,\"nonselection_glyph\":{\"id\":\"2213\"},\"selection_glyph\":null,\"view\":{\"id\":\"2215\"}},\"id\":\"2214\",\"type\":\"GlyphRenderer\"},{\"attributes\":{\"fill_alpha\":{\"value\":0.5},\"fill_color\":{\"value\":\"navy\"},\"line_alpha\":{\"value\":0.5},\"line_color\":{\"value\":\"navy\"},\"size\":{\"units\":\"screen\",\"value\":10},\"x\":{\"field\":\"TimeGenerated\"},\"y\":{\"field\":\"y_index\"}},\"id\":\"2212\",\"type\":\"Diamond\"},{\"attributes\":{\"source\":{\"id\":\"2140\"}},\"id\":\"2198\",\"type\":\"CDSView\"},{\"attributes\":{\"source\":{\"id\":\"2140\"}},\"id\":\"2215\",\"type\":\"CDSView\"},{\"attributes\":{\"num_minor_ticks\":10,\"tickers\":[{\"id\":\"2236\"},{\"id\":\"2237\"},{\"id\":\"2238\"},{\"id\":\"2239\"},{\"id\":\"2240\"},{\"id\":\"2241\"},{\"id\":\"2242\"},{\"id\":\"2243\"},{\"id\":\"2244\"},{\"id\":\"2245\"},{\"id\":\"2246\"},{\"id\":\"2247\"}]},\"id\":\"2155\",\"type\":\"DatetimeTicker\"},{\"attributes\":{\"axis\":{\"id\":\"2154\"},\"minor_grid_line_alpha\":0.3,\"minor_grid_line_color\":\"navy\",\"ticker\":null},\"id\":\"2157\",\"type\":\"Grid\"},{\"attributes\":{\"days\":[\"%m-%d %H:%M\"],\"hours\":[\"%H:%M:%S\"],\"milliseconds\":[\"%H:%M:%S.%3N\"],\"minutes\":[\"%H:%M:%S\"],\"seconds\":[\"%H:%M:%S\"]},\"id\":\"2192\",\"type\":\"DatetimeTickFormatter\"},{\"attributes\":{\"text\":\"Event Timeline\"},\"id\":\"2144\",\"type\":\"Title\"},{\"attributes\":{\"dimensions\":\"width\"},\"id\":\"2162\",\"type\":\"WheelZoomTool\"},{\"attributes\":{\"days\":[1,2,3,4,5,6,7,8,9,10,11,12,13,14,15,16,17,18,19,20,21,22,23,24,25,26,27,28,29,30,31]},\"id\":\"2252\",\"type\":\"DaysTicker\"},{\"attributes\":{\"below\":[{\"id\":\"2154\"}],\"center\":[{\"id\":\"2157\"},{\"id\":\"2161\"}],\"left\":[{\"id\":\"2158\"},{\"id\":\"2221\"}],\"min_border_left\":50,\"plot_height\":200,\"plot_width\":900,\"renderers\":[{\"id\":\"2214\"},{\"id\":\"2219\"}],\"title\":{\"id\":\"2144\"},\"toolbar\":{\"id\":\"2168\"},\"x_range\":{\"id\":\"2146\"},\"x_scale\":{\"id\":\"2150\"},\"y_range\":{\"id\":\"2148\"},\"y_scale\":{\"id\":\"2152\"}},\"id\":\"2143\",\"subtype\":\"Figure\",\"type\":\"Plot\"},{\"attributes\":{\"base\":24,\"mantissas\":[1,2,4,6,8,12],\"max_interval\":43200000.0,\"min_interval\":3600000.0,\"num_minor_ticks\":0},\"id\":\"2251\",\"type\":\"AdaptiveTicker\"},{\"attributes\":{\"fill_alpha\":{\"value\":0.1},\"fill_color\":{\"value\":\"navy\"},\"line_alpha\":{\"value\":0.1},\"line_color\":{\"value\":\"navy\"},\"x\":{\"field\":\"TimeGenerated\"},\"y\":{\"field\":\"y_index\"}},\"id\":\"2196\",\"type\":\"Circle\"},{\"attributes\":{\"fill_alpha\":{\"value\":0.5},\"fill_color\":{\"value\":\"red\"},\"line_alpha\":{\"value\":0.5},\"line_color\":{\"value\":\"red\"},\"size\":{\"units\":\"screen\",\"value\":10},\"x\":{\"field\":\"TimeGenerated\"},\"y\":{\"field\":\"y_index\"}},\"id\":\"2217\",\"type\":\"Diamond\"},{\"attributes\":{\"data\":{\"ProcessName\":[\"sshd\",\"sshd\",\"sshd\"],\"SourceIP\":[\"167.220.255.16\",\"167.220.255.16\",\"167.220.255.16\"],\"TimeGenerated\":{\"__ndarray__\":\"AIDUk9ZMd0IAUKpF10x3QgBgVF3kTHdC\",\"dtype\":\"float64\",\"order\":\"little\",\"shape\":[3]},\"User\":[\"\",\"\",\"\"],\"index\":[3,5,12],\"y_index\":[0,0,0]},\"selected\":{\"id\":\"2231\"},\"selection_policy\":{\"id\":\"2232\"}},\"id\":\"2140\",\"type\":\"ColumnDataSource\"},{\"attributes\":{\"days\":[1,4,7,10,13,16,19,22,25,28]},\"id\":\"2253\",\"type\":\"DaysTicker\"},{\"attributes\":{\"below\":[{\"id\":\"2186\"},{\"id\":\"2191\"}],\"center\":[{\"id\":\"2189\"}],\"plot_height\":120,\"plot_width\":900,\"renderers\":[{\"id\":\"2197\"},{\"id\":\"2202\"}],\"title\":{\"id\":\"2176\"},\"toolbar\":{\"id\":\"2190\"},\"toolbar_location\":null,\"x_range\":{\"id\":\"2178\"},\"x_scale\":{\"id\":\"2182\"},\"y_range\":{\"id\":\"2180\"},\"y_scale\":{\"id\":\"2184\"}},\"id\":\"2175\",\"subtype\":\"Figure\",\"type\":\"Plot\"},{\"attributes\":{\"fill_color\":{\"value\":\"red\"},\"line_color\":{\"value\":\"red\"},\"x\":{\"field\":\"TimeGenerated\"},\"y\":{\"field\":\"y_index\"}},\"id\":\"2200\",\"type\":\"Circle\"},{\"attributes\":{\"months\":[0,6]},\"id\":\"2246\",\"type\":\"MonthsTicker\"},{\"attributes\":{\"data\":{\"ProcessName\":[],\"SourceIP\":[],\"TimeGenerated\":{\"__ndarray__\":\"\",\"dtype\":\"float64\",\"order\":\"little\",\"shape\":[0]},\"User\":[],\"index\":[],\"y_index\":[]},\"selected\":{\"id\":\"2233\"},\"selection_policy\":{\"id\":\"2234\"}},\"id\":\"2141\",\"type\":\"ColumnDataSource\"},{\"attributes\":{\"fill_alpha\":{\"value\":0.1},\"fill_color\":{\"value\":\"red\"},\"line_alpha\":{\"value\":0.1},\"line_color\":{\"value\":\"red\"},\"x\":{\"field\":\"TimeGenerated\"},\"y\":{\"field\":\"y_index\"}},\"id\":\"2201\",\"type\":\"Circle\"}],\"root_ids\":[\"2224\"]},\"title\":\"Bokeh Application\",\"version\":\"2.2.1\"}};\n",
       "  var render_items = [{\"docid\":\"70136578-ca8e-4961-9d5c-ecac2063191e\",\"root_ids\":[\"2224\"],\"roots\":{\"2224\":\"593a8a45-96ae-430c-9d99-0db4b01265c4\"}}];\n",
       "  root.Bokeh.embed.embed_items_notebook(docs_json, render_items);\n",
       "\n",
       "  }\n",
       "  if (root.Bokeh !== undefined) {\n",
       "    embed_document(root);\n",
       "  } else {\n",
       "    var attempts = 0;\n",
       "    var timer = setInterval(function(root) {\n",
       "      if (root.Bokeh !== undefined) {\n",
       "        clearInterval(timer);\n",
       "        embed_document(root);\n",
       "      } else {\n",
       "        attempts++;\n",
       "        if (attempts > 100) {\n",
       "          clearInterval(timer);\n",
       "          console.log(\"Bokeh: ERROR: Unable to run BokehJS code because BokehJS library is missing\");\n",
       "        }\n",
       "      }\n",
       "    }, 10, root)\n",
       "  }\n",
       "})(window);"
      ],
      "application/vnd.bokehjs_exec.v0+json": ""
     },
     "metadata": {
      "application/vnd.bokehjs_exec.v0+json": {
       "id": "2224"
      }
     },
     "output_type": "display_data"
    },
    {
     "data": {
      "text/markdown": [
       "<b>Key:</b><p style=\"color:darkblue\">Sucessful logons </p><p style=\"color:Red\">Failed Logon Attempts (via su)</p>"
      ],
      "text/plain": [
       "<IPython.core.display.Markdown object>"
      ]
     },
     "metadata": {},
     "output_type": "display_data"
    },
    {
     "data": {
      "text/html": [
       "\n",
       "\n",
       "\n",
       "\n",
       "\n",
       "\n",
       "  <div class=\"bk-root\" id=\"14c60717-3e4b-4fcb-a79f-6609b5319427\" data-root-id=\"2545\"></div>\n"
      ]
     },
     "metadata": {},
     "output_type": "display_data"
    },
    {
     "data": {
      "application/javascript": [
       "(function(root) {\n",
       "  function embed_document(root) {\n",
       "    \n",
       "  var docs_json = {\"3fbdc29a-2eaa-4b2d-aef0-45b752c2bc2e\":{\"roots\":{\"references\":[{\"attributes\":{\"children\":[{\"id\":\"2480\"},{\"id\":\"2441\"},{\"id\":\"2521\"}]},\"id\":\"2545\",\"type\":\"Row\"},{\"attributes\":{\"axis\":{\"id\":\"2491\"},\"grid_line_color\":null,\"ticker\":null},\"id\":\"2494\",\"type\":\"Grid\"},{\"attributes\":{},\"id\":\"2448\",\"type\":\"LinearScale\"},{\"attributes\":{\"end\":2,\"factors\":[\"successful\",\"failed\"],\"palette\":[\"#440154\",\"#FDE724\"],\"start\":1},\"id\":\"2539\",\"type\":\"CategoricalColorMapper\"},{\"attributes\":{},\"id\":\"2446\",\"type\":\"DataRange1d\"},{\"attributes\":{\"fill_color\":{\"field\":\"x\",\"transform\":{\"id\":\"2539\"}},\"line_color\":{\"value\":\"white\"},\"top\":{\"field\":\"counts\"},\"width\":{\"value\":0.9},\"x\":{\"field\":\"x\"}},\"id\":\"2541\",\"type\":\"VBar\"},{\"attributes\":{\"text\":\"Failed and Sucessful logon attempts by process\"},\"id\":\"2522\",\"type\":\"Title\"},{\"attributes\":{\"source\":{\"id\":\"2465\"}},\"id\":\"2470\",\"type\":\"CDSView\"},{\"attributes\":{\"axis_label\":null,\"formatter\":{\"id\":\"2512\"},\"ticker\":{\"id\":\"2496\"},\"visible\":false},\"id\":\"2495\",\"type\":\"LinearAxis\"},{\"attributes\":{\"end_angle\":{\"expr\":{\"id\":\"2464\"},\"units\":\"rad\"},\"fill_color\":{\"field\":\"color\"},\"line_color\":{\"value\":\"white\"},\"radius\":{\"units\":\"data\",\"value\":0.5},\"start_angle\":{\"expr\":{\"id\":\"2463\"},\"units\":\"rad\"},\"x\":{\"value\":0},\"y\":{\"value\":1}},\"id\":\"2467\",\"type\":\"Wedge\"},{\"attributes\":{\"fill_alpha\":{\"value\":0.1},\"fill_color\":{\"field\":\"x\",\"transform\":{\"id\":\"2539\"}},\"line_alpha\":{\"value\":0.1},\"line_color\":{\"value\":\"white\"},\"top\":{\"field\":\"counts\"},\"width\":{\"value\":0.9},\"x\":{\"field\":\"x\"}},\"id\":\"2542\",\"type\":\"VBar\"},{\"attributes\":{\"data_source\":{\"id\":\"2465\"},\"glyph\":{\"id\":\"2467\"},\"hover_glyph\":null,\"muted_glyph\":null,\"nonselection_glyph\":{\"id\":\"2468\"},\"selection_glyph\":null,\"view\":{\"id\":\"2470\"}},\"id\":\"2469\",\"type\":\"GlyphRenderer\"},{\"attributes\":{\"start\":0},\"id\":\"2525\",\"type\":\"DataRange1d\"},{\"attributes\":{},\"id\":\"2496\",\"type\":\"BasicTicker\"},{\"attributes\":{\"source\":{\"id\":\"2519\"}},\"id\":\"2544\",\"type\":\"CDSView\"},{\"attributes\":{},\"id\":\"2527\",\"type\":\"CategoricalScale\"},{\"attributes\":{\"axis\":{\"id\":\"2495\"},\"dimension\":1,\"grid_line_color\":null,\"ticker\":null},\"id\":\"2498\",\"type\":\"Grid\"},{\"attributes\":{},\"id\":\"2529\",\"type\":\"LinearScale\"},{\"attributes\":{},\"id\":\"2473\",\"type\":\"BasicTickFormatter\"},{\"attributes\":{\"axis\":{\"id\":\"2452\"},\"grid_line_color\":null,\"ticker\":null},\"id\":\"2455\",\"type\":\"Grid\"},{\"attributes\":{},\"id\":\"2594\",\"type\":\"BasicTickFormatter\"},{\"attributes\":{\"below\":[{\"id\":\"2491\"}],\"center\":[{\"id\":\"2494\"},{\"id\":\"2498\"},{\"id\":\"2517\"}],\"left\":[{\"id\":\"2495\"}],\"plot_height\":350,\"plot_width\":450,\"renderers\":[{\"id\":\"2508\"}],\"title\":{\"id\":\"2481\"},\"toolbar\":{\"id\":\"2500\"},\"toolbar_location\":null,\"x_range\":{\"id\":\"2483\"},\"x_scale\":{\"id\":\"2487\"},\"y_range\":{\"id\":\"2485\"},\"y_scale\":{\"id\":\"2489\"}},\"id\":\"2480\",\"subtype\":\"Figure\",\"type\":\"Plot\"},{\"attributes\":{\"callback\":null,\"tooltips\":\"@index: @value\"},\"id\":\"2499\",\"type\":\"HoverTool\"},{\"attributes\":{},\"id\":\"2475\",\"type\":\"BasicTickFormatter\"},{\"attributes\":{\"formatter\":{\"id\":\"2596\"},\"major_label_orientation\":1,\"ticker\":{\"id\":\"2532\"}},\"id\":\"2531\",\"type\":\"CategoricalAxis\"},{\"attributes\":{},\"id\":\"2492\",\"type\":\"BasicTicker\"},{\"attributes\":{},\"id\":\"2596\",\"type\":\"CategoricalTickFormatter\"},{\"attributes\":{},\"id\":\"2476\",\"type\":\"Selection\"},{\"attributes\":{},\"id\":\"2532\",\"type\":\"CategoricalTicker\"},{\"attributes\":{\"active_drag\":\"auto\",\"active_inspect\":\"auto\",\"active_multi\":null,\"active_scroll\":\"auto\",\"active_tap\":\"auto\",\"tools\":[{\"id\":\"2499\"}]},\"id\":\"2500\",\"type\":\"Toolbar\"},{\"attributes\":{},\"id\":\"2453\",\"type\":\"BasicTicker\"},{\"attributes\":{},\"id\":\"2477\",\"type\":\"UnionRenderers\"},{\"attributes\":{\"axis_label\":null,\"formatter\":{\"id\":\"2475\"},\"ticker\":{\"id\":\"2453\"},\"visible\":false},\"id\":\"2452\",\"type\":\"LinearAxis\"},{\"attributes\":{},\"id\":\"2601\",\"type\":\"Selection\"},{\"attributes\":{\"axis\":{\"id\":\"2531\"},\"grid_line_color\":null,\"ticker\":null},\"id\":\"2533\",\"type\":\"Grid\"},{\"attributes\":{},\"id\":\"2516\",\"type\":\"UnionRenderers\"},{\"attributes\":{},\"id\":\"2602\",\"type\":\"UnionRenderers\"},{\"attributes\":{\"items\":[{\"id\":\"2479\"}]},\"id\":\"2478\",\"type\":\"Legend\"},{\"attributes\":{},\"id\":\"2450\",\"type\":\"LinearScale\"},{\"attributes\":{\"formatter\":{\"id\":\"2594\"},\"ticker\":{\"id\":\"2535\"}},\"id\":\"2534\",\"type\":\"LinearAxis\"},{\"attributes\":{\"below\":[{\"id\":\"2531\"}],\"center\":[{\"id\":\"2533\"},{\"id\":\"2537\"}],\"left\":[{\"id\":\"2534\"}],\"plot_height\":350,\"plot_width\":450,\"renderers\":[{\"id\":\"2543\"}],\"title\":{\"id\":\"2522\"},\"toolbar\":{\"id\":\"2538\"},\"toolbar_location\":null,\"x_range\":{\"id\":\"2520\"},\"x_scale\":{\"id\":\"2527\"},\"y_range\":{\"id\":\"2525\"},\"y_scale\":{\"id\":\"2529\"}},\"id\":\"2521\",\"subtype\":\"Figure\",\"type\":\"Plot\"},{\"attributes\":{},\"id\":\"2515\",\"type\":\"Selection\"},{\"attributes\":{\"label\":{\"field\":\"index\"},\"renderers\":[{\"id\":\"2469\"}]},\"id\":\"2479\",\"type\":\"LegendItem\"},{\"attributes\":{\"num_minor_ticks\":2},\"id\":\"2535\",\"type\":\"BasicTicker\"},{\"attributes\":{\"items\":[{\"id\":\"2518\"}]},\"id\":\"2517\",\"type\":\"Legend\"},{\"attributes\":{\"field\":\"angle\"},\"id\":\"2464\",\"type\":\"CumSum\"},{\"attributes\":{\"axis_label\":null,\"formatter\":{\"id\":\"2473\"},\"ticker\":{\"id\":\"2457\"},\"visible\":false},\"id\":\"2456\",\"type\":\"LinearAxis\"},{\"attributes\":{},\"id\":\"2485\",\"type\":\"DataRange1d\"},{\"attributes\":{\"axis\":{\"id\":\"2534\"},\"dimension\":1,\"ticker\":null},\"id\":\"2537\",\"type\":\"Grid\"},{\"attributes\":{\"factors\":[[\"sshd\",\"successful\"],[\"sshd\",\"failed\"]],\"range_padding\":0.1},\"id\":\"2520\",\"type\":\"FactorRange\"},{\"attributes\":{\"field\":\"angle\"},\"id\":\"2503\",\"type\":\"CumSum\"},{\"attributes\":{},\"id\":\"2483\",\"type\":\"DataRange1d\"},{\"attributes\":{\"axis\":{\"id\":\"2456\"},\"dimension\":1,\"grid_line_color\":null,\"ticker\":null},\"id\":\"2459\",\"type\":\"Grid\"},{\"attributes\":{\"data\":{\"angle\":{\"__ndarray__\":\"GC1EVPshGUA=\",\"dtype\":\"float64\",\"order\":\"little\",\"shape\":[1]},\"color\":[\"#440154\"],\"index\":[\"\"],\"level_0\":[0],\"value\":[3]},\"selected\":{\"id\":\"2515\"},\"selection_policy\":{\"id\":\"2516\"}},\"id\":\"2504\",\"type\":\"ColumnDataSource\"},{\"attributes\":{\"active_drag\":\"auto\",\"active_inspect\":\"auto\",\"active_multi\":null,\"active_scroll\":\"auto\",\"active_tap\":\"auto\"},\"id\":\"2538\",\"type\":\"Toolbar\"},{\"attributes\":{\"label\":{\"field\":\"index\"},\"renderers\":[{\"id\":\"2508\"}]},\"id\":\"2518\",\"type\":\"LegendItem\"},{\"attributes\":{},\"id\":\"2512\",\"type\":\"BasicTickFormatter\"},{\"attributes\":{},\"id\":\"2457\",\"type\":\"BasicTicker\"},{\"attributes\":{\"field\":\"angle\",\"include_zero\":true},\"id\":\"2502\",\"type\":\"CumSum\"},{\"attributes\":{\"text\":\"Relative Frequencies of Failed Logons by Account\"},\"id\":\"2442\",\"type\":\"Title\"},{\"attributes\":{\"callback\":null,\"tooltips\":\"@index: @value\"},\"id\":\"2460\",\"type\":\"HoverTool\"},{\"attributes\":{\"data\":{\"angle\":{\"__ndarray__\":\"\",\"dtype\":\"float64\",\"order\":\"little\",\"shape\":[0]},\"color\":{\"__ndarray__\":\"\",\"dtype\":\"float64\",\"order\":\"little\",\"shape\":[0]},\"index\":[],\"level_0\":[],\"value\":[]},\"selected\":{\"id\":\"2476\"},\"selection_policy\":{\"id\":\"2477\"}},\"id\":\"2465\",\"type\":\"ColumnDataSource\"},{\"attributes\":{\"end_angle\":{\"expr\":{\"id\":\"2503\"},\"units\":\"rad\"},\"fill_color\":{\"field\":\"color\"},\"line_color\":{\"value\":\"white\"},\"radius\":{\"units\":\"data\",\"value\":0.5},\"start_angle\":{\"expr\":{\"id\":\"2502\"},\"units\":\"rad\"},\"x\":{\"value\":0},\"y\":{\"value\":1}},\"id\":\"2506\",\"type\":\"Wedge\"},{\"attributes\":{\"field\":\"angle\",\"include_zero\":true},\"id\":\"2463\",\"type\":\"CumSum\"},{\"attributes\":{\"active_drag\":\"auto\",\"active_inspect\":\"auto\",\"active_multi\":null,\"active_scroll\":\"auto\",\"active_tap\":\"auto\",\"tools\":[{\"id\":\"2460\"}]},\"id\":\"2461\",\"type\":\"Toolbar\"},{\"attributes\":{\"text\":\"Relative Frequencies of Sucessful Logons by Account\"},\"id\":\"2481\",\"type\":\"Title\"},{\"attributes\":{},\"id\":\"2444\",\"type\":\"DataRange1d\"},{\"attributes\":{\"end_angle\":{\"expr\":{\"id\":\"2503\"},\"units\":\"rad\"},\"fill_alpha\":{\"value\":0.1},\"fill_color\":{\"field\":\"color\"},\"line_alpha\":{\"value\":0.1},\"line_color\":{\"value\":\"white\"},\"radius\":{\"units\":\"data\",\"value\":0.5},\"start_angle\":{\"expr\":{\"id\":\"2502\"},\"units\":\"rad\"},\"x\":{\"value\":0},\"y\":{\"value\":1}},\"id\":\"2507\",\"type\":\"Wedge\"},{\"attributes\":{},\"id\":\"2487\",\"type\":\"LinearScale\"},{\"attributes\":{},\"id\":\"2489\",\"type\":\"LinearScale\"},{\"attributes\":{\"data_source\":{\"id\":\"2504\"},\"glyph\":{\"id\":\"2506\"},\"hover_glyph\":null,\"muted_glyph\":null,\"nonselection_glyph\":{\"id\":\"2507\"},\"selection_glyph\":null,\"view\":{\"id\":\"2509\"}},\"id\":\"2508\",\"type\":\"GlyphRenderer\"},{\"attributes\":{\"end_angle\":{\"expr\":{\"id\":\"2464\"},\"units\":\"rad\"},\"fill_alpha\":{\"value\":0.1},\"fill_color\":{\"field\":\"color\"},\"line_alpha\":{\"value\":0.1},\"line_color\":{\"value\":\"white\"},\"radius\":{\"units\":\"data\",\"value\":0.5},\"start_angle\":{\"expr\":{\"id\":\"2463\"},\"units\":\"rad\"},\"x\":{\"value\":0},\"y\":{\"value\":1}},\"id\":\"2468\",\"type\":\"Wedge\"},{\"attributes\":{\"data\":{\"counts\":[3,0.0],\"x\":[[\"sshd\",\"successful\"],[\"sshd\",\"failed\"]]},\"selected\":{\"id\":\"2601\"},\"selection_policy\":{\"id\":\"2602\"}},\"id\":\"2519\",\"type\":\"ColumnDataSource\"},{\"attributes\":{},\"id\":\"2514\",\"type\":\"BasicTickFormatter\"},{\"attributes\":{\"axis_label\":null,\"formatter\":{\"id\":\"2514\"},\"ticker\":{\"id\":\"2492\"},\"visible\":false},\"id\":\"2491\",\"type\":\"LinearAxis\"},{\"attributes\":{\"source\":{\"id\":\"2504\"}},\"id\":\"2509\",\"type\":\"CDSView\"},{\"attributes\":{\"below\":[{\"id\":\"2452\"}],\"center\":[{\"id\":\"2455\"},{\"id\":\"2459\"},{\"id\":\"2478\"}],\"left\":[{\"id\":\"2456\"}],\"plot_height\":350,\"plot_width\":450,\"renderers\":[{\"id\":\"2469\"}],\"title\":{\"id\":\"2442\"},\"toolbar\":{\"id\":\"2461\"},\"toolbar_location\":null,\"x_range\":{\"id\":\"2444\"},\"x_scale\":{\"id\":\"2448\"},\"y_range\":{\"id\":\"2446\"},\"y_scale\":{\"id\":\"2450\"}},\"id\":\"2441\",\"subtype\":\"Figure\",\"type\":\"Plot\"},{\"attributes\":{\"data_source\":{\"id\":\"2519\"},\"glyph\":{\"id\":\"2541\"},\"hover_glyph\":null,\"muted_glyph\":null,\"nonselection_glyph\":{\"id\":\"2542\"},\"selection_glyph\":null,\"view\":{\"id\":\"2544\"}},\"id\":\"2543\",\"type\":\"GlyphRenderer\"}],\"root_ids\":[\"2545\"]},\"title\":\"Bokeh Application\",\"version\":\"2.2.1\"}};\n",
       "  var render_items = [{\"docid\":\"3fbdc29a-2eaa-4b2d-aef0-45b752c2bc2e\",\"root_ids\":[\"2545\"],\"roots\":{\"2545\":\"14c60717-3e4b-4fcb-a79f-6609b5319427\"}}];\n",
       "  root.Bokeh.embed.embed_items_notebook(docs_json, render_items);\n",
       "\n",
       "  }\n",
       "  if (root.Bokeh !== undefined) {\n",
       "    embed_document(root);\n",
       "  } else {\n",
       "    var attempts = 0;\n",
       "    var timer = setInterval(function(root) {\n",
       "      if (root.Bokeh !== undefined) {\n",
       "        clearInterval(timer);\n",
       "        embed_document(root);\n",
       "      } else {\n",
       "        attempts++;\n",
       "        if (attempts > 100) {\n",
       "          clearInterval(timer);\n",
       "          console.log(\"Bokeh: ERROR: Unable to run BokehJS code because BokehJS library is missing\");\n",
       "        }\n",
       "      }\n",
       "    }, 10, root)\n",
       "  }\n",
       "})(window);"
      ],
      "application/vnd.bokehjs_exec.v0+json": ""
     },
     "metadata": {
      "application/vnd.bokehjs_exec.v0+json": {
       "id": "2545"
      }
     },
     "output_type": "display_data"
    },
    {
     "data": {
      "text/html": [
       "<div style=\"width:100%;\"><div style=\"position:relative;width:100%;height:0;padding-bottom:60%;\"><span style=\"color:#565656\">Make this Notebook Trusted to load map: File -> Trust Notebook</span><iframe src=\"about:blank\" style=\"position:absolute;width:100%;height:100%;left:0;top:0;border:none !important;\" data-html=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 onload=\"this.contentDocument.open();this.contentDocument.write(atob(this.getAttribute('data-html')));this.contentDocument.close();\" allowfullscreen webkitallowfullscreen mozallowfullscreen></iframe></div></div>"
      ],
      "text/plain": [
       "<folium.folium.Map at 0x227ee2a1b00>"
      ]
     },
     "metadata": {},
     "output_type": "display_data"
    },
    {
     "data": {
      "text/html": [
       "<p style=''><p style=\"color:red\">Warning: the folium mapping library does not display correctly in some browsers.</p><br>If you see a blank image please retry with a different browser.</p>"
      ],
      "text/plain": [
       "<IPython.core.display.HTML object>"
      ]
     },
     "metadata": {},
     "output_type": "display_data"
    }
   ],
   "source": [
    "\n",
    "# Collect logon events for this, seperate them into sucessful and unsucessful and cluster sucessful one into sessions\n",
    "logon_events = qry_prov.LinuxSyslog.user_logon(start=invest_times.start, end=invest_times.end, host_name=hostname)\n",
    "remote_logons = None\n",
    "failed_logons = None\n",
    "\n",
    "if isinstance(logon_events, pd.DataFrame) and not logon_events.empty:\n",
    "    remote_logons = (logon_events[logon_events['LogonResult'] == 'Success'])\n",
    "    failed_logons = (logon_events[logon_events['LogonResult'] == 'Failure'])\n",
    "else:\n",
    "    print(\"No logon events in this timeframe\")\n",
    "\n",
    "\n",
    "if (isinstance(remote_logons, pd.DataFrame) and not remote_logons.empty) or (isinstance(failed_logons, pd.DataFrame) and not failed_logons.empty):\n",
    "#Provide a timeline of sucessful and failed logon attempts to aid identification of potential brute force attacks\n",
    "    display(Markdown('### Timeline of sucessful host logons.'))\n",
    "    tooltip_cols = ['User', 'ProcessName', 'SourceIP']\n",
    "    if rel_alert_select is not None:\n",
    "        logon_timeline = nbdisplay.display_timeline(data=remote_logons, overlay_data=failed_logons, source_columns=tooltip_cols, height=200, overlay_color=\"red\", alert = rel_alert_select.selected_alert)\n",
    "    else:\n",
    "        logon_timeline = nbdisplay.display_timeline(data=remote_logons, overlay_data=failed_logons, source_columns=tooltip_cols, height=200, overlay_color=\"red\")\n",
    "    display(Markdown('<b>Key:</b><p style=\"color:darkblue\">Sucessful logons </p><p style=\"color:Red\">Failed Logon Attempts (via su)</p>'))  \n",
    "\n",
    "    all_df = pd.DataFrame(dict(successful= remote_logons['ProcessName'].value_counts(), failed = failed_logons['ProcessName'].value_counts())).fillna(0)\n",
    "    fail_data = pd.value_counts(failed_logons['User'].values, sort=True).head(10).reset_index(name='value').rename(columns={'User':'Count'})\n",
    "    fail_data['angle'] = fail_data['value']/fail_data['value'].sum() * 2*pi\n",
    "    fail_data['color'] = viridis(len(fail_data))\n",
    "    fp = figure(plot_height=350, plot_width=450, title=\"Relative Frequencies of Failed Logons by Account\", toolbar_location=None, tools=\"hover\", tooltips=\"@index: @value\")\n",
    "    fp.wedge(x=0, y=1, radius=0.5, start_angle=cumsum('angle', include_zero=True), end_angle=cumsum('angle'), line_color=\"white\", fill_color='color', legend='index', source=fail_data)\n",
    "\n",
    "    sucess_data = pd.value_counts(remote_logons['User'].values, sort=False).reset_index(name='value').rename(columns={'User':'Count'})\n",
    "    sucess_data['angle'] = sucess_data['value']/sucess_data['value'].sum() * 2*pi\n",
    "    sucess_data['color'] = viridis(len(sucess_data))\n",
    "    sp = figure(plot_height=350, width=450, title=\"Relative Frequencies of Sucessful Logons by Account\", toolbar_location=None, tools=\"hover\", tooltips=\"@index: @value\")\n",
    "    sp.wedge(x=0, y=1, radius=0.5, start_angle=cumsum('angle', include_zero=True), end_angle=cumsum('angle'), line_color=\"white\", fill_color='color', legend='index', source=sucess_data)\n",
    "\n",
    "    fp.axis.axis_label=None\n",
    "    fp.axis.visible=False\n",
    "    fp.grid.grid_line_color = None\n",
    "    sp.axis.axis_label=None\n",
    "    sp.axis.visible=False\n",
    "    sp.grid.grid_line_color = None\n",
    "\n",
    "\n",
    "    processes = all_df.index.values.tolist()\n",
    "    results = all_df.columns.values.tolist()\n",
    "    fail_sucess_data = {'processes' :processes,\n",
    "           'sucess' : all_df['successful'].values.tolist(),\n",
    "           'failure': all_df['failed'].values.tolist()}\n",
    "\n",
    "    palette = viridis(2)\n",
    "    x = [ (process, result) for process in processes for result in results ]\n",
    "    counts = sum(zip(fail_sucess_data['sucess'], fail_sucess_data['failure']), ()) \n",
    "    source = ColumnDataSource(data=dict(x=x, counts=counts))\n",
    "    b = figure(x_range=FactorRange(*x), plot_height=350,  plot_width=450, title=\"Failed and Sucessful logon attempts by process\",\n",
    "               toolbar_location=None, tools=\"\", y_minor_ticks=2)\n",
    "    b.vbar(x='x', top='counts', width=0.9, source=source, line_color=\"white\",\n",
    "           fill_color=factor_cmap('x', palette=palette, factors=results, start=1, end=2))\n",
    "    b.y_range.start = 0\n",
    "    b.x_range.range_padding = 0.1\n",
    "    b.xaxis.major_label_orientation = 1\n",
    "    b.xgrid.grid_line_color = None\n",
    "\n",
    "    show(Row(sp,fp,b))\n",
    "\n",
    "    ip_list = [convert_to_ip_entities(i)[0] for i in remote_logons['SourceIP']]\n",
    "    ip_fail_list = [convert_to_ip_entities(i)[0] for i in failed_logons['SourceIP']]\n",
    "    \n",
    "    location = get_map_center(ip_list + ip_fail_list)\n",
    "    folium_map = FoliumMap(location = location, zoom_start=1.4)\n",
    "    #Map logon locations to allow for identification of anomolous locations\n",
    "    if len(ip_fail_list) > 0:\n",
    "        md('<h3>Map of Originating Location of Logon Attempts</h3>')\n",
    "        icon_props = {'color': 'red'}\n",
    "        folium_map.add_ip_cluster(ip_entities=ip_fail_list, **icon_props)\n",
    "    if len(ip_list) > 0:\n",
    "        icon_props = {'color': 'green'}\n",
    "        folium_map.add_ip_cluster(ip_entities=ip_list, **icon_props)\n",
    "        display(folium_map.folium_map)\n",
    "        md('<p style=\"color:red\">Warning: the folium mapping library '\n",
    "                         'does not display correctly in some browsers.</p><br>'\n",
    "                         'If you see a blank image please retry with a different browser.')  \n"
   ]
  },
  {
   "cell_type": "markdown",
   "metadata": {},
   "source": [
    "### Logon Sessions\n",
    "Based on the detail above if you wish to focus your hunt on a particular user jump to the [User Activity](#user) section. Alternatively to further further refine our hunt we need to select a logon session to view in more detail. Select a session from the list below to continue. Sessions that occurred at the time an alert was raised for this host, or where the user has a abnormal ratio of failed to successful login attempts are highlighted."
   ]
  },
  {
   "cell_type": "code",
   "execution_count": 50,
   "metadata": {
    "ExecuteTime": {
     "end_time": "2020-06-24T01:53:38.073770Z",
     "start_time": "2020-06-24T01:53:37.978770Z"
    }
   },
   "outputs": [
    {
     "name": "stdout",
     "output_type": "stream",
     "text": [
      "Clustering logon sessions...\n",
      "Error clustering logons: There are no logon sessions in the supplied data set\n"
     ]
    },
    {
     "data": {
      "text/html": [
       "<p style=''>No logon sessions during this timeframe</p>"
      ],
      "text/plain": [
       "<IPython.core.display.HTML object>"
      ]
     },
     "metadata": {},
     "output_type": "display_data"
    }
   ],
   "source": [
    "logon_sessions_df = None\n",
    "try:\n",
    "    print(\"Clustering logon sessions...\")\n",
    "    logon_sessions_df = cluster_syslog_logons_df(logon_events)\n",
    "except Exception as err:\n",
    "    print(f\"Error clustering logons: {err}\")\n",
    "\n",
    "if logon_sessions_df is not None:\n",
    "    logon_sessions_df[\"Alerts during session?\"] = np.nan\n",
    "    # check if any alerts occur during logon window.\n",
    "    logon_sessions_df['Start (UTC)'] = [(time - dt.timedelta(seconds=5)) for time in logon_sessions_df['Start']]\n",
    "    logon_sessions_df['End (UTC)'] = [(time + dt.timedelta(seconds=5)) for time in logon_sessions_df['End']]\n",
    "\n",
    "    for TimeGenerated in related_alerts['TimeGenerated']:\n",
    "        logon_sessions_df.loc[(TimeGenerated >= logon_sessions_df['Start (UTC)']) & (TimeGenerated <= logon_sessions_df['End (UTC)']), \"Alerts during session?\"] = \"Yes\"\n",
    "\n",
    "    logon_sessions_df.loc[logon_sessions_df['User'] == 'root', \"Root?\"] = \"Yes\"\n",
    "    logon_sessions_df.replace(np.nan, \"No\", inplace=True)\n",
    "\n",
    "    ratios = []\n",
    "    for _, row in logon_sessions_df.iterrows():\n",
    "        suc_fail = logon_events.apply(lambda x: True if x['User'] == row['User'] and x[\"LogonResult\"] == 'Success' else(\n",
    "            False if x['User'] == row['User'] and x[\"LogonResult\"] == 'Failure' else None), axis=1)\n",
    "        numofsucess = len(suc_fail[suc_fail == True].index)\n",
    "        numoffail = len(suc_fail[suc_fail == False].index)\n",
    "        if numoffail == 0:\n",
    "            ratio = 1\n",
    "        else:\n",
    "            ratio = numofsucess/numoffail\n",
    "        ratios.append(ratio)\n",
    "    logon_sessions_df[\"Sucessful to failed logon ratio\"] = ratios\n",
    "\n",
    "    def color_cells(val):\n",
    "        if isinstance(val, str):\n",
    "            color = 'yellow' if val == \"Yes\" else 'white'\n",
    "        elif isinstance(val, float):\n",
    "            color = 'yellow' if val > 0.5 else 'white'\n",
    "        else:\n",
    "            color = 'white'\n",
    "        return 'background-color: %s' % color \n",
    "\n",
    "    display(logon_sessions_df[['User','Start (UTC)', 'End (UTC)', 'Alerts during session?', 'Sucessful to failed logon ratio', 'Root?']]\n",
    "                        .style.applymap(color_cells).hide_index())\n",
    "\n",
    "    logon_items = (\n",
    "        logon_sessions_df[['User','Start (UTC)', 'End (UTC)']]\n",
    "        .to_string(header=False, index=False, index_names=False)\n",
    "        .split('\\n')\n",
    "    )\n",
    "    logon_sessions_df[\"Key\"] = logon_items    \n",
    "    logon_sessions_df.set_index('Key', inplace=True)\n",
    "    logon_dict = logon_sessions_df[['User','Start (UTC)', 'End (UTC)']].to_dict('index')\n",
    "\n",
    "    logon_selection = nbwidgets.SelectItem(description='Select logon session to investigate: ',\n",
    "                                                 item_dict=logon_dict , width='80%', auto_display=True)\n",
    "else:\n",
    "    md(\"No logon sessions during this timeframe\")"
   ]
  },
  {
   "cell_type": "markdown",
   "metadata": {},
   "source": [
    "#### Session Details"
   ]
  },
  {
   "cell_type": "code",
   "execution_count": 51,
   "metadata": {
    "ExecuteTime": {
     "end_time": "2020-06-24T01:53:44.059818Z",
     "start_time": "2020-06-24T01:53:40.909226Z"
    }
   },
   "outputs": [
    {
     "data": {
      "text/html": [
       "<p style=''>No logon sessions during this timeframe</p>"
      ],
      "text/plain": [
       "<IPython.core.display.HTML object>"
      ]
     },
     "metadata": {},
     "output_type": "display_data"
    }
   ],
   "source": [
    "def view_syslog(selected_facility):\n",
    "    return [syslog_events.query('Facility == @selected_facility')]\n",
    "\n",
    "# Produce a summary of user modification actions taken\n",
    "    if \"Add\" in x:\n",
    "        return len(add_events.replace(\"\", np.nan).dropna(subset=['User'])['User'].unique().tolist())\n",
    "    elif \"Modify\" in x:\n",
    "        return len(mod_events.replace(\"\", np.nan).dropna(subset=['User'])['User'].unique().tolist())\n",
    "    elif \"Delete\" in x:\n",
    "        return len(del_events.replace(\"\", np.nan).dropna(subset=['User'])['User'].unique().tolist())\n",
    "    else:\n",
    "        return \"\"\n",
    "\n",
    "crn_tl_data = {}\n",
    "user_tl_data = {}\n",
    "sudo_tl_data = {}\n",
    "sudo_sessions = None\n",
    "tooltip_cols = ['SyslogMessage']\n",
    "if logon_sessions_df is not None:\n",
    "    #Collect data based on the session selected for investigation\n",
    "    invest_sess = {'StartTimeUtc': logon_selection.value.get('Start (UTC)'), 'EndTimeUtc': logon_selection.value.get(\n",
    "        'End (UTC)'), 'Account': logon_selection.value.get('User'), 'Host': hostname}\n",
    "    session = entityschema.HostLogonSession(invest_sess)\n",
    "    syslog_events = qry_prov.LinuxSyslog.all_syslog(\n",
    "        start=session.StartTimeUtc, end=session.EndTimeUtc, host_name=session.Host)\n",
    "    sudo_events = qry_prov.LinuxSyslog.sudo_activity(\n",
    "        start=session.StartTimeUtc, end=session.EndTimeUtc, host_name=session.Host, user=session.Account)\n",
    "    \n",
    "    if isinstance(sudo_events, pd.DataFrame) and not sudo_events.empty:\n",
    "        try:\n",
    "            sudo_sessions = cluster_syslog_logons_df(logon_events=sudo_events)\n",
    "        except MsticpyException:\n",
    "            pass\n",
    "\n",
    "    # Display summary of cron activity in session\n",
    "    cron_events = qry_prov.LinuxSyslog.cron_activity(\n",
    "        start=session.StartTimeUtc, end=session.EndTimeUtc, host_name=session.Host)\n",
    "    if not isinstance(cron_events, pd.DataFrame) or cron_events.empty:\n",
    "        md(f'<h3> No Cron activity for {session.Host} between {session.StartTimeUtc} and {session.EndTimeUtc}</h3>')\n",
    "    else:\n",
    "        cron_events['CMD'].replace('', np.nan, inplace=True)\n",
    "        crn_tl_data = {\"Cron Exections\": {\"data\": cron_events[['TimeGenerated', 'CMD', 'CronUser', 'SyslogMessage']].dropna(), \"source_columns\": tooltip_cols, \"color\": \"Blue\"},\n",
    "                       \"Cron Edits\": {\"data\": cron_events.loc[cron_events['SyslogMessage'].str.contains('EDIT')], \"source_columns\": tooltip_cols, \"color\": \"Green\"}}\n",
    "        md('<h2> Most common commands run by cron:</h2>')\n",
    "        md('This shows how often each cron job was exected within the specified time window')\n",
    "        cron_commands = (cron_events[['EventTime', 'CMD']]\n",
    "                         .groupby(['CMD']).count()\n",
    "                         .dropna()\n",
    "                         .style\n",
    "                         .set_table_attributes('width=900px, text-align=center')\n",
    "                         .background_gradient(cmap='Reds', low=0.5, high=1)\n",
    "                         .format(\"{0:0>1.0f}\"))\n",
    "        display(cron_commands)\n",
    "\n",
    "    # Display summary of user and group creations, deletions and modifications during the session\n",
    "    user_activity = qry_prov.LinuxSyslog.user_group_activity(\n",
    "        start=session.StartTimeUtc, end=session.EndTimeUtc, host_name=session.Host)\n",
    "    if not isinstance(user_activity, pd.DataFrame) or user_activity.empty:\n",
    "        md(f'<h3>No user or group moidifcations for {session.Host} between {session.StartTimeUtc} and {session.EndTimeUtc}></h3>')\n",
    "    else:\n",
    "        add_events = user_activity[user_activity['UserGroupAction'].str.contains(\n",
    "            'Add')]\n",
    "        del_events = user_activity[user_activity['UserGroupAction'].str.contains(\n",
    "            'Delete')]\n",
    "        mod_events = user_activity[user_activity['UserGroupAction'].str.contains(\n",
    "            'Modify')]\n",
    "        user_activity['Count'] = user_activity.groupby('UserGroupAction')['UserGroupAction'].transform('count')\n",
    "        if add_events.empty and del_events.empty and mod_events.empty:\n",
    "            md('<h2> Users and groups added or deleted:</h2<>')\n",
    "            md(f'No users or groups were added or deleted on {host_entity.HostName} between {query_times.start} and {query_times.end}')\n",
    "            user_tl_data = {}\n",
    "        else:\n",
    "            md(\"<h2>Users added, modified or deleted</h2>\")\n",
    "            display(user_activity[['UserGroupAction','Count']].drop_duplicates().style.hide_index())\n",
    "            account_actions = pd.DataFrame({\"User Additions\": [add_events.replace(\"\", np.nan).dropna(subset=['User'])['User'].unique().tolist()],\n",
    "                                            \"User Modifications\": [mod_events.replace(\"\", np.nan).dropna(subset=['User'])['User'].unique().tolist()],\n",
    "                                            \"User Deletions\": [del_events.replace(\"\", np.nan).dropna(subset=['User'])['User'].unique().tolist()]})\n",
    "            display(account_actions.style.hide_index())\n",
    "            user_tl_data = {\"User adds\": {\"data\": add_events, \"source_columns\": tooltip_cols, \"color\": \"Orange\"},\n",
    "                            \"User deletes\": {\"data\": del_events, \"source_columns\": tooltip_cols, \"color\": \"Red\"},\n",
    "                            \"User modfications\": {\"data\": mod_events, \"source_columns\": tooltip_cols, \"color\": \"Grey\"}}\n",
    "        \n",
    "        # Display sudo activity during session\n",
    "    if not isinstance(sudo_sessions, pd.DataFrame) or sudo_sessions.empty:\n",
    "        md(f\"<h3>No Sudo sessions for {session.Host} between {logon_selection.value.get('Start (UTC)')} and {logon_selection.value.get('End (UTC)')}</h3>\")\n",
    "        sudo_tl_data = {}\n",
    "    else:\n",
    "        sudo_start = sudo_events[sudo_events[\"SyslogMessage\"].str.contains(\n",
    "            \"pam_unix.+session opened\")].rename(columns={\"Sudoer\": \"User\"})\n",
    "        sudo_tl_data = {\"Host logons\": {\"data\": remote_logons, \"source_columns\": tooltip_cols, \"color\": \"Cyan\"},\n",
    "                        \"Sudo sessions\": {\"data\": sudo_start, \"source_columns\": tooltip_cols, \"color\": \"Purple\"}}\n",
    "        try:\n",
    "            risky_actions = cmd_line.risky_cmd_line(events=sudo_events, log_type=\"Syslog\")\n",
    "            suspicious_events = cmd_speed(\n",
    "                cmd_events=sudo_events, time=60, events=2, cmd_field=\"Command\")\n",
    "        except:\n",
    "            risky_actions = None\n",
    "            suspicious_events = None\n",
    "        if risky_actions is None and suspicious_events is None:\n",
    "            pass\n",
    "        else:\n",
    "            risky_sessions = risky_sudo_sessions(\n",
    "                risky_actions=risky_actions, sudo_sessions=sudo_sessions, suspicious_actions=suspicious_events)\n",
    "            for key in risky_sessions:\n",
    "                if key in sudo_sessions:\n",
    "                    sudo_sessions[f\"{key} - {risky_sessions[key]}\"] = sudo_sessions.pop(\n",
    "                        key)\n",
    "    \n",
    "        if isinstance(sudo_events, pd.DataFrame):\n",
    "            sudo_events_val = sudo_events[['EventTime', 'CommandCall']][sudo_events['CommandCall']!=\"\"].dropna(how='any', subset=['CommandCall'])\n",
    "            if sudo_events_val.empty:\n",
    "                md(f\"No sucessful sudo activity for {hostname} between {logon_selection.value.get('Start (UTC)')} and {logon_selection.value.get('End (UTC)')}\")\n",
    "            else:\n",
    "                sudo_events.replace(\"\", np.nan, inplace=True)\n",
    "                md('<h2> Frequency of sudo commands</h2>')\n",
    "                md('This shows how many times each command has been run with sudo. /bin/bash is usally associated with the use of \"sudo -i\"')\n",
    "                sudo_commands = (sudo_events[['EventTime', 'CommandCall']]\n",
    "                                .groupby(['CommandCall'])\n",
    "                                .count()\n",
    "                                .dropna()\n",
    "                                .style\n",
    "                                .set_table_attributes('width=900px, text-align=center')\n",
    "                                .background_gradient(cmap='Reds', low=.5, high=1)\n",
    "                                .format(\"{0:0>3.0f}\"))\n",
    "                display(sudo_commands)\n",
    "        else:\n",
    "            md(f\"No sucessful sudo activity for {hostname} between {logon_selection.value.get('Start (UTC)')} and {logon_selection.value.get('End (UTC)')}\")  \n",
    "\n",
    "    # Display a timeline of all activity during session\n",
    "    crn_tl_data.update(user_tl_data)\n",
    "    crn_tl_data.update(sudo_tl_data)\n",
    "    if crn_tl_data:\n",
    "        md('<h2> Session Timeline.</h2>')\n",
    "        nbdisplay.display_timeline(\n",
    "            data=crn_tl_data, title='Session Timeline', height=300)\n",
    "else:\n",
    "    md(\"No logon sessions during this timeframe\")"
   ]
  },
  {
   "cell_type": "markdown",
   "metadata": {},
   "source": [
    "#### Raw data from user session\n",
    "Use this syslog message data to further investigate suspicous activity during the session"
   ]
  },
  {
   "cell_type": "code",
   "execution_count": 52,
   "metadata": {
    "ExecuteTime": {
     "end_time": "2020-06-24T01:53:47.432915Z",
     "start_time": "2020-06-24T01:53:45.628367Z"
    }
   },
   "outputs": [
    {
     "data": {
      "text/html": [
       "<p style=''>No logon sessions during this timeframe</p>"
      ],
      "text/plain": [
       "<IPython.core.display.HTML object>"
      ]
     },
     "metadata": {},
     "output_type": "display_data"
    }
   ],
   "source": [
    "if isinstance(logon_sessions_df, pd.DataFrame) and not logon_sessions_df.empty:\n",
    "    #Return syslog data and present it to the use for investigation\n",
    "    session_syslog = qry_prov.LinuxSyslog.all_syslog(\n",
    "        start=session.StartTimeUtc, end=session.EndTimeUtc, host_name=session.Host)\n",
    "    if session_syslog.empty:\n",
    "        display(HTML(\n",
    "            f' No syslog for {session.Host} between {session.StartTimeUtc} and {session.EndTimeUtc}'))\n",
    "\n",
    "\n",
    "    def view_sudo(selected_cmd):\n",
    "        return [sudo_events.query('CommandCall == @selected_cmd')[\n",
    "                ['TimeGenerated', 'SyslogMessage', 'Sudoer', 'SudoTo', 'Command', 'CommandCall']]]\n",
    "\n",
    "    # Show syslog messages associated with selected sudo command\n",
    "    md(\"<h3>View all messages associated with a sudo command</h3>\")\n",
    "    items = sudo_events['CommandCall'].dropna().unique().tolist()\n",
    "    display(nbwidgets.SelectItem(item_list=items, action=view_sudo))\n",
    "else:\n",
    "    md(\"No logon sessions during this timeframe\")"
   ]
  },
  {
   "cell_type": "code",
   "execution_count": 53,
   "metadata": {
    "ExecuteTime": {
     "end_time": "2020-06-24T01:53:48.221915Z",
     "start_time": "2020-06-24T01:53:48.175914Z"
    }
   },
   "outputs": [
    {
     "data": {
      "text/html": [
       "<p style=''>No logon sessions during this timeframe</p>"
      ],
      "text/plain": [
       "<IPython.core.display.HTML object>"
      ]
     },
     "metadata": {},
     "output_type": "display_data"
    }
   ],
   "source": [
    "if isinstance(logon_sessions_df, pd.DataFrame) and not logon_sessions_df.empty:\n",
    "    # Display syslog messages from the session witht he facility selected\n",
    "    items = syslog_events['Facility'].dropna().unique().tolist()\n",
    "    md(\"<h3>View all messages associated with a syslog facility</h3>\")\n",
    "    display(nbwidgets.SelectItem(item_list=items, action=view_syslog))\n",
    "else:\n",
    "    md(\"No logon sessions during this timeframe\")"
   ]
  },
  {
   "cell_type": "markdown",
   "metadata": {},
   "source": [
    "### Process Tree from session"
   ]
  },
  {
   "cell_type": "code",
   "execution_count": 54,
   "metadata": {
    "ExecuteTime": {
     "end_time": "2020-06-24T01:53:51.672525Z",
     "start_time": "2020-06-24T01:53:50.175953Z"
    }
   },
   "outputs": [
    {
     "data": {
      "text/html": [
       "<p style=''>No logon sessions during this timeframe</p>"
      ],
      "text/plain": [
       "<IPython.core.display.HTML object>"
      ]
     },
     "metadata": {},
     "output_type": "display_data"
    }
   ],
   "source": [
    "if isinstance(logon_sessions_df, pd.DataFrame) and not logon_sessions_df.empty:\n",
    "    display(HTML(\"<h3>Process Trees from session</h3>\"))\n",
    "    print(\"Building process tree, this may take some time...\")\n",
    "    # Find the table with auditd data in\n",
    "    regex = '.*audit.*\\_cl?'\n",
    "    matches = ((re.match(regex, key, re.IGNORECASE)) for key in qry_prov.schema)\n",
    "    for match in matches:\n",
    "        if match != None:\n",
    "            audit_table = match.group(0)\n",
    "\n",
    "    # Retrieve auditd data\n",
    "    if audit_table:\n",
    "        audit_data = qry_prov.LinuxAudit.auditd_all(\n",
    "            start=session.StartTimeUtc, end=session.EndTimeUtc, host_name=hostname\n",
    "        )\n",
    "        if isinstance(audit_data, pd.DataFrame) and not audit_data.empty:\n",
    "            audit_events = auditdextract.extract_events_to_df(\n",
    "                data=audit_data\n",
    "            )\n",
    "\n",
    "            process_tree = auditdextract.generate_process_tree(audit_data=audit_events)\n",
    "            process_tree.mp_process_tree.plot()\n",
    "        else:\n",
    "            display(HTML(\"No auditd data avaliable to build process tree\"))\n",
    "    else:\n",
    "        display(HTML(\"No auditd data avaliable to build process tree\"))\n",
    "else:\n",
    "    md(\"No logon sessions during this timeframe\")"
   ]
  },
  {
   "cell_type": "markdown",
   "metadata": {},
   "source": [
    "Click [here](#app) to start a process/application focused hunt or continue with session based hunt below by selecting a sudo session to investigate."
   ]
  },
  {
   "cell_type": "markdown",
   "metadata": {},
   "source": [
    "### Sudo Session Investigation\n",
    "Sudo activity is often required by an attacker to conduct actions on target, and more granular data is avalibale for sudo sessions allowing for deeper level hunting within these sesions."
   ]
  },
  {
   "cell_type": "code",
   "execution_count": 55,
   "metadata": {
    "ExecuteTime": {
     "end_time": "2020-06-24T01:53:55.462637Z",
     "start_time": "2020-06-24T01:53:55.422637Z"
    }
   },
   "outputs": [
    {
     "data": {
      "text/html": [
       "<p style=''>No logon sessions during this timeframe</p>"
      ],
      "text/plain": [
       "<IPython.core.display.HTML object>"
      ]
     },
     "metadata": {},
     "output_type": "display_data"
    }
   ],
   "source": [
    "if logon_sessions_df is not None and sudo_sessions is not None:\n",
    "    sudo_items = sudo_sessions[['User','Start', 'End']].to_string(header=False,\n",
    "                      index=False,\n",
    "                      index_names=False).split('\\n')\n",
    "    sudo_sessions[\"Key\"] = sudo_items\n",
    "    sudo_sessions.set_index('Key', inplace=True)\n",
    "    sudo_dict = sudo_sessions[['User','Start', 'End']].to_dict('index')\n",
    "\n",
    "    sudo_selection = nbwidgets.SelectItem(description='Select sudo session to investigate: ',\n",
    "                                                item_dict=sudo_dict, width='100%', height='300px', auto_display=True)\n",
    "else:\n",
    "    sudo_selection = None\n",
    "    md(\"No logon sessions during this timeframe\")"
   ]
  },
  {
   "cell_type": "code",
   "execution_count": 56,
   "metadata": {
    "ExecuteTime": {
     "end_time": "2020-06-24T01:57:23.902023Z",
     "start_time": "2020-06-24T01:57:21.856481Z"
    }
   },
   "outputs": [
    {
     "data": {
      "text/html": [
       "<p style=''>No Sudo session to investigate</p>"
      ],
      "text/plain": [
       "<IPython.core.display.HTML object>"
      ]
     },
     "metadata": {},
     "output_type": "display_data"
    }
   ],
   "source": [
    "#Collect data associated with the sudo session selected\n",
    "sudo_events = None\n",
    "from msticpy.sectools.tiproviders.ti_provider_base import TISeverity\n",
    "\n",
    "def ti_check_sev(severity, threshold):\n",
    "    severity = TISeverity.parse(severity)\n",
    "    threshold = TISeverity.parse(threshold)\n",
    "    return severity.value >= threshold.value\n",
    "\n",
    "if sudo_selection:\n",
    "    sudo_sess = {'StartTimeUtc': sudo_selection.value.get('Start'), 'EndTimeUtc': sudo_selection.value.get(\n",
    "        'End'), 'Account': sudo_selection.value.get('User'), 'Host': hostname}\n",
    "    sudo_session = entityschema.HostLogonSession(sudo_sess)\n",
    "    sudo_events = qry_prov.LinuxSyslog.sudo_activity(start=sudo_session.StartTimeUtc.round(\n",
    "        '-1s') - pd.Timedelta(seconds=1), end=(sudo_session.EndTimeUtc.round('1s')+ pd.Timedelta(seconds=1)), host_name=sudo_session.Host)\n",
    "    if isinstance(sudo_events, pd.DataFrame) and not sudo_events.empty:\n",
    "        display(sudo_events.replace('', np.nan).dropna(axis=0, subset=['Command'])[\n",
    "                ['TimeGenerated', 'Command', 'CommandCall', 'SyslogMessage']])\n",
    "        # Extract IOCs from the data\n",
    "        ioc_extractor = iocextract.IoCExtract()\n",
    "        os_family = host_entity.OSType if host_entity.OSType else 'Linux'\n",
    "        print('Extracting IoCs.......')\n",
    "        ioc_df = ioc_extractor.extract(data=sudo_events,\n",
    "                                       columns=['SyslogMessage'],\n",
    "                                       os_family=os_family,\n",
    "                                       ioc_types=['ipv4', 'ipv6', 'dns', 'url',\n",
    "                                                  'md5_hash', 'sha1_hash', 'sha256_hash'])\n",
    "        if len(ioc_df) > 0:\n",
    "            ioc_count = len(\n",
    "                ioc_df[[\"IoCType\", \"Observable\"]].drop_duplicates())\n",
    "            md(f\"Found {ioc_count} IOCs\")\n",
    "            #Lookup the extracted IOCs in TI feed\n",
    "            ti_resps = tilookup.lookup_iocs(data=ioc_df[[\"IoCType\", \"Observable\"]].drop_duplicates(\n",
    "            ).reset_index(), obs_col='Observable', ioc_type_col='IoCType')\n",
    "            i = 0\n",
    "            ti_hits = []\n",
    "            ti_resps.reset_index(drop=True, inplace=True)\n",
    "            while i < len(ti_resps):\n",
    "                if ti_resps['Result'][i] == True and ti_check_sev(ti_resps['Severity'][i], 1):\n",
    "                    ti_hits.append(ti_resps['Ioc'][i])\n",
    "                    i += 1\n",
    "                else:\n",
    "                    i += 1\n",
    "            md(f\"Found {len(ti_hits)} IoCs in Threat Intelligence\")\n",
    "            for ioc in ti_hits:\n",
    "                md(f\"Messages containing IoC found in TI feed: {ioc}\")\n",
    "                display(sudo_events[sudo_events['SyslogMessage'].str.contains(\n",
    "                    ioc)][['TimeGenerated', 'SyslogMessage']])\n",
    "        else:\n",
    "            md(\"No IoC patterns found in Syslog Messages.\")\n",
    "    else:\n",
    "        md('No sudo messages for this session')\n",
    "\n",
    "\n",
    "else:\n",
    "    md(\"No Sudo session to investigate\")"
   ]
  },
  {
   "cell_type": "markdown",
   "metadata": {
    "ExecuteTime": {
     "end_time": "2019-09-23T23:54:07.485475Z",
     "start_time": "2019-09-23T23:54:07.480507Z"
    }
   },
   "source": [
    "Jump to:\n",
    "- <a>Host Logon Events</a>\n",
    "- <a>Application Activity</a>\n",
    "- <a>Network Activity</a>"
   ]
  },
  {
   "cell_type": "markdown",
   "metadata": {},
   "source": [
    "<a></a>\n",
    "## User Activity\n",
    "**Hypothesis:** That an attacker has gained  access to the host and is using a user account to conduct actions on the host.\n",
    "\n",
    "This section provides an overview of activity by user within our hunting time frame, the purpose of this is to allow for the identification  of anomalous activity by a user. This hunt can be driven be investigation of suspected users or as a hunt across all users seen on the host."
   ]
  },
  {
   "cell_type": "code",
   "execution_count": 57,
   "metadata": {
    "ExecuteTime": {
     "end_time": "2020-06-24T01:57:32.366086Z",
     "start_time": "2020-06-24T01:57:31.372985Z"
    }
   },
   "outputs": [
    {
     "data": {
      "text/html": [
       "<p style=''>There was no user activity in the timeframe specified.</p>"
      ],
      "text/plain": [
       "<IPython.core.display.HTML object>"
      ]
     },
     "metadata": {},
     "output_type": "display_data"
    }
   ],
   "source": [
    "# Get list of users with logon or sudo sessions on host\n",
    "logon_events = qry_prov.LinuxSyslog.user_logon(query_times, host_name=hostname)\n",
    "users = logon_events['User'].replace('', np.nan).dropna().unique().tolist()\n",
    "all_users = list(users)\n",
    "\n",
    "\n",
    "if isinstance(sudo_events, pd.DataFrame) and not sudo_events.empty:\n",
    "    sudoers = sudo_events['Sudoer'].replace(\n",
    "        '', np.nan).dropna().unique().tolist()\n",
    "    all_users.extend(x for x in sudoers if x not in all_users)\n",
    "\n",
    "# Pick Users\n",
    "if not logon_events.empty:\n",
    "    user_select = nbwidgets.SelectItem(description='Select user to investigate: ',\n",
    "                                             item_list=all_users, width='75%', auto_display=True)\n",
    "else:\n",
    "    md(\"There was no user activity in the timeframe specified.\")\n",
    "    user_select = None"
   ]
  },
  {
   "cell_type": "code",
   "execution_count": 58,
   "metadata": {
    "ExecuteTime": {
     "end_time": "2020-06-24T01:57:35.805460Z",
     "start_time": "2020-06-24T01:57:33.955397Z"
    }
   },
   "outputs": [
    {
     "data": {
      "text/html": [
       "<p style=''>No user session selected</p>"
      ],
      "text/plain": [
       "<IPython.core.display.HTML object>"
      ]
     },
     "metadata": {},
     "output_type": "display_data"
    }
   ],
   "source": [
    "folium_user_map = FoliumMap()\n",
    "\n",
    "def view_sudo(cmd):\n",
    "    return [user_sudo_hold.query('CommandCall == @cmd')[\n",
    "            ['TimeGenerated', 'HostName', 'Command', 'CommandCall', 'SyslogMessage']]]\n",
    "user_sudo_hold = None\n",
    "if user_select is not None:\n",
    "    # Get all syslog relating to these users\n",
    "    username = user_select.value\n",
    "    user_events = all_syslog_data[all_syslog_data['SyslogMessage'].str.contains(username)]\n",
    "    logon_sessions = cluster_syslog_logons_df(logon_events)\n",
    "\n",
    "    # Display all logons associated with the user\n",
    "    md(f\"<h1> User Logon Activity for {username}</h1>\")\n",
    "    user_logon_events = logon_events[logon_events['User'] == username]\n",
    "    try:\n",
    "        user_logon_sessions = cluster_syslog_logons_df(user_logon_events)\n",
    "    except:\n",
    "        user_logon_sessions = None\n",
    "    \n",
    "    user_remote_logons = (\n",
    "        user_logon_events[user_logon_events['LogonResult'] == 'Success']\n",
    "    )\n",
    "    user_failed_logons = (\n",
    "        user_logon_events[user_logon_events['LogonResult'] == 'Failure']\n",
    "    )\n",
    "    if not user_remote_logons.empty:\n",
    "        for _, row in logon_sessions_df.iterrows():\n",
    "            end = row['End']\n",
    "        user_sudo_events = qry_prov.LinuxSyslog.sudo_activity(start=user_remote_logons.sort_values(\n",
    "            by='TimeGenerated')['TimeGenerated'].iloc[0], end=end, host_name=hostname, user=username)\n",
    "    else: \n",
    "        user_sudo_events = None\n",
    "\n",
    "    if user_logon_sessions is None and user_remote_logons.empty and user_failed_logons.empty:\n",
    "        pass\n",
    "    else:\n",
    "        display(HTML(\n",
    "            f\"{len(user_remote_logons)} sucessfull logons and {len(user_failed_logons)} failed logons for {username}\"))\n",
    "\n",
    "        display(Markdown('### Timeline of host logon attempts.'))\n",
    "        tooltip_cols = ['SyslogMessage']\n",
    "        dfs = {\"User Logons\" :user_remote_logons, \"Failed Logons\": user_failed_logons, \"Sudo Events\" :user_sudo_events}\n",
    "        user_tl_data = {}\n",
    "\n",
    "        for k,v in dfs.items():\n",
    "            if v is not None and not v.empty:\n",
    "                user_tl_data.update({k :{\"data\":v,\"source_columns\":tooltip_cols}})\n",
    "\n",
    "        nbdisplay.display_timeline(\n",
    "            data=user_tl_data, title=\"User logon timeline\", height=300)\n",
    "        \n",
    "        all_user_df = pd.DataFrame(dict(successful= user_remote_logons['ProcessName'].value_counts(), failed = user_failed_logons['ProcessName'].value_counts())).fillna(0)\n",
    "        processes = all_user_df.index.values.tolist()\n",
    "        results = all_user_df.columns.values.tolist()\n",
    "        user_fail_sucess_data = {'processes' :processes,\n",
    "               'sucess' : all_user_df['successful'].values.tolist(),\n",
    "               'failure': all_user_df['failed'].values.tolist()}\n",
    "\n",
    "        palette = viridis(2)\n",
    "        x = [ (process, result) for process in processes for result in results ]\n",
    "        counts = sum(zip(user_fail_sucess_data['sucess'], fail_sucess_data['failure']), ()) \n",
    "        source = ColumnDataSource(data=dict(x=x, counts=counts))\n",
    "        b = figure(x_range=FactorRange(*x), plot_height=350,  plot_width=450, title=\"Failed and Sucessful logon attempts by process\",\n",
    "                   toolbar_location=None, tools=\"\", y_minor_ticks=2)\n",
    "        b.vbar(x='x', top='counts', width=0.9, source=source, line_color=\"white\",\n",
    "               fill_color=factor_cmap('x', palette=palette, factors=results, start=1, end=2))\n",
    "        b.y_range.start = 0\n",
    "        b.x_range.range_padding = 0.1\n",
    "        b.xaxis.major_label_orientation = 1\n",
    "        b.xgrid.grid_line_color = None\n",
    "        user_logons = pd.DataFrame({\"Sucessful Logons\" : [int(all_user_df['successful'].sum())],\n",
    "                        \"Failed Logons\" : [int(all_user_df['failed'].sum())]}).T\n",
    "        user_logon_data = pd.value_counts(user_logon_events['LogonResult'].values, sort=True).head(10).reset_index(name='value').rename(columns={'User':'Count'})\n",
    "        user_logon_data = user_logon_data[user_logon_data['index']!=\"Unknown\"].copy()\n",
    "        user_logon_data['angle'] = user_logon_data['value']/user_logon_data['value'].sum() * 2*pi\n",
    "        user_logon_data['color'] = viridis(len(user_logon_data))\n",
    "        p = figure(plot_height=350, plot_width=450, title=\"Relative Frequencies of Failed Logons by Account\", toolbar_location=None, tools=\"hover\", tooltips=\"@index: @value\")\n",
    "        p.axis.visible = False\n",
    "        p.xgrid.visible = False\n",
    "        p.ygrid.visible = False\n",
    "        p.wedge(x=0, y=1, radius=0.5, start_angle=cumsum('angle', include_zero=True), end_angle=cumsum('angle'), line_color=\"white\", fill_color='color', legend='index', source=user_logon_data)\n",
    "        show(Row(p,b))               \n",
    "        \n",
    "        user_ip_list = [convert_to_ip_entities(i)[0] for i in user_remote_logons['SourceIP']]\n",
    "        user_ip_fail_list = [convert_to_ip_entities(i)[0] for i in user_failed_logons['SourceIP']]\n",
    "    \n",
    "        user_location = get_map_center(ip_list + ip_fail_list)\n",
    "        user_folium_map = FoliumMap(location = location, zoom_start=1.4)\n",
    "        #Map logon locations to allow for identification of anomolous locations\n",
    "        if len(ip_fail_list) > 0:\n",
    "            md('<h3>Map of Originating Location of Logon Attempts</h3>')\n",
    "            icon_props = {'color': 'red'}\n",
    "            user_folium_map.add_ip_cluster(ip_entities=user_ip_fail_list, **icon_props)\n",
    "        if len(ip_list) > 0:\n",
    "            icon_props = {'color': 'green'}\n",
    "            user_folium_map.add_ip_cluster(ip_entities=user_ip_list, **icon_props)\n",
    "            display(user_folium_map.folium_map)\n",
    "            md('<p style=\"color:red\">Warning: the folium mapping library '\n",
    "                         'does not display correctly in some browsers.</p><br>'\n",
    "                         'If you see a blank image please retry with a different browser.')  \n",
    "        \n",
    "    #Display sudo activity of the user \n",
    "    if not isinstance(user_sudo_events, pd.DataFrame) or user_sudo_events.empty:\n",
    "        md(f\"<h3>No sucessful sudo activity for {username}</h3>\")\n",
    "    else:\n",
    "        user_sudo_hold = user_sudo_events\n",
    "        user_sudo_commands = (user_sudo_events[['EventTime', 'CommandCall']].replace('', np.nan).groupby(['CommandCall']).count().dropna().style.set_table_attributes('width=900px, text-align=center').background_gradient(cmap='Reds', low=.5, high=1).format(\"{0:0>3.0f}\"))\n",
    "        display(user_sudo_commands)\n",
    "        md(\"Select a sudo command to investigate in more detail\")\n",
    "        display(nbwidgets.SelectItem(item_list=items, action=view_sudo))\n",
    "else:\n",
    "    md(\"No user session selected\")"
   ]
  },
  {
   "cell_type": "code",
   "execution_count": 59,
   "metadata": {
    "ExecuteTime": {
     "end_time": "2020-06-24T01:57:41.495503Z",
     "start_time": "2020-06-24T01:57:41.474501Z"
    }
   },
   "outputs": [
    {
     "data": {
      "text/html": [
       "<p style=''>No sudo messages data</p>"
      ],
      "text/plain": [
       "<IPython.core.display.HTML object>"
      ]
     },
     "metadata": {},
     "output_type": "display_data"
    }
   ],
   "source": [
    "# If the user has sudo activity extract and IOCs from the logs and look them up in TI feeds\n",
    "if not isinstance(user_sudo_hold, pd.DataFrame) or user_sudo_hold.empty:\n",
    "    md(f\"No sudo messages data\")\n",
    "else:\n",
    "    # Extract IOCs\n",
    "    ioc_extractor = iocextract.IoCExtract()\n",
    "    os_family = host_entity.OSType if host_entity.OSType else 'Linux'\n",
    "    print('Extracting IoCs.......')\n",
    "    ioc_df = ioc_extractor.extract(data=user_sudo_hold,\n",
    "                                   columns=['SyslogMessage'],\n",
    "                                   os_family=os_family,\n",
    "                                   ioc_types=['ipv4', 'ipv6', 'dns', 'url', 'md5_hash', 'sha1_hash', 'sha256_hash'])\n",
    "    if len(ioc_df) > 0:\n",
    "        ioc_count = len(ioc_df[[\"IoCType\", \"Observable\"]].drop_duplicates())\n",
    "        md(f\"Found {ioc_count} IOCs\")\n",
    "        ti_resps = tilookup.lookup_iocs(data=ioc_df[[\"IoCType\", \"Observable\"]].drop_duplicates(\n",
    "        ).reset_index(), obs_col='Observable', ioc_type_col='IoCType')\n",
    "        i = 0\n",
    "        ti_hits = []\n",
    "        ti_resps.reset_index(drop=True, inplace=True)\n",
    "        while i < len(ti_resps):\n",
    "            if ti_resps['Result'][i] == True and ti_check_sev(ti_resps['Severity'][i], 1):\n",
    "                ti_hits.append(ti_resps['Ioc'][i])\n",
    "                i += 1\n",
    "            else:\n",
    "                i += 1\n",
    "        md(f\"Found {len(ti_hits)} IoCs in Threat Intelligence\")\n",
    "        for ioc in ti_hits:\n",
    "            md(f\"Messages containing IoC found in TI feed: {ioc}\")\n",
    "            display(user_sudo_hold[user_sudo_hold['SyslogMessage'].str.contains(\n",
    "                ioc)][['TimeGenerated', 'SyslogMessage']])\n",
    "    else:\n",
    "        md(\"No IoC patterns found in Syslog Message.\")"
   ]
  },
  {
   "cell_type": "markdown",
   "metadata": {},
   "source": [
    "Jump to:\n",
    "- <a>Host Logon Events</a>\n",
    "- <a>User Activity</a>\n",
    "- <a>Network Activity</a>"
   ]
  },
  {
   "cell_type": "markdown",
   "metadata": {},
   "source": [
    "<a></a>\n",
    "## Application Activity\n",
    "\n",
    "**Hypothesis:** That an attacker has compromised an application running on the host and is using the applications process to conduct actions on the host.\n",
    "\n",
    "This section provides an overview of activity by application within our hunting time frame, the purpose of this is to allow for the identification of anomalous activity by an application. This hunt can be driven be investigation of suspected applications or as a hunt across all users seen on the host."
   ]
  },
  {
   "cell_type": "code",
   "execution_count": 64,
   "metadata": {
    "ExecuteTime": {
     "end_time": "2020-06-24T01:57:45.323865Z",
     "start_time": "2020-06-24T01:57:45.274865Z"
    }
   },
   "outputs": [
    {
     "data": {
      "application/vnd.jupyter.widget-view+json": {
       "model_id": "56d4fbdb64ff4cf5bde24b3cbff65820",
       "version_major": 2,
       "version_minor": 0
      },
      "text/plain": [
       "VBox(children=(Text(value='', description='Filter:', style=DescriptionStyle(description_width='initial')), Sel…"
      ]
     },
     "metadata": {},
     "output_type": "display_data"
    },
    {
     "data": {
      "text/html": [
       "<hr>"
      ],
      "text/plain": [
       "<IPython.core.display.HTML object>"
      ]
     },
     "metadata": {},
     "output_type": "display_data"
    }
   ],
   "source": [
    "# Get list of Applications\n",
    "apps = all_syslog_data['ProcessName'].replace('', np.nan).dropna().unique().tolist()\n",
    "system_apps = ['sudo', 'CRON', 'systemd-resolved', 'snapd',\n",
    "               '50-motd-news', 'systemd-logind', 'dbus-deamon', 'crontab']\n",
    "if len(host_entity.Applications) > 0:\n",
    "    installed_apps = []\n",
    "    installed_apps.extend(x for x in apps if x not in system_apps)\n",
    "\n",
    "    # Pick Applications\n",
    "    app_select = nbwidgets.SelectItem(description='Select sudo session to investigate: ',\n",
    "                                            item_list=installed_apps, width='75%', auto_display=True)\n",
    "else:\n",
    "    display(HTML(\"No applications other than stand OS applications present\"))"
   ]
  },
  {
   "cell_type": "code",
   "execution_count": 65,
   "metadata": {
    "ExecuteTime": {
     "end_time": "2020-06-24T01:57:51.258753Z",
     "start_time": "2020-06-24T01:57:51.149753Z"
    }
   },
   "outputs": [
    {
     "data": {
      "text/html": [
       "\n",
       "    <div class=\"bk-root\">\n",
       "        <a href=\"https://bokeh.org\" target=\"_blank\" class=\"bk-logo bk-logo-small bk-logo-notebook\"></a>\n",
       "        <span id=\"3286\">Loading BokehJS ...</span>\n",
       "    </div>"
      ]
     },
     "metadata": {},
     "output_type": "display_data"
    },
    {
     "data": {
      "application/javascript": [
       "\n",
       "(function(root) {\n",
       "  function now() {\n",
       "    return new Date();\n",
       "  }\n",
       "\n",
       "  var force = true;\n",
       "\n",
       "  if (typeof root._bokeh_onload_callbacks === \"undefined\" || force === true) {\n",
       "    root._bokeh_onload_callbacks = [];\n",
       "    root._bokeh_is_loading = undefined;\n",
       "  }\n",
       "\n",
       "  var JS_MIME_TYPE = 'application/javascript';\n",
       "  var HTML_MIME_TYPE = 'text/html';\n",
       "  var EXEC_MIME_TYPE = 'application/vnd.bokehjs_exec.v0+json';\n",
       "  var CLASS_NAME = 'output_bokeh rendered_html';\n",
       "\n",
       "  /**\n",
       "   * Render data to the DOM node\n",
       "   */\n",
       "  function render(props, node) {\n",
       "    var script = document.createElement(\"script\");\n",
       "    node.appendChild(script);\n",
       "  }\n",
       "\n",
       "  /**\n",
       "   * Handle when an output is cleared or removed\n",
       "   */\n",
       "  function handleClearOutput(event, handle) {\n",
       "    var cell = handle.cell;\n",
       "\n",
       "    var id = cell.output_area._bokeh_element_id;\n",
       "    var server_id = cell.output_area._bokeh_server_id;\n",
       "    // Clean up Bokeh references\n",
       "    if (id != null && id in Bokeh.index) {\n",
       "      Bokeh.index[id].model.document.clear();\n",
       "      delete Bokeh.index[id];\n",
       "    }\n",
       "\n",
       "    if (server_id !== undefined) {\n",
       "      // Clean up Bokeh references\n",
       "      var cmd = \"from bokeh.io.state import curstate; print(curstate().uuid_to_server['\" + server_id + \"'].get_sessions()[0].document.roots[0]._id)\";\n",
       "      cell.notebook.kernel.execute(cmd, {\n",
       "        iopub: {\n",
       "          output: function(msg) {\n",
       "            var id = msg.content.text.trim();\n",
       "            if (id in Bokeh.index) {\n",
       "              Bokeh.index[id].model.document.clear();\n",
       "              delete Bokeh.index[id];\n",
       "            }\n",
       "          }\n",
       "        }\n",
       "      });\n",
       "      // Destroy server and session\n",
       "      var cmd = \"import bokeh.io.notebook as ion; ion.destroy_server('\" + server_id + \"')\";\n",
       "      cell.notebook.kernel.execute(cmd);\n",
       "    }\n",
       "  }\n",
       "\n",
       "  /**\n",
       "   * Handle when a new output is added\n",
       "   */\n",
       "  function handleAddOutput(event, handle) {\n",
       "    var output_area = handle.output_area;\n",
       "    var output = handle.output;\n",
       "\n",
       "    // limit handleAddOutput to display_data with EXEC_MIME_TYPE content only\n",
       "    if ((output.output_type != \"display_data\") || (!output.data.hasOwnProperty(EXEC_MIME_TYPE))) {\n",
       "      return\n",
       "    }\n",
       "\n",
       "    var toinsert = output_area.element.find(\".\" + CLASS_NAME.split(' ')[0]);\n",
       "\n",
       "    if (output.metadata[EXEC_MIME_TYPE][\"id\"] !== undefined) {\n",
       "      toinsert[toinsert.length - 1].firstChild.textContent = output.data[JS_MIME_TYPE];\n",
       "      // store reference to embed id on output_area\n",
       "      output_area._bokeh_element_id = output.metadata[EXEC_MIME_TYPE][\"id\"];\n",
       "    }\n",
       "    if (output.metadata[EXEC_MIME_TYPE][\"server_id\"] !== undefined) {\n",
       "      var bk_div = document.createElement(\"div\");\n",
       "      bk_div.innerHTML = output.data[HTML_MIME_TYPE];\n",
       "      var script_attrs = bk_div.children[0].attributes;\n",
       "      for (var i = 0; i < script_attrs.length; i++) {\n",
       "        toinsert[toinsert.length - 1].firstChild.setAttribute(script_attrs[i].name, script_attrs[i].value);\n",
       "        toinsert[toinsert.length - 1].firstChild.textContent = bk_div.children[0].textContent\n",
       "      }\n",
       "      // store reference to server id on output_area\n",
       "      output_area._bokeh_server_id = output.metadata[EXEC_MIME_TYPE][\"server_id\"];\n",
       "    }\n",
       "  }\n",
       "\n",
       "  function register_renderer(events, OutputArea) {\n",
       "\n",
       "    function append_mime(data, metadata, element) {\n",
       "      // create a DOM node to render to\n",
       "      var toinsert = this.create_output_subarea(\n",
       "        metadata,\n",
       "        CLASS_NAME,\n",
       "        EXEC_MIME_TYPE\n",
       "      );\n",
       "      this.keyboard_manager.register_events(toinsert);\n",
       "      // Render to node\n",
       "      var props = {data: data, metadata: metadata[EXEC_MIME_TYPE]};\n",
       "      render(props, toinsert[toinsert.length - 1]);\n",
       "      element.append(toinsert);\n",
       "      return toinsert\n",
       "    }\n",
       "\n",
       "    /* Handle when an output is cleared or removed */\n",
       "    events.on('clear_output.CodeCell', handleClearOutput);\n",
       "    events.on('delete.Cell', handleClearOutput);\n",
       "\n",
       "    /* Handle when a new output is added */\n",
       "    events.on('output_added.OutputArea', handleAddOutput);\n",
       "\n",
       "    /**\n",
       "     * Register the mime type and append_mime function with output_area\n",
       "     */\n",
       "    OutputArea.prototype.register_mime_type(EXEC_MIME_TYPE, append_mime, {\n",
       "      /* Is output safe? */\n",
       "      safe: true,\n",
       "      /* Index of renderer in `output_area.display_order` */\n",
       "      index: 0\n",
       "    });\n",
       "  }\n",
       "\n",
       "  // register the mime type if in Jupyter Notebook environment and previously unregistered\n",
       "  if (root.Jupyter !== undefined) {\n",
       "    var events = require('base/js/events');\n",
       "    var OutputArea = require('notebook/js/outputarea').OutputArea;\n",
       "\n",
       "    if (OutputArea.prototype.mime_types().indexOf(EXEC_MIME_TYPE) == -1) {\n",
       "      register_renderer(events, OutputArea);\n",
       "    }\n",
       "  }\n",
       "\n",
       "  \n",
       "  if (typeof (root._bokeh_timeout) === \"undefined\" || force === true) {\n",
       "    root._bokeh_timeout = Date.now() + 5000;\n",
       "    root._bokeh_failed_load = false;\n",
       "  }\n",
       "\n",
       "  var NB_LOAD_WARNING = {'data': {'text/html':\n",
       "     \"<div style='background-color: #fdd'>\\n\"+\n",
       "     \"<p>\\n\"+\n",
       "     \"BokehJS does not appear to have successfully loaded. If loading BokehJS from CDN, this \\n\"+\n",
       "     \"may be due to a slow or bad network connection. Possible fixes:\\n\"+\n",
       "     \"</p>\\n\"+\n",
       "     \"<ul>\\n\"+\n",
       "     \"<li>re-rerun `output_notebook()` to attempt to load from CDN again, or</li>\\n\"+\n",
       "     \"<li>use INLINE resources instead, as so:</li>\\n\"+\n",
       "     \"</ul>\\n\"+\n",
       "     \"<code>\\n\"+\n",
       "     \"from bokeh.resources import INLINE\\n\"+\n",
       "     \"output_notebook(resources=INLINE)\\n\"+\n",
       "     \"</code>\\n\"+\n",
       "     \"</div>\"}};\n",
       "\n",
       "  function display_loaded() {\n",
       "    var el = document.getElementById(\"3286\");\n",
       "    if (el != null) {\n",
       "      el.textContent = \"BokehJS is loading...\";\n",
       "    }\n",
       "    if (root.Bokeh !== undefined) {\n",
       "      if (el != null) {\n",
       "        el.textContent = \"BokehJS \" + root.Bokeh.version + \" successfully loaded.\";\n",
       "      }\n",
       "    } else if (Date.now() < root._bokeh_timeout) {\n",
       "      setTimeout(display_loaded, 100)\n",
       "    }\n",
       "  }\n",
       "\n",
       "\n",
       "  function run_callbacks() {\n",
       "    try {\n",
       "      root._bokeh_onload_callbacks.forEach(function(callback) {\n",
       "        if (callback != null)\n",
       "          callback();\n",
       "      });\n",
       "    } finally {\n",
       "      delete root._bokeh_onload_callbacks\n",
       "    }\n",
       "    console.debug(\"Bokeh: all callbacks have finished\");\n",
       "  }\n",
       "\n",
       "  function load_libs(css_urls, js_urls, callback) {\n",
       "    if (css_urls == null) css_urls = [];\n",
       "    if (js_urls == null) js_urls = [];\n",
       "\n",
       "    root._bokeh_onload_callbacks.push(callback);\n",
       "    if (root._bokeh_is_loading > 0) {\n",
       "      console.debug(\"Bokeh: BokehJS is being loaded, scheduling callback at\", now());\n",
       "      return null;\n",
       "    }\n",
       "    if (js_urls == null || js_urls.length === 0) {\n",
       "      run_callbacks();\n",
       "      return null;\n",
       "    }\n",
       "    console.debug(\"Bokeh: BokehJS not loaded, scheduling load and callback at\", now());\n",
       "    root._bokeh_is_loading = css_urls.length + js_urls.length;\n",
       "\n",
       "    function on_load() {\n",
       "      root._bokeh_is_loading--;\n",
       "      if (root._bokeh_is_loading === 0) {\n",
       "        console.debug(\"Bokeh: all BokehJS libraries/stylesheets loaded\");\n",
       "        run_callbacks()\n",
       "      }\n",
       "    }\n",
       "\n",
       "    function on_error() {\n",
       "      console.error(\"failed to load \" + url);\n",
       "    }\n",
       "\n",
       "    for (var i = 0; i < css_urls.length; i++) {\n",
       "      var url = css_urls[i];\n",
       "      const element = document.createElement(\"link\");\n",
       "      element.onload = on_load;\n",
       "      element.onerror = on_error;\n",
       "      element.rel = \"stylesheet\";\n",
       "      element.type = \"text/css\";\n",
       "      element.href = url;\n",
       "      console.debug(\"Bokeh: injecting link tag for BokehJS stylesheet: \", url);\n",
       "      document.body.appendChild(element);\n",
       "    }\n",
       "\n",
       "    const hashes = {\"https://cdn.bokeh.org/bokeh/release/bokeh-2.2.1.min.js\": \"qkRvDQVAIfzsJo40iRBbxt6sttt0hv4lh74DG7OK4MCHv4C5oohXYoHUM5W11uqS\", \"https://cdn.bokeh.org/bokeh/release/bokeh-widgets-2.2.1.min.js\": \"Sb7Mr06a9TNlet/GEBeKaf5xH3eb6AlCzwjtU82wNPyDrnfoiVl26qnvlKjmcAd+\", \"https://cdn.bokeh.org/bokeh/release/bokeh-tables-2.2.1.min.js\": \"HaJ15vgfmcfRtB4c4YBOI4f1MUujukqInOWVqZJZZGK7Q+ivud0OKGSTn/Vm2iso\"};\n",
       "\n",
       "    for (var i = 0; i < js_urls.length; i++) {\n",
       "      var url = js_urls[i];\n",
       "      var element = document.createElement('script');\n",
       "      element.onload = on_load;\n",
       "      element.onerror = on_error;\n",
       "      element.async = false;\n",
       "      element.src = url;\n",
       "      if (url in hashes) {\n",
       "        element.crossOrigin = \"anonymous\";\n",
       "        element.integrity = \"sha384-\" + hashes[url];\n",
       "      }\n",
       "      console.debug(\"Bokeh: injecting script tag for BokehJS library: \", url);\n",
       "      document.head.appendChild(element);\n",
       "    }\n",
       "  };\n",
       "\n",
       "  function inject_raw_css(css) {\n",
       "    const element = document.createElement(\"style\");\n",
       "    element.appendChild(document.createTextNode(css));\n",
       "    document.body.appendChild(element);\n",
       "  }\n",
       "\n",
       "  \n",
       "  var js_urls = [\"https://cdn.bokeh.org/bokeh/release/bokeh-2.2.1.min.js\", \"https://cdn.bokeh.org/bokeh/release/bokeh-widgets-2.2.1.min.js\", \"https://cdn.bokeh.org/bokeh/release/bokeh-tables-2.2.1.min.js\"];\n",
       "  var css_urls = [];\n",
       "  \n",
       "\n",
       "  var inline_js = [\n",
       "    function(Bokeh) {\n",
       "      Bokeh.set_log_level(\"info\");\n",
       "    },\n",
       "    function(Bokeh) {\n",
       "    \n",
       "    \n",
       "    }\n",
       "  ];\n",
       "\n",
       "  function run_inline_js() {\n",
       "    \n",
       "    if (root.Bokeh !== undefined || force === true) {\n",
       "      \n",
       "    for (var i = 0; i < inline_js.length; i++) {\n",
       "      inline_js[i].call(root, root.Bokeh);\n",
       "    }\n",
       "    if (force === true) {\n",
       "        display_loaded();\n",
       "      }} else if (Date.now() < root._bokeh_timeout) {\n",
       "      setTimeout(run_inline_js, 100);\n",
       "    } else if (!root._bokeh_failed_load) {\n",
       "      console.log(\"Bokeh: BokehJS failed to load within specified timeout.\");\n",
       "      root._bokeh_failed_load = true;\n",
       "    } else if (force !== true) {\n",
       "      var cell = $(document.getElementById(\"3286\")).parents('.cell').data().cell;\n",
       "      cell.output_area.append_execute_result(NB_LOAD_WARNING)\n",
       "    }\n",
       "\n",
       "  }\n",
       "\n",
       "  if (root._bokeh_is_loading === 0) {\n",
       "    console.debug(\"Bokeh: BokehJS loaded, going straight to plotting\");\n",
       "    run_inline_js();\n",
       "  } else {\n",
       "    load_libs(css_urls, js_urls, function() {\n",
       "      console.debug(\"Bokeh: BokehJS plotting callback run at\", now());\n",
       "      run_inline_js();\n",
       "    });\n",
       "  }\n",
       "}(window));"
      ],
      "application/vnd.bokehjs_load.v0+json": "\n(function(root) {\n  function now() {\n    return new Date();\n  }\n\n  var force = true;\n\n  if (typeof root._bokeh_onload_callbacks === \"undefined\" || force === true) {\n    root._bokeh_onload_callbacks = [];\n    root._bokeh_is_loading = undefined;\n  }\n\n  \n\n  \n  if (typeof (root._bokeh_timeout) === \"undefined\" || force === true) {\n    root._bokeh_timeout = Date.now() + 5000;\n    root._bokeh_failed_load = false;\n  }\n\n  var NB_LOAD_WARNING = {'data': {'text/html':\n     \"<div style='background-color: #fdd'>\\n\"+\n     \"<p>\\n\"+\n     \"BokehJS does not appear to have successfully loaded. If loading BokehJS from CDN, this \\n\"+\n     \"may be due to a slow or bad network connection. Possible fixes:\\n\"+\n     \"</p>\\n\"+\n     \"<ul>\\n\"+\n     \"<li>re-rerun `output_notebook()` to attempt to load from CDN again, or</li>\\n\"+\n     \"<li>use INLINE resources instead, as so:</li>\\n\"+\n     \"</ul>\\n\"+\n     \"<code>\\n\"+\n     \"from bokeh.resources import INLINE\\n\"+\n     \"output_notebook(resources=INLINE)\\n\"+\n     \"</code>\\n\"+\n     \"</div>\"}};\n\n  function display_loaded() {\n    var el = document.getElementById(\"3286\");\n    if (el != null) {\n      el.textContent = \"BokehJS is loading...\";\n    }\n    if (root.Bokeh !== undefined) {\n      if (el != null) {\n        el.textContent = \"BokehJS \" + root.Bokeh.version + \" successfully loaded.\";\n      }\n    } else if (Date.now() < root._bokeh_timeout) {\n      setTimeout(display_loaded, 100)\n    }\n  }\n\n\n  function run_callbacks() {\n    try {\n      root._bokeh_onload_callbacks.forEach(function(callback) {\n        if (callback != null)\n          callback();\n      });\n    } finally {\n      delete root._bokeh_onload_callbacks\n    }\n    console.debug(\"Bokeh: all callbacks have finished\");\n  }\n\n  function load_libs(css_urls, js_urls, callback) {\n    if (css_urls == null) css_urls = [];\n    if (js_urls == null) js_urls = [];\n\n    root._bokeh_onload_callbacks.push(callback);\n    if (root._bokeh_is_loading > 0) {\n      console.debug(\"Bokeh: BokehJS is being loaded, scheduling callback at\", now());\n      return null;\n    }\n    if (js_urls == null || js_urls.length === 0) {\n      run_callbacks();\n      return null;\n    }\n    console.debug(\"Bokeh: BokehJS not loaded, scheduling load and callback at\", now());\n    root._bokeh_is_loading = css_urls.length + js_urls.length;\n\n    function on_load() {\n      root._bokeh_is_loading--;\n      if (root._bokeh_is_loading === 0) {\n        console.debug(\"Bokeh: all BokehJS libraries/stylesheets loaded\");\n        run_callbacks()\n      }\n    }\n\n    function on_error() {\n      console.error(\"failed to load \" + url);\n    }\n\n    for (var i = 0; i < css_urls.length; i++) {\n      var url = css_urls[i];\n      const element = document.createElement(\"link\");\n      element.onload = on_load;\n      element.onerror = on_error;\n      element.rel = \"stylesheet\";\n      element.type = \"text/css\";\n      element.href = url;\n      console.debug(\"Bokeh: injecting link tag for BokehJS stylesheet: \", url);\n      document.body.appendChild(element);\n    }\n\n    const hashes = {\"https://cdn.bokeh.org/bokeh/release/bokeh-2.2.1.min.js\": \"qkRvDQVAIfzsJo40iRBbxt6sttt0hv4lh74DG7OK4MCHv4C5oohXYoHUM5W11uqS\", \"https://cdn.bokeh.org/bokeh/release/bokeh-widgets-2.2.1.min.js\": \"Sb7Mr06a9TNlet/GEBeKaf5xH3eb6AlCzwjtU82wNPyDrnfoiVl26qnvlKjmcAd+\", \"https://cdn.bokeh.org/bokeh/release/bokeh-tables-2.2.1.min.js\": \"HaJ15vgfmcfRtB4c4YBOI4f1MUujukqInOWVqZJZZGK7Q+ivud0OKGSTn/Vm2iso\"};\n\n    for (var i = 0; i < js_urls.length; i++) {\n      var url = js_urls[i];\n      var element = document.createElement('script');\n      element.onload = on_load;\n      element.onerror = on_error;\n      element.async = false;\n      element.src = url;\n      if (url in hashes) {\n        element.crossOrigin = \"anonymous\";\n        element.integrity = \"sha384-\" + hashes[url];\n      }\n      console.debug(\"Bokeh: injecting script tag for BokehJS library: \", url);\n      document.head.appendChild(element);\n    }\n  };\n\n  function inject_raw_css(css) {\n    const element = document.createElement(\"style\");\n    element.appendChild(document.createTextNode(css));\n    document.body.appendChild(element);\n  }\n\n  \n  var js_urls = [\"https://cdn.bokeh.org/bokeh/release/bokeh-2.2.1.min.js\", \"https://cdn.bokeh.org/bokeh/release/bokeh-widgets-2.2.1.min.js\", \"https://cdn.bokeh.org/bokeh/release/bokeh-tables-2.2.1.min.js\"];\n  var css_urls = [];\n  \n\n  var inline_js = [\n    function(Bokeh) {\n      Bokeh.set_log_level(\"info\");\n    },\n    function(Bokeh) {\n    \n    \n    }\n  ];\n\n  function run_inline_js() {\n    \n    if (root.Bokeh !== undefined || force === true) {\n      \n    for (var i = 0; i < inline_js.length; i++) {\n      inline_js[i].call(root, root.Bokeh);\n    }\n    if (force === true) {\n        display_loaded();\n      }} else if (Date.now() < root._bokeh_timeout) {\n      setTimeout(run_inline_js, 100);\n    } else if (!root._bokeh_failed_load) {\n      console.log(\"Bokeh: BokehJS failed to load within specified timeout.\");\n      root._bokeh_failed_load = true;\n    } else if (force !== true) {\n      var cell = $(document.getElementById(\"3286\")).parents('.cell').data().cell;\n      cell.output_area.append_execute_result(NB_LOAD_WARNING)\n    }\n\n  }\n\n  if (root._bokeh_is_loading === 0) {\n    console.debug(\"Bokeh: BokehJS loaded, going straight to plotting\");\n    run_inline_js();\n  } else {\n    load_libs(css_urls, js_urls, function() {\n      console.debug(\"Bokeh: BokehJS plotting callback run at\", now());\n      run_inline_js();\n    });\n  }\n}(window));"
     },
     "metadata": {},
     "output_type": "display_data"
    },
    {
     "data": {
      "text/html": [
       "\n",
       "\n",
       "\n",
       "\n",
       "\n",
       "\n",
       "  <div class=\"bk-root\" id=\"334cd797-b26d-4505-9d75-477680d47066\" data-root-id=\"3358\"></div>\n"
      ]
     },
     "metadata": {},
     "output_type": "display_data"
    },
    {
     "data": {
      "application/javascript": [
       "(function(root) {\n",
       "  function embed_document(root) {\n",
       "    \n",
       "  var docs_json = {\"dd0fc231-c86f-47a3-8ba0-3ab1f6d8e6e6\":{\"roots\":{\"references\":[{\"attributes\":{\"children\":[{\"id\":\"3288\"},{\"id\":\"3328\"}]},\"id\":\"3358\",\"type\":\"Column\"},{\"attributes\":{\"align\":\"right\",\"text\":\"Drag the middle or edges of the selection box to change the range in the main chart\",\"text_font_size\":{\"value\":\"10px\"}},\"id\":\"3344\",\"type\":\"Title\"},{\"attributes\":{},\"id\":\"3380\",\"type\":\"Selection\"},{\"attributes\":{\"axis\":{\"id\":\"3339\"},\"ticker\":null},\"id\":\"3342\",\"type\":\"Grid\"},{\"attributes\":{},\"id\":\"3304\",\"type\":\"BasicTicker\"},{\"attributes\":{},\"id\":\"3381\",\"type\":\"UnionRenderers\"},{\"attributes\":{\"num_minor_ticks\":5,\"tickers\":[{\"id\":\"3383\"},{\"id\":\"3384\"},{\"id\":\"3385\"},{\"id\":\"3386\"},{\"id\":\"3387\"},{\"id\":\"3388\"},{\"id\":\"3389\"},{\"id\":\"3390\"},{\"id\":\"3391\"},{\"id\":\"3392\"},{\"id\":\"3393\"},{\"id\":\"3394\"}]},\"id\":\"3340\",\"type\":\"DatetimeTicker\"},{\"attributes\":{\"mantissas\":[1,2,5],\"max_interval\":500.0,\"num_minor_ticks\":0},\"id\":\"3383\",\"type\":\"AdaptiveTicker\"},{\"attributes\":{\"axis_label\":\"Event Time\",\"formatter\":{\"id\":\"3320\"},\"ticker\":{\"id\":\"3300\"}},\"id\":\"3299\",\"type\":\"DatetimeAxis\"},{\"attributes\":{\"base\":60,\"mantissas\":[1,2,5,10,15,20,30],\"max_interval\":1800000.0,\"min_interval\":1000.0,\"num_minor_ticks\":0},\"id\":\"3384\",\"type\":\"AdaptiveTicker\"},{\"attributes\":{},\"id\":\"3337\",\"type\":\"LinearScale\"},{\"attributes\":{\"base\":24,\"mantissas\":[1,2,4,6,8,12],\"max_interval\":43200000.0,\"min_interval\":3600000.0,\"num_minor_ticks\":0},\"id\":\"3385\",\"type\":\"AdaptiveTicker\"},{\"attributes\":{},\"id\":\"3362\",\"type\":\"BasicTickFormatter\"},{\"attributes\":{\"months\":[0,4,8]},\"id\":\"3377\",\"type\":\"MonthsTicker\"},{\"attributes\":{\"below\":[{\"id\":\"3339\"},{\"id\":\"3344\"}],\"center\":[{\"id\":\"3342\"}],\"plot_height\":120,\"plot_width\":900,\"renderers\":[{\"id\":\"3351\"}],\"title\":{\"id\":\"3329\"},\"toolbar\":{\"id\":\"3343\"},\"toolbar_location\":null,\"x_range\":{\"id\":\"3331\"},\"x_scale\":{\"id\":\"3335\"},\"y_range\":{\"id\":\"3333\"},\"y_scale\":{\"id\":\"3337\"}},\"id\":\"3328\",\"subtype\":\"Figure\",\"type\":\"Plot\"},{\"attributes\":{\"days\":[1,2,3,4,5,6,7,8,9,10,11,12,13,14,15,16,17,18,19,20,21,22,23,24,25,26,27,28,29,30,31]},\"id\":\"3386\",\"type\":\"DaysTicker\"},{\"attributes\":{},\"id\":\"3365\",\"type\":\"Selection\"},{\"attributes\":{\"data_source\":{\"id\":\"3347\"},\"glyph\":{\"id\":\"3349\"},\"hover_glyph\":null,\"muted_glyph\":null,\"nonselection_glyph\":{\"id\":\"3350\"},\"selection_glyph\":null,\"view\":{\"id\":\"3352\"}},\"id\":\"3351\",\"type\":\"GlyphRenderer\"},{\"attributes\":{\"fill_alpha\":{\"value\":0.1},\"fill_color\":{\"value\":\"navy\"},\"line_alpha\":{\"value\":0.1},\"line_color\":{\"value\":\"navy\"},\"top\":{\"field\":\"NoOfLogMessages\"},\"width\":{\"value\":4},\"x\":{\"field\":\"TimeGenerated\"}},\"id\":\"3325\",\"type\":\"VBar\"},{\"attributes\":{\"source\":{\"id\":\"3322\"}},\"id\":\"3327\",\"type\":\"CDSView\"},{\"attributes\":{\"months\":[0,6]},\"id\":\"3378\",\"type\":\"MonthsTicker\"},{\"attributes\":{\"days\":[1,4,7,10,13,16,19,22,25,28]},\"id\":\"3387\",\"type\":\"DaysTicker\"},{\"attributes\":{},\"id\":\"3379\",\"type\":\"YearsTicker\"},{\"attributes\":{\"days\":[1,8,15,22]},\"id\":\"3388\",\"type\":\"DaysTicker\"},{\"attributes\":{\"months\":[0,1,2,3,4,5,6,7,8,9,10,11]},\"id\":\"3375\",\"type\":\"MonthsTicker\"},{\"attributes\":{\"text\":\"Range Selector\"},\"id\":\"3329\",\"type\":\"Title\"},{\"attributes\":{\"days\":[\"%m-%d %H:%M\"],\"hours\":[\"%H:%M:%S\"],\"milliseconds\":[\"%H:%M:%S.%3N\"],\"minutes\":[\"%H:%M:%S\"],\"seconds\":[\"%H:%M:%S\"]},\"id\":\"3345\",\"type\":\"DatetimeTickFormatter\"},{\"attributes\":{\"days\":[1,15]},\"id\":\"3389\",\"type\":\"DaysTicker\"},{\"attributes\":{\"data\":{\"NoOfLogMessages\":[1,0,0,0,0,0,0,0,0,0,0,0,0,0,0,0,0,0,0,0,0,0,0,0,0,0,0,0,0,0,0,0,0,0,0,0,0,0,0,0,0,0,0,0,0,0,0,0,0,0,0,0,0,0,0,0,0,0,0,0,0,0,0,0,0,0,0,0,0,0,0,0,0,0,0,0,0,0,0,0,0,0,0,0,0,0,0,0,0,0,0,0,0,0,0,0,0,0,0,0,0,0,0,0,0,0,0,0,0,0,0,0,0,0,0,0,0,0,0,0,0,0,0,0,0,0,0,0,0,0,0,0,0,0,0,0,0,0,0,0,0,0,0,0,0,0,0,0,0,0,0,0,0,0,0,0,0,0,0,0,0,0,0,0,0,0,0,0,0,0,0,0,0,0,0,0,0,0,0,0,0,0,0,0,0,0,0,0,0,0,0,0,0,0,0,0,0,0,0,0,0,0,0,0,0,0,0,0,0,0,0,0,0,0,0,0,0,0,0,0,0,0,0,0,0,0,0,0,0,0,0,0,0,0,0,0,0,0,0,0,0,0,0,0,0,0,0,0,0,0,0,0,0,0,0,0,0,0,0,0,0,0,0,0,0,0,0,0,0,0,0,0,0,0,0,3],\"TimeGenerated\":{\"__ndarray__\":\"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\",\"dtype\":\"float64\",\"order\":\"little\",\"shape\":[276]},\"color\":[\"navy\",\"navy\",\"navy\",\"navy\",\"navy\",\"navy\",\"navy\",\"navy\",\"navy\",\"navy\",\"navy\",\"navy\",\"navy\",\"navy\",\"navy\",\"navy\",\"navy\",\"navy\",\"navy\",\"navy\",\"navy\",\"navy\",\"navy\",\"navy\",\"navy\",\"navy\",\"navy\",\"navy\",\"navy\",\"navy\",\"navy\",\"navy\",\"navy\",\"navy\",\"navy\",\"navy\",\"navy\",\"navy\",\"navy\",\"navy\",\"navy\",\"navy\",\"navy\",\"navy\",\"navy\",\"navy\",\"navy\",\"navy\",\"navy\",\"navy\",\"navy\",\"navy\",\"navy\",\"navy\",\"navy\",\"navy\",\"navy\",\"navy\",\"navy\",\"navy\",\"navy\",\"navy\",\"navy\",\"navy\",\"navy\",\"navy\",\"navy\",\"navy\",\"navy\",\"navy\",\"navy\",\"navy\",\"navy\",\"navy\",\"navy\",\"navy\",\"navy\",\"navy\",\"navy\",\"navy\",\"navy\",\"navy\",\"navy\",\"navy\",\"navy\",\"navy\",\"navy\",\"navy\",\"navy\",\"navy\",\"navy\",\"navy\",\"navy\",\"navy\",\"navy\",\"navy\",\"navy\",\"navy\",\"navy\",\"navy\",\"navy\",\"navy\",\"navy\",\"navy\",\"navy\",\"navy\",\"navy\",\"navy\",\"navy\",\"navy\",\"navy\",\"navy\",\"navy\",\"navy\",\"navy\",\"navy\",\"navy\",\"navy\",\"navy\",\"navy\",\"navy\",\"navy\",\"navy\",\"navy\",\"navy\",\"navy\",\"navy\",\"navy\",\"navy\",\"navy\",\"navy\",\"navy\",\"navy\",\"navy\",\"navy\",\"navy\",\"navy\",\"navy\",\"navy\",\"navy\",\"navy\",\"navy\",\"navy\",\"navy\",\"navy\",\"navy\",\"navy\",\"navy\",\"navy\",\"navy\",\"navy\",\"navy\",\"navy\",\"navy\",\"navy\",\"navy\",\"navy\",\"navy\",\"navy\",\"navy\",\"navy\",\"navy\",\"navy\",\"navy\",\"navy\",\"navy\",\"navy\",\"navy\",\"navy\",\"navy\",\"navy\",\"navy\",\"navy\",\"navy\",\"navy\",\"navy\",\"navy\",\"navy\",\"navy\",\"navy\",\"navy\",\"navy\",\"navy\",\"navy\",\"navy\",\"navy\",\"navy\",\"navy\",\"navy\",\"navy\",\"navy\",\"navy\",\"navy\",\"navy\",\"navy\",\"navy\",\"navy\",\"navy\",\"navy\",\"navy\",\"navy\",\"navy\",\"navy\",\"navy\",\"navy\",\"navy\",\"navy\",\"navy\",\"navy\",\"navy\",\"navy\",\"navy\",\"navy\",\"navy\",\"navy\",\"navy\",\"navy\",\"navy\",\"navy\",\"navy\",\"navy\",\"navy\",\"navy\",\"navy\",\"navy\",\"navy\",\"navy\",\"navy\",\"navy\",\"navy\",\"navy\",\"navy\",\"navy\",\"navy\",\"navy\",\"navy\",\"navy\",\"navy\",\"navy\",\"navy\",\"navy\",\"navy\",\"navy\",\"navy\",\"navy\",\"navy\",\"navy\",\"navy\",\"navy\",\"navy\",\"navy\",\"navy\",\"navy\",\"navy\",\"navy\",\"navy\",\"navy\",\"navy\",\"navy\",\"navy\",\"navy\",\"navy\",\"navy\",\"navy\",\"navy\",\"navy\",\"navy\",\"navy\",\"navy\",\"navy\",\"navy\",\"navy\",\"navy\",\"navy\",\"navy\",\"navy\"],\"index\":[0,1,2,3,4,5,6,7,8,9,10,11,12,13,14,15,16,17,18,19,20,21,22,23,24,25,26,27,28,29,30,31,32,33,34,35,36,37,38,39,40,41,42,43,44,45,46,47,48,49,50,51,52,53,54,55,56,57,58,59,60,61,62,63,64,65,66,67,68,69,70,71,72,73,74,75,76,77,78,79,80,81,82,83,84,85,86,87,88,89,90,91,92,93,94,95,96,97,98,99,100,101,102,103,104,105,106,107,108,109,110,111,112,113,114,115,116,117,118,119,120,121,122,123,124,125,126,127,128,129,130,131,132,133,134,135,136,137,138,139,140,141,142,143,144,145,146,147,148,149,150,151,152,153,154,155,156,157,158,159,160,161,162,163,164,165,166,167,168,169,170,171,172,173,174,175,176,177,178,179,180,181,182,183,184,185,186,187,188,189,190,191,192,193,194,195,196,197,198,199,200,201,202,203,204,205,206,207,208,209,210,211,212,213,214,215,216,217,218,219,220,221,222,223,224,225,226,227,228,229,230,231,232,233,234,235,236,237,238,239,240,241,242,243,244,245,246,247,248,249,250,251,252,253,254,255,256,257,258,259,260,261,262,263,264,265,266,267,268,269,270,271,272,273,274,275],\"y_index\":[1,1,1,1,1,1,1,1,1,1,1,1,1,1,1,1,1,1,1,1,1,1,1,1,1,1,1,1,1,1,1,1,1,1,1,1,1,1,1,1,1,1,1,1,1,1,1,1,1,1,1,1,1,1,1,1,1,1,1,1,1,1,1,1,1,1,1,1,1,1,1,1,1,1,1,1,1,1,1,1,1,1,1,1,1,1,1,1,1,1,1,1,1,1,1,1,1,1,1,1,1,1,1,1,1,1,1,1,1,1,1,1,1,1,1,1,1,1,1,1,1,1,1,1,1,1,1,1,1,1,1,1,1,1,1,1,1,1,1,1,1,1,1,1,1,1,1,1,1,1,1,1,1,1,1,1,1,1,1,1,1,1,1,1,1,1,1,1,1,1,1,1,1,1,1,1,1,1,1,1,1,1,1,1,1,1,1,1,1,1,1,1,1,1,1,1,1,1,1,1,1,1,1,1,1,1,1,1,1,1,1,1,1,1,1,1,1,1,1,1,1,1,1,1,1,1,1,1,1,1,1,1,1,1,1,1,1,1,1,1,1,1,1,1,1,1,1,1,1,1,1,1,1,1,1,1,1,1,1,1,1,1,1,1,1,1,1,1,1,1,1,1,1,1,1,1]},\"selected\":{\"id\":\"3380\"},\"selection_policy\":{\"id\":\"3381\"}},\"id\":\"3347\",\"type\":\"ColumnDataSource\"},{\"attributes\":{\"months\":[0,2,4,6,8,10]},\"id\":\"3376\",\"type\":\"MonthsTicker\"},{\"attributes\":{\"months\":[0,1,2,3,4,5,6,7,8,9,10,11]},\"id\":\"3390\",\"type\":\"MonthsTicker\"},{\"attributes\":{},\"id\":\"3293\",\"type\":\"DataRange1d\"},{\"attributes\":{},\"id\":\"3297\",\"type\":\"LinearScale\"},{\"attributes\":{\"below\":[{\"id\":\"3299\"}],\"center\":[{\"id\":\"3302\"},{\"id\":\"3306\"}],\"left\":[{\"id\":\"3303\"}],\"min_border_left\":50,\"plot_height\":300,\"plot_width\":900,\"renderers\":[{\"id\":\"3326\"}],\"title\":{\"id\":\"3289\"},\"toolbar\":{\"id\":\"3313\"},\"toolbar_location\":\"above\",\"x_range\":{\"id\":\"3291\"},\"x_scale\":{\"id\":\"3295\"},\"y_range\":{\"id\":\"3293\"},\"y_scale\":{\"id\":\"3297\"}},\"id\":\"3288\",\"subtype\":\"Figure\",\"type\":\"Plot\"},{\"attributes\":{\"source\":{\"id\":\"3347\"}},\"id\":\"3352\",\"type\":\"CDSView\"},{\"attributes\":{},\"id\":\"3366\",\"type\":\"UnionRenderers\"},{\"attributes\":{\"months\":[0,2,4,6,8,10]},\"id\":\"3391\",\"type\":\"MonthsTicker\"},{\"attributes\":{\"overlay\":{\"id\":\"3354\"},\"x_range\":{\"id\":\"3291\"},\"y_range\":null},\"id\":\"3353\",\"type\":\"RangeTool\"},{\"attributes\":{\"active_drag\":\"auto\",\"active_inspect\":\"auto\",\"active_multi\":null,\"active_scroll\":\"auto\",\"active_tap\":\"auto\",\"tools\":[{\"id\":\"3287\"},{\"id\":\"3307\"},{\"id\":\"3308\"},{\"id\":\"3309\"},{\"id\":\"3310\"},{\"id\":\"3311\"}]},\"id\":\"3313\",\"type\":\"Toolbar\"},{\"attributes\":{\"days\":[1,8,15,22]},\"id\":\"3373\",\"type\":\"DaysTicker\"},{\"attributes\":{\"months\":[0,4,8]},\"id\":\"3392\",\"type\":\"MonthsTicker\"},{\"attributes\":{\"axis\":{\"id\":\"3303\"},\"dimension\":1,\"grid_line_alpha\":0.3,\"grid_line_color\":\"navy\",\"minor_grid_line_alpha\":0.1,\"minor_grid_line_color\":\"navy\",\"ticker\":null},\"id\":\"3306\",\"type\":\"Grid\"},{\"attributes\":{\"months\":[0,6]},\"id\":\"3393\",\"type\":\"MonthsTicker\"},{\"attributes\":{\"active_drag\":\"auto\",\"active_inspect\":\"auto\",\"active_multi\":{\"id\":\"3353\"},\"active_scroll\":\"auto\",\"active_tap\":\"auto\",\"tools\":[{\"id\":\"3353\"}]},\"id\":\"3343\",\"type\":\"Toolbar\"},{\"attributes\":{\"dimensions\":\"width\"},\"id\":\"3307\",\"type\":\"WheelZoomTool\"},{\"attributes\":{\"fill_alpha\":0.2,\"fill_color\":\"navy\",\"level\":\"overlay\",\"line_alpha\":1.0,\"line_color\":\"black\",\"line_dash\":[2,2],\"line_width\":0.5},\"id\":\"3354\",\"type\":\"BoxAnnotation\"},{\"attributes\":{\"overlay\":{\"id\":\"3312\"}},\"id\":\"3308\",\"type\":\"BoxZoomTool\"},{\"attributes\":{\"base\":24,\"mantissas\":[1,2,4,6,8,12],\"max_interval\":43200000.0,\"min_interval\":3600000.0,\"num_minor_ticks\":0},\"id\":\"3370\",\"type\":\"AdaptiveTicker\"},{\"attributes\":{\"fill_color\":{\"value\":\"blue\"},\"line_color\":{\"value\":\"blue\"},\"x\":{\"field\":\"TimeGenerated\"},\"y\":{\"field\":\"y_index\"}},\"id\":\"3349\",\"type\":\"Circle\"},{\"attributes\":{\"callback\":null,\"formatters\":{\"@TimeGenerated\":\"datetime\"},\"tooltips\":[[\"NoOfLogMessages\",\"@NoOfLogMessages\"],[\"TimeGenerated\",\"@TimeGenerated{%F %T.%3N}\"]]},\"id\":\"3287\",\"type\":\"HoverTool\"},{\"attributes\":{\"dimensions\":\"width\"},\"id\":\"3311\",\"type\":\"PanTool\"},{\"attributes\":{},\"id\":\"3394\",\"type\":\"YearsTicker\"},{\"attributes\":{\"data\":{\"NoOfLogMessages\":[1,0,0,0,0,0,0,0,0,0,0,0,0,0,0,0,0,0,0,0,0,0,0,0,0,0,0,0,0,0,0,0,0,0,0,0,0,0,0,0,0,0,0,0,0,0,0,0,0,0,0,0,0,0,0,0,0,0,0,0,0,0,0,0,0,0,0,0,0,0,0,0,0,0,0,0,0,0,0,0,0,0,0,0,0,0,0,0,0,0,0,0,0,0,0,0,0,0,0,0,0,0,0,0,0,0,0,0,0,0,0,0,0,0,0,0,0,0,0,0,0,0,0,0,0,0,0,0,0,0,0,0,0,0,0,0,0,0,0,0,0,0,0,0,0,0,0,0,0,0,0,0,0,0,0,0,0,0,0,0,0,0,0,0,0,0,0,0,0,0,0,0,0,0,0,0,0,0,0,0,0,0,0,0,0,0,0,0,0,0,0,0,0,0,0,0,0,0,0,0,0,0,0,0,0,0,0,0,0,0,0,0,0,0,0,0,0,0,0,0,0,0,0,0,0,0,0,0,0,0,0,0,0,0,0,0,0,0,0,0,0,0,0,0,0,0,0,0,0,0,0,0,0,0,0,0,0,0,0,0,0,0,0,0,0,0,0,0,0,0,0,0,0,0,0,3],\"TimeGenerated\":{\"__ndarray__\":\"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\",\"dtype\":\"float64\",\"order\":\"little\",\"shape\":[276]},\"color\":[\"navy\",\"navy\",\"navy\",\"navy\",\"navy\",\"navy\",\"navy\",\"navy\",\"navy\",\"navy\",\"navy\",\"navy\",\"navy\",\"navy\",\"navy\",\"navy\",\"navy\",\"navy\",\"navy\",\"navy\",\"navy\",\"navy\",\"navy\",\"navy\",\"navy\",\"navy\",\"navy\",\"navy\",\"navy\",\"navy\",\"navy\",\"navy\",\"navy\",\"navy\",\"navy\",\"navy\",\"navy\",\"navy\",\"navy\",\"navy\",\"navy\",\"navy\",\"navy\",\"navy\",\"navy\",\"navy\",\"navy\",\"navy\",\"navy\",\"navy\",\"navy\",\"navy\",\"navy\",\"navy\",\"navy\",\"navy\",\"navy\",\"navy\",\"navy\",\"navy\",\"navy\",\"navy\",\"navy\",\"navy\",\"navy\",\"navy\",\"navy\",\"navy\",\"navy\",\"navy\",\"navy\",\"navy\",\"navy\",\"navy\",\"navy\",\"navy\",\"navy\",\"navy\",\"navy\",\"navy\",\"navy\",\"navy\",\"navy\",\"navy\",\"navy\",\"navy\",\"navy\",\"navy\",\"navy\",\"navy\",\"navy\",\"navy\",\"navy\",\"navy\",\"navy\",\"navy\",\"navy\",\"navy\",\"navy\",\"navy\",\"navy\",\"navy\",\"navy\",\"navy\",\"navy\",\"navy\",\"navy\",\"navy\",\"navy\",\"navy\",\"navy\",\"navy\",\"navy\",\"navy\",\"navy\",\"navy\",\"navy\",\"navy\",\"navy\",\"navy\",\"navy\",\"navy\",\"navy\",\"navy\",\"navy\",\"navy\",\"navy\",\"navy\",\"navy\",\"navy\",\"navy\",\"navy\",\"navy\",\"navy\",\"navy\",\"navy\",\"navy\",\"navy\",\"navy\",\"navy\",\"navy\",\"navy\",\"navy\",\"navy\",\"navy\",\"navy\",\"navy\",\"navy\",\"navy\",\"navy\",\"navy\",\"navy\",\"navy\",\"navy\",\"navy\",\"navy\",\"navy\",\"navy\",\"navy\",\"navy\",\"navy\",\"navy\",\"navy\",\"navy\",\"navy\",\"navy\",\"navy\",\"navy\",\"navy\",\"navy\",\"navy\",\"navy\",\"navy\",\"navy\",\"navy\",\"navy\",\"navy\",\"navy\",\"navy\",\"navy\",\"navy\",\"navy\",\"navy\",\"navy\",\"navy\",\"navy\",\"navy\",\"navy\",\"navy\",\"navy\",\"navy\",\"navy\",\"navy\",\"navy\",\"navy\",\"navy\",\"navy\",\"navy\",\"navy\",\"navy\",\"navy\",\"navy\",\"navy\",\"navy\",\"navy\",\"navy\",\"navy\",\"navy\",\"navy\",\"navy\",\"navy\",\"navy\",\"navy\",\"navy\",\"navy\",\"navy\",\"navy\",\"navy\",\"navy\",\"navy\",\"navy\",\"navy\",\"navy\",\"navy\",\"navy\",\"navy\",\"navy\",\"navy\",\"navy\",\"navy\",\"navy\",\"navy\",\"navy\",\"navy\",\"navy\",\"navy\",\"navy\",\"navy\",\"navy\",\"navy\",\"navy\",\"navy\",\"navy\",\"navy\",\"navy\",\"navy\",\"navy\",\"navy\",\"navy\",\"navy\",\"navy\",\"navy\",\"navy\",\"navy\",\"navy\",\"navy\",\"navy\",\"navy\",\"navy\",\"navy\",\"navy\",\"navy\",\"navy\",\"navy\",\"navy\",\"navy\",\"navy\",\"navy\",\"navy\",\"navy\",\"navy\",\"navy\",\"navy\",\"navy\",\"navy\",\"navy\"],\"index\":[0,1,2,3,4,5,6,7,8,9,10,11,12,13,14,15,16,17,18,19,20,21,22,23,24,25,26,27,28,29,30,31,32,33,34,35,36,37,38,39,40,41,42,43,44,45,46,47,48,49,50,51,52,53,54,55,56,57,58,59,60,61,62,63,64,65,66,67,68,69,70,71,72,73,74,75,76,77,78,79,80,81,82,83,84,85,86,87,88,89,90,91,92,93,94,95,96,97,98,99,100,101,102,103,104,105,106,107,108,109,110,111,112,113,114,115,116,117,118,119,120,121,122,123,124,125,126,127,128,129,130,131,132,133,134,135,136,137,138,139,140,141,142,143,144,145,146,147,148,149,150,151,152,153,154,155,156,157,158,159,160,161,162,163,164,165,166,167,168,169,170,171,172,173,174,175,176,177,178,179,180,181,182,183,184,185,186,187,188,189,190,191,192,193,194,195,196,197,198,199,200,201,202,203,204,205,206,207,208,209,210,211,212,213,214,215,216,217,218,219,220,221,222,223,224,225,226,227,228,229,230,231,232,233,234,235,236,237,238,239,240,241,242,243,244,245,246,247,248,249,250,251,252,253,254,255,256,257,258,259,260,261,262,263,264,265,266,267,268,269,270,271,272,273,274,275],\"y_index\":[1,1,1,1,1,1,1,1,1,1,1,1,1,1,1,1,1,1,1,1,1,1,1,1,1,1,1,1,1,1,1,1,1,1,1,1,1,1,1,1,1,1,1,1,1,1,1,1,1,1,1,1,1,1,1,1,1,1,1,1,1,1,1,1,1,1,1,1,1,1,1,1,1,1,1,1,1,1,1,1,1,1,1,1,1,1,1,1,1,1,1,1,1,1,1,1,1,1,1,1,1,1,1,1,1,1,1,1,1,1,1,1,1,1,1,1,1,1,1,1,1,1,1,1,1,1,1,1,1,1,1,1,1,1,1,1,1,1,1,1,1,1,1,1,1,1,1,1,1,1,1,1,1,1,1,1,1,1,1,1,1,1,1,1,1,1,1,1,1,1,1,1,1,1,1,1,1,1,1,1,1,1,1,1,1,1,1,1,1,1,1,1,1,1,1,1,1,1,1,1,1,1,1,1,1,1,1,1,1,1,1,1,1,1,1,1,1,1,1,1,1,1,1,1,1,1,1,1,1,1,1,1,1,1,1,1,1,1,1,1,1,1,1,1,1,1,1,1,1,1,1,1,1,1,1,1,1,1,1,1,1,1,1,1,1,1,1,1,1,1,1,1,1,1,1,1]},\"selected\":{\"id\":\"3365\"},\"selection_policy\":{\"id\":\"3366\"}},\"id\":\"3322\",\"type\":\"ColumnDataSource\"},{\"attributes\":{},\"id\":\"3333\",\"type\":\"DataRange1d\"},{\"attributes\":{},\"id\":\"3309\",\"type\":\"ResetTool\"},{\"attributes\":{},\"id\":\"3335\",\"type\":\"LinearScale\"},{\"attributes\":{\"base\":60,\"mantissas\":[1,2,5,10,15,20,30],\"max_interval\":1800000.0,\"min_interval\":1000.0,\"num_minor_ticks\":0},\"id\":\"3369\",\"type\":\"AdaptiveTicker\"},{\"attributes\":{\"data_source\":{\"id\":\"3322\"},\"glyph\":{\"id\":\"3324\"},\"hover_glyph\":null,\"muted_glyph\":null,\"nonselection_glyph\":{\"id\":\"3325\"},\"selection_glyph\":null,\"view\":{\"id\":\"3327\"}},\"id\":\"3326\",\"type\":\"GlyphRenderer\"},{\"attributes\":{\"end\":1602316950000.0,\"start\":1602217950000.0},\"id\":\"3291\",\"type\":\"Range1d\"},{\"attributes\":{},\"id\":\"3310\",\"type\":\"SaveTool\"},{\"attributes\":{\"num_minor_ticks\":10,\"tickers\":[{\"id\":\"3368\"},{\"id\":\"3369\"},{\"id\":\"3370\"},{\"id\":\"3371\"},{\"id\":\"3372\"},{\"id\":\"3373\"},{\"id\":\"3374\"},{\"id\":\"3375\"},{\"id\":\"3376\"},{\"id\":\"3377\"},{\"id\":\"3378\"},{\"id\":\"3379\"}]},\"id\":\"3300\",\"type\":\"DatetimeTicker\"},{\"attributes\":{\"axis\":{\"id\":\"3299\"},\"grid_line_alpha\":0.3,\"grid_line_color\":\"navy\",\"minor_grid_line_alpha\":0.1,\"minor_grid_line_color\":\"navy\",\"ticker\":null},\"id\":\"3302\",\"type\":\"Grid\"},{\"attributes\":{\"days\":[\"%m-%d %H:%M\"],\"hours\":[\"%H:%M:%S\"],\"milliseconds\":[\"%H:%M:%S.%3N\"],\"minutes\":[\"%H:%M:%S\"],\"seconds\":[\"%H:%M:%S\"]},\"id\":\"3320\",\"type\":\"DatetimeTickFormatter\"},{\"attributes\":{\"days\":[1,4,7,10,13,16,19,22,25,28]},\"id\":\"3372\",\"type\":\"DaysTicker\"},{\"attributes\":{\"mantissas\":[1,2,5],\"max_interval\":500.0,\"num_minor_ticks\":0},\"id\":\"3368\",\"type\":\"AdaptiveTicker\"},{\"attributes\":{\"text\":\"rsyslogd log volume over time\"},\"id\":\"3289\",\"type\":\"Title\"},{\"attributes\":{\"end\":1602321075000.0,\"start\":1602213825000.0},\"id\":\"3331\",\"type\":\"Range1d\"},{\"attributes\":{\"fill_alpha\":{\"value\":0.1},\"fill_color\":{\"value\":\"blue\"},\"line_alpha\":{\"value\":0.1},\"line_color\":{\"value\":\"blue\"},\"x\":{\"field\":\"TimeGenerated\"},\"y\":{\"field\":\"y_index\"}},\"id\":\"3350\",\"type\":\"Circle\"},{\"attributes\":{\"days\":[1,15]},\"id\":\"3374\",\"type\":\"DaysTicker\"},{\"attributes\":{\"days\":[1,2,3,4,5,6,7,8,9,10,11,12,13,14,15,16,17,18,19,20,21,22,23,24,25,26,27,28,29,30,31]},\"id\":\"3371\",\"type\":\"DaysTicker\"},{\"attributes\":{\"fill_alpha\":{\"value\":0.7},\"fill_color\":{\"value\":\"navy\"},\"line_alpha\":{\"value\":0.7},\"line_color\":{\"value\":\"navy\"},\"top\":{\"field\":\"NoOfLogMessages\"},\"width\":{\"value\":4},\"x\":{\"field\":\"TimeGenerated\"}},\"id\":\"3324\",\"type\":\"VBar\"},{\"attributes\":{\"axis_label\":\"NoOfLogMessages\",\"formatter\":{\"id\":\"3362\"},\"ticker\":{\"id\":\"3304\"}},\"id\":\"3303\",\"type\":\"LinearAxis\"},{\"attributes\":{\"bottom_units\":\"screen\",\"fill_alpha\":0.5,\"fill_color\":\"lightgrey\",\"left_units\":\"screen\",\"level\":\"overlay\",\"line_alpha\":1.0,\"line_color\":\"black\",\"line_dash\":[4,4],\"line_width\":2,\"right_units\":\"screen\",\"top_units\":\"screen\"},\"id\":\"3312\",\"type\":\"BoxAnnotation\"},{\"attributes\":{},\"id\":\"3295\",\"type\":\"LinearScale\"},{\"attributes\":{\"formatter\":{\"id\":\"3345\"},\"ticker\":{\"id\":\"3340\"}},\"id\":\"3339\",\"type\":\"DatetimeAxis\"}],\"root_ids\":[\"3358\"]},\"title\":\"Bokeh Application\",\"version\":\"2.2.1\"}};\n",
       "  var render_items = [{\"docid\":\"dd0fc231-c86f-47a3-8ba0-3ab1f6d8e6e6\",\"root_ids\":[\"3358\"],\"roots\":{\"3358\":\"334cd797-b26d-4505-9d75-477680d47066\"}}];\n",
       "  root.Bokeh.embed.embed_items_notebook(docs_json, render_items);\n",
       "\n",
       "  }\n",
       "  if (root.Bokeh !== undefined) {\n",
       "    embed_document(root);\n",
       "  } else {\n",
       "    var attempts = 0;\n",
       "    var timer = setInterval(function(root) {\n",
       "      if (root.Bokeh !== undefined) {\n",
       "        clearInterval(timer);\n",
       "        embed_document(root);\n",
       "      } else {\n",
       "        attempts++;\n",
       "        if (attempts > 100) {\n",
       "          clearInterval(timer);\n",
       "          console.log(\"Bokeh: ERROR: Unable to run BokehJS code because BokehJS library is missing\");\n",
       "        }\n",
       "      }\n",
       "    }, 10, root)\n",
       "  }\n",
       "})(window);"
      ],
      "application/vnd.bokehjs_exec.v0+json": ""
     },
     "metadata": {
      "application/vnd.bokehjs_exec.v0+json": {
       "id": "3358"
      }
     },
     "output_type": "display_data"
    }
   ],
   "source": [
    "# Get all syslog relating to these Applications\n",
    "app = app_select.value\n",
    "app_data = all_syslog_data[all_syslog_data['ProcessName'] == app].copy()\n",
    "\n",
    "# App log volume over time\n",
    "if isinstance(app_data, pd.DataFrame) and not app_data.empty:\n",
    "    app_data_volume = app_data.set_index(\n",
    "        \"TimeGenerated\").resample('5T').count()\n",
    "    app_data_volume.reset_index(level=0, inplace=True)\n",
    "    app_data_volume.rename(columns={\"TenantId\" : \"NoOfLogMessages\"}, inplace=True)\n",
    "    nbdisplay.display_timeline_values(data=app_data_volume, y='NoOfLogMessages', source_columns=['NoOfLogMessages'], title=f\"{app} log volume over time\") \n",
    "    \n",
    "    app_high_sev = app_data[app_data['SeverityLevel'].isin(\n",
    "        ['emerg', 'alert', 'crit', 'err', 'warning'])]\n",
    "    if isinstance(app_high_sev, pd.DataFrame) and not app_high_sev.empty:\n",
    "        app_hs_volume = app_high_sev.set_index(\n",
    "            \"TimeGenerated\").resample('5T').count()\n",
    "        app_hs_volume.reset_index(level=0, inplace=True)\n",
    "        app_hs_volume.rename(columns={\"TenantId\" : \"NoOfLogMessages\"}, inplace=True)\n",
    "        nbdisplay.display_timeline_values(data=app_hs_volume, y='NoOfLogMessages', source_columns=['NoOfLogMessages'], title=f\"{app} high severity log volume over time\") \n",
    "\n",
    "risky_messages = risky_cmd_line(events=app_data, log_type=\"Syslog\", cmd_field=\"SyslogMessage\")\n",
    "if risky_messages:\n",
    "    print(risky_messages)"
   ]
  },
  {
   "cell_type": "markdown",
   "metadata": {},
   "source": [
    "### Display process tree\n",
    "Due to the large volume of data involved you may wish to make you query window smaller"
   ]
  },
  {
   "cell_type": "code",
   "execution_count": 66,
   "metadata": {
    "ExecuteTime": {
     "end_time": "2020-06-24T01:59:29.756566Z",
     "start_time": "2020-06-24T01:59:29.702565Z"
    }
   },
   "outputs": [
    {
     "data": {
      "application/vnd.jupyter.widget-view+json": {
       "model_id": "e8aa0ac131f44f418309f91aaca5da4d",
       "version_major": 2,
       "version_minor": 0
      },
      "text/plain": [
       "HTML(value='<h4>Set query time boundaries</h4>')"
      ]
     },
     "metadata": {},
     "output_type": "display_data"
    },
    {
     "data": {
      "application/vnd.jupyter.widget-view+json": {
       "model_id": "a031920edd5740f78f6fe40893ec59e0",
       "version_major": 2,
       "version_minor": 0
      },
      "text/plain": [
       "HBox(children=(DatePicker(value=datetime.date(2020, 10, 9), description='Origin Date'), Text(value='05:59:21.6…"
      ]
     },
     "metadata": {},
     "output_type": "display_data"
    },
    {
     "data": {
      "application/vnd.jupyter.widget-view+json": {
       "model_id": "2d444ce6278947b4b0ad0582bf303140",
       "version_major": 2,
       "version_minor": 0
      },
      "text/plain": [
       "VBox(children=(IntRangeSlider(value=(-1, 6), description='Time Range (hour):', layout=Layout(width='80%'), max…"
      ]
     },
     "metadata": {},
     "output_type": "display_data"
    }
   ],
   "source": [
    "if rel_alert_select is None or rel_alert_select.selected_alert is None:\n",
    "    start = query_times.start\n",
    "else:\n",
    "    start = rel_alert_select.selected_alert['TimeGenerated']\n",
    "\n",
    "# Set new investigation time windows based on the selected alert\n",
    "proc_invest_times = nbwidgets.QueryTime(units='hours',\n",
    "                                       max_before=6, max_after=6, before=1, origin_time=start)\n",
    "proc_invest_times.display()"
   ]
  },
  {
   "cell_type": "code",
   "execution_count": 69,
   "metadata": {
    "ExecuteTime": {
     "end_time": "2020-06-24T02:01:09.922496Z",
     "start_time": "2020-06-24T02:00:19.315827Z"
    }
   },
   "outputs": [
    {
     "name": "stdout",
     "output_type": "stream",
     "text": [
      "Collecting audit data, please wait this may take some time....\n",
      "querying audit data...\n"
     ]
    },
    {
     "data": {
      "text/html": [
       "\n",
       "        <style>\n",
       "            div.solid {border: thin solid black; padding:10px;}\n",
       "            p.title {background-color:Tomato; padding:5px;}\n",
       "            ul.circle {list-style-type: circle;}\n",
       "        </style>\n",
       "        <div class='solid'><h3><p class='title'>MsticpyDataQueryError - we've hit an error while running</p></h3>StatusDescription None<br>(err_code: None)<br>Query:<br> AuditLog_CL | where true | where TimeGenerated >= datetime(2020-10-09T04:59:21.644004Z) | where TimeGenerated <= datetime(2020-10-09T11:59:21.644004Z) | where Computer has \"k8skindvm\" | extend mssg_parts = extract_all(@\"type=(?P<type>[^\\s]+)\\s+msg=audit\\((?P<mssg_id>[^)]+)\\):\\s+(?P<mssg>[^\\r]+)\\r?\", dynamic([\"type\", \"mssg_id\", \"mssg\"]), RawData) | extend mssg_type = tostring(mssg_parts[0][0]), mssg_id = tostring(mssg_parts[0][1]) | project TenantId, TimeGenerated, Computer, mssg_type, mssg_id, mssg_parts | extend mssg_content = split(mssg_parts[0][2], \" \") | extend typed_mssg = pack(mssg_type, mssg_content) | summarize AuditdMessage = makelist(typed_mssg) by TenantId, TimeGenerated, Computer, mssg_id <br>;<br><br>For more help on fixing this error see:<br><ul class='circle'><li><a href='https://msticpy.readthedocs.io/en/latest/DataAcquisition.html#querying-and-importing-data'>Query failed</a></li></ul></div>"
      ],
      "text/plain": [
       "msticpy.common.exceptions.MsticpyDataQueryError('StatusDescription None',\n",
       "                                                '(err_code: None)',\n",
       "                                                'Query:\\n AuditLog_CL | where true | where TimeGenerated >= datetime(2020-10-09T04:59:21.644004Z) | where TimeGenerated <= datetime(2020-10-09T11:59:21.644004Z) | where Computer has \"k8skindvm\" | extend mssg_parts = extract_all(@\"type=(?P<type>[^\\\\s]+)\\\\s+msg=audit\\\\((?P<mssg_id>[^)]+)\\\\):\\\\s+(?P<mssg>[^\\\\r]+)\\\\r?\", dynamic([\"type\", \"mssg_id\", \"mssg\"]), RawData) | extend mssg_type = tostring(mssg_parts[0][0]), mssg_id = tostring(mssg_parts[0][1]) | project TenantId, TimeGenerated, Computer, mssg_type, mssg_id, mssg_parts | extend mssg_content = split(mssg_parts[0][2], \" \") | extend typed_mssg = pack(mssg_type, mssg_content) | summarize AuditdMessage = makelist(typed_mssg) by TenantId, TimeGenerated, Computer, mssg_id \\n;')"
      ]
     },
     "metadata": {},
     "output_type": "display_data"
    }
   ],
   "source": [
    "audit_table = None\n",
    "app_audit_data = None\n",
    "app = app_select.value\n",
    "process_tree_data = None\n",
    "regex = '.*audit.*\\_cl?'\n",
    "# Find the table with auditd data in and collect the data\n",
    "matches = ((re.match(regex, key, re.IGNORECASE)) for key in qry_prov.schema)\n",
    "for match in matches:\n",
    "    if match != None:\n",
    "        audit_table = match.group(0)\n",
    "\n",
    "#Check if the amount of data expected to be returned is a reasonable size, if not prompt before continuing\n",
    "if audit_table != None:\n",
    "    if isinstance(app_audit_data, pd.DataFrame):\n",
    "        pass\n",
    "    else:\n",
    "        print('Collecting audit data, please wait this may take some time....')\n",
    "        app_audit_query_count = f\"\"\"{audit_table} \n",
    "                    | where TimeGenerated >= datetime({proc_invest_times.start}) \n",
    "                    | where TimeGenerated <= datetime({proc_invest_times.end}) \n",
    "                    | where Computer == '{hostname}'\n",
    "                    | summarize count()\n",
    "                   \"\"\"\n",
    "        \n",
    "        count_check = qry_prov.exec_query(query=app_audit_query_count)\n",
    "\n",
    "        if count_check['count_'].iloc[0] > 100000 and not count_check.empty:\n",
    "            size = count_check['count_'].iloc[0]\n",
    "            print(\n",
    "                f\"You are returning a very large dataset ({size} rows).\",\n",
    "                \"It is reccomended that you consider scoping the size\\n\",\n",
    "                \"of your query down.\\n\",\n",
    "                \"Are you sure you want to proceed?\"\n",
    "            )\n",
    "            response = (input(\"Y/N\") or \"N\")\n",
    "        \n",
    "        if (\n",
    "            (count_check['count_'].iloc[0] < 100000)\n",
    "            or (count_check['count_'].iloc[0] > 100000\n",
    "                and response.casefold().startswith(\"y\"))\n",
    "        ):\n",
    "            print(\"querying audit data...\")\n",
    "            audit_data = qry_prov.LinuxAudit.auditd_all(\n",
    "                start=proc_invest_times.start, end=proc_invest_times.end, host_name=hostname\n",
    "                )\n",
    "            if isinstance(audit_data, pd.DataFrame) and not audit_data.empty:\n",
    "                print(\"building process tree...\")\n",
    "                audit_events = auditdextract.extract_events_to_df(\n",
    "                    data=audit_data\n",
    "                )\n",
    "                \n",
    "                process_tree_data = auditdextract.generate_process_tree(audit_data=audit_events)\n",
    "                plot_lim = 1000\n",
    "                if len(process_tree) > plot_lim:\n",
    "                    md_warn(f\"More than {plot_lim} processes to plot, limiting to top {plot_lim}.\")\n",
    "                    process_tree[:plot_lim].mp_process_tree.plot(legend_col=\"exe\")\n",
    "                else:\n",
    "                    process_tree.mp_process_tree.plot(legend_col=\"exe\")\n",
    "                size = audit_events.size\n",
    "                print(f\"Collected {size} rows of data\")\n",
    "            else:\n",
    "                md(\"No audit events avalaible\")\n",
    "        else:\n",
    "            print(\"Resize query window\")\n",
    "    \n",
    "else:\n",
    "    md(\"No audit events avalaible\")"
   ]
  },
  {
   "cell_type": "code",
   "execution_count": 71,
   "metadata": {
    "ExecuteTime": {
     "end_time": "2020-06-24T02:01:43.252644Z",
     "start_time": "2020-06-24T02:01:42.969634Z"
    }
   },
   "outputs": [
    {
     "data": {
      "text/html": [
       "<p style=''><h3>Process tree for rsyslogd</h3></p>"
      ],
      "text/plain": [
       "<IPython.core.display.HTML object>"
      ]
     },
     "metadata": {},
     "output_type": "display_data"
    },
    {
     "data": {
      "text/html": [
       "<p style=''>No data avaliable to build process tree</p>"
      ],
      "text/plain": [
       "<IPython.core.display.HTML object>"
      ]
     },
     "metadata": {},
     "output_type": "display_data"
    }
   ],
   "source": [
    "md(f\"<h3>Process tree for {app}</h3>\")\n",
    "if process_tree_data is not None:\n",
    "    process_tree_df = process_tree_data[process_tree_data[\"exe\"].str.contains(app, na=False)].copy()\n",
    "    if not process_tree_df.empty:    \n",
    "        app_roots = process_tree_data.apply(lambda x: ptree.get_root(process_tree_data, x), axis=1)\n",
    "        trees = []\n",
    "        for root in app_roots[\"source_index\"].unique():\n",
    "            trees.append(process_tree_data[process_tree_data[\"path\"].str.startswith(root)])\n",
    "        app_proc_trees = pd.concat(trees)\n",
    "        app_proc_trees.mp_process_tree.plot(legend_col=\"exe\", show_table=True)\n",
    "    else:\n",
    "        display(f\"No process tree data avaliable for {app}\")\n",
    "        process_tree = None\n",
    "else:\n",
    "    md(\"No data avaliable to build process tree\")"
   ]
  },
  {
   "cell_type": "markdown",
   "metadata": {},
   "source": [
    "### Application Logs with associated Threat Intelligence\n",
    "These logs are associated with the process being investigated and include IOCs that appear in our TI feeds."
   ]
  },
  {
   "cell_type": "code",
   "execution_count": 70,
   "metadata": {
    "ExecuteTime": {
     "end_time": "2020-06-24T02:01:50.058394Z",
     "start_time": "2020-06-24T02:01:49.715903Z"
    }
   },
   "outputs": [
    {
     "data": {
      "text/html": [
       "<p style=''>Extracting IoCs...</p>"
      ],
      "text/plain": [
       "<IPython.core.display.HTML object>"
      ]
     },
     "metadata": {},
     "output_type": "display_data"
    },
    {
     "data": {
      "text/html": [
       "<p style=''>Found 2 IOCs</p>"
      ],
      "text/plain": [
       "<IPython.core.display.HTML object>"
      ]
     },
     "metadata": {},
     "output_type": "display_data"
    },
    {
     "data": {
      "text/html": [
       "<p style=''>Looking up threat intel...</p>"
      ],
      "text/plain": [
       "<IPython.core.display.HTML object>"
      ]
     },
     "metadata": {},
     "output_type": "display_data"
    },
    {
     "data": {
      "text/html": [
       "Found 0 IoCs in Threat Intelligence"
      ],
      "text/plain": [
       "<IPython.core.display.HTML object>"
      ]
     },
     "metadata": {},
     "output_type": "display_data"
    }
   ],
   "source": [
    "# Extract IOCs from syslog assocated with the selected process\n",
    "ioc_extractor = iocextract.IoCExtract()\n",
    "os_family = host_entity.OSType if host_entity.OSType else 'Linux'\n",
    "md('Extracting IoCs...')\n",
    "ioc_df = ioc_extractor.extract(data=app_data,\n",
    "                               columns=['SyslogMessage'],\n",
    "                               os_family=os_family,\n",
    "                               ioc_types=['ipv4', 'ipv6', 'dns', 'url',\n",
    "                                          'md5_hash', 'sha1_hash', 'sha256_hash'])\n",
    "\n",
    "if process_tree_data is not None and not process_tree_data.empty:\n",
    "    app_process_tree = app_proc_trees.dropna(subset=['cmdline'])\n",
    "    audit_ioc_df = ioc_extractor.extract(data=app_process_tree,\n",
    "                                         columns=['cmdline'],\n",
    "                                         os_family=os_family,\n",
    "                                         ioc_types=['ipv4', 'ipv6', 'dns', 'url',\n",
    "                                                    'md5_hash', 'sha1_hash', 'sha256_hash'])\n",
    "\n",
    "    ioc_df = ioc_df.append(audit_ioc_df)\n",
    "# Look up IOCs in TI feeds\n",
    "if len(ioc_df) > 0:\n",
    "    ioc_count = len(ioc_df[[\"IoCType\", \"Observable\"]].drop_duplicates())\n",
    "    md(f\"Found {ioc_count} IOCs\")\n",
    "    md(\"Looking up threat intel...\")\n",
    "    ti_resps = tilookup.lookup_iocs(data=ioc_df[[\n",
    "                                     \"IoCType\", \"Observable\"]].drop_duplicates().reset_index(drop=True), obs_col='Observable')\n",
    "    i = 0\n",
    "    ti_hits = []\n",
    "    ti_resps.reset_index(drop=True, inplace=True)\n",
    "    while i < len(ti_resps):\n",
    "        if ti_resps['Result'][i] == True and ti_check_sev(ti_resps['Severity'][i], 1):\n",
    "            ti_hits.append(ti_resps['Ioc'][i])\n",
    "            i += 1\n",
    "        else:\n",
    "            i += 1\n",
    "    display(HTML(f\"Found {len(ti_hits)} IoCs in Threat Intelligence\"))\n",
    "    for ioc in ti_hits:\n",
    "        display(HTML(f\"Messages containing IoC found in TI feed: {ioc}\"))\n",
    "        display(app_data[app_data['SyslogMessage'].str.contains(\n",
    "            ioc)][['TimeGenerated', 'SyslogMessage']])\n",
    "else:\n",
    "    md(\"<h3>No IoC patterns found in Syslog Message.</h3>\")"
   ]
  },
  {
   "cell_type": "markdown",
   "metadata": {
    "ExecuteTime": {
     "end_time": "2019-09-23T23:55:34.409792Z",
     "start_time": "2019-09-23T23:55:34.404795Z"
    }
   },
   "source": [
    "Jump to:\n",
    "- <a>Host Logon Events</a>\n",
    "- <a>User Activity</a>\n",
    "- <a>Application Activity</a>"
   ]
  },
  {
   "cell_type": "markdown",
   "metadata": {},
   "source": [
    "## Network Activity\n",
    "**Hypothesis:** That an attacker is remotely communicating with the host in order to compromise the host or for C2 or data exfiltration purposes after compromising the host.\n",
    "\n",
    "This section provides an overview of network activity to and from the host during hunting time frame, the purpose of this is to allow for the identification of anomalous network traffic. If you wish to investigate a specific IP in detail it is recommended that you use the IP Explorer Notebook (include link)."
   ]
  },
  {
   "cell_type": "code",
   "execution_count": 72,
   "metadata": {
    "ExecuteTime": {
     "end_time": "2020-06-24T02:02:21.843587Z",
     "start_time": "2020-06-24T02:02:11.835821Z"
    }
   },
   "outputs": [
    {
     "name": "stdout",
     "output_type": "stream",
     "text": [
      "Finding IP Addresses this may take a few minutes.......\n"
     ]
    },
    {
     "data": {
      "text/plain": [
       "'Found 1 IP Addresses assoicated with the host'"
      ]
     },
     "metadata": {},
     "output_type": "display_data"
    },
    {
     "data": {
      "text/html": [
       "<p style=''><h3>No Azure network data for specified time range.</h3></p>"
      ],
      "text/plain": [
       "<IPython.core.display.HTML object>"
      ]
     },
     "metadata": {},
     "output_type": "display_data"
    }
   ],
   "source": [
    "# Get list of IPs from Syslog and Azure Network Data\n",
    "ioc_extractor = iocextract.IoCExtract()\n",
    "os_family = host_entity.OSType if host_entity.OSType else 'Linux'\n",
    "print('Finding IP Addresses this may take a few minutes.......')\n",
    "syslog_ips = ioc_extractor.extract(data=all_syslog_data,\n",
    "                                   columns=['SyslogMessage'],\n",
    "                                   os_family=os_family,\n",
    "                                   ioc_types=['ipv4', 'ipv6'])\n",
    "\n",
    "\n",
    "if 'AzureNetworkAnalytics_CL' not in qry_prov.schema:\n",
    "    az_net_comms_df = None\n",
    "    az_ips = None\n",
    "else:\n",
    "    if hasattr(host_entity, 'private_ips') and hasattr(host_entity, 'public_ips'):\n",
    "        all_host_ips = host_entity.private_ips + \\\n",
    "            host_entity.public_ips + [host_entity.IPAddress]\n",
    "    else:\n",
    "        all_host_ips = [host_entity.IPAddress]\n",
    "    host_ips = {'\\'{}\\''.format(i.Address) for i in all_host_ips}\n",
    "    host_ip_list = ','.join(host_ips)\n",
    "\n",
    "    az_ip_where = f\"\"\"| where (VMIPAddress in (\"{host_ip_list}\") or SrcIP in (\"{host_ip_list}\") or DestIP in (\"{host_ip_list}\")) and (AllowedOutFlows > 0 or AllowedInFlows > 0)\"\"\"\n",
    "    az_net_comms_df = qry_prov.AzureNetwork.az_net_analytics(\n",
    "        start=query_times.start, end=query_times.end, host_name=hostname, where_clause=az_ip_where)\n",
    "    if isinstance(az_net_comms_df, pd.DataFrame) and not az_net_comms_df.empty:\n",
    "        az_ips = az_net_comms_df.query(\"PublicIPs != @host_entity.IPAddress\")\n",
    "    else:\n",
    "        az_ips = None\n",
    "if len(syslog_ips):\n",
    "    IPs = syslog_ips[['IoCType', 'Observable']].drop_duplicates('Observable')\n",
    "    display(f\"Found {len(IPs)} IP Addresses assoicated with the host\")\n",
    "else:\n",
    "    md(\"### No IoC patterns found in Syslog Message.\")\n",
    "    \n",
    "if az_ips is not None:\n",
    "    ips = az_ips['PublicIps'].drop_duplicates(\n",
    "    ) + syslog_ips['Observable'].drop_duplicates()\n",
    "else:\n",
    "    ips = syslog_ips['Observable'].drop_duplicates()\n",
    "\n",
    "if isinstance(az_net_comms_df, pd.DataFrame) and not az_net_comms_df.empty:\n",
    "    import warnings\n",
    "\n",
    "    with warnings.catch_warnings():\n",
    "        warnings.simplefilter(\"ignore\")\n",
    "\n",
    "        az_net_comms_df['TotalAllowedFlows'] = az_net_comms_df['AllowedOutFlows'] + \\\n",
    "            az_net_comms_df['AllowedInFlows']\n",
    "        sns.catplot(x=\"L7Protocol\", y=\"TotalAllowedFlows\",\n",
    "                    col=\"FlowDirection\", data=az_net_comms_df)\n",
    "        sns.relplot(x=\"FlowStartTime\", y=\"TotalAllowedFlows\",\n",
    "                    col=\"FlowDirection\", kind=\"line\",\n",
    "                    hue=\"L7Protocol\", data=az_net_comms_df).set_xticklabels(rotation=50)\n",
    "\n",
    "    nbdisplay.display_timeline(data=az_net_comms_df.query('AllowedOutFlows > 0'),\n",
    "                               overlay_data=az_net_comms_df.query(\n",
    "                                   'AllowedInFlows > 0'),\n",
    "                               title='Network Flows (out=blue, in=green)',\n",
    "                               time_column='FlowStartTime',\n",
    "                               source_columns=[\n",
    "                                   'FlowType', 'AllExtIPs', 'L7Protocol', 'FlowDirection'],\n",
    "                               height=300)\n",
    "else:\n",
    "    md('<h3>No Azure network data for specified time range.</h3>')"
   ]
  },
  {
   "cell_type": "markdown",
   "metadata": {},
   "source": [
    "### Choose ASNs/IPs to Check for Threat Intel Reports\n",
    "Choose from the list of Selected ASNs for the IPs you wish to check on. Then select the IP(s) that you wish to check against Threat Intelligence data.\n",
    "The Source list is populated with all ASNs found in the syslog and network flow data."
   ]
  },
  {
   "cell_type": "code",
   "execution_count": 78,
   "metadata": {
    "ExecuteTime": {
     "end_time": "2020-06-24T02:02:28.305211Z",
     "start_time": "2020-06-24T02:02:27.707241Z"
    }
   },
   "outputs": [
    {
     "name": "stdout",
     "output_type": "stream",
     "text": [
      "WhoIs Lookups\n",
      "."
     ]
    },
    {
     "data": {
      "text/html": [
       "<div>\n",
       "<style scoped>\n",
       "    .dataframe tbody tr th:only-of-type {\n",
       "        vertical-align: middle;\n",
       "    }\n",
       "\n",
       "    .dataframe tbody tr th {\n",
       "        vertical-align: top;\n",
       "    }\n",
       "\n",
       "    .dataframe thead th {\n",
       "        text-align: right;\n",
       "    }\n",
       "</style>\n",
       "<table border=\"1\" class=\"dataframe\">\n",
       "  <thead>\n",
       "    <tr style=\"text-align: right;\">\n",
       "      <th></th>\n",
       "      <th>IPs</th>\n",
       "    </tr>\n",
       "    <tr>\n",
       "      <th>ASN</th>\n",
       "      <th></th>\n",
       "    </tr>\n",
       "  </thead>\n",
       "  <tbody>\n",
       "    <tr>\n",
       "      <th>SIFY-AS-IN Sify Limited, IN</th>\n",
       "      <td>1</td>\n",
       "    </tr>\n",
       "  </tbody>\n",
       "</table>\n",
       "</div>"
      ],
      "text/plain": [
       "                             IPs\n",
       "ASN                             \n",
       "SIFY-AS-IN Sify Limited, IN    1"
      ]
     },
     "metadata": {},
     "output_type": "display_data"
    },
    {
     "data": {
      "application/vnd.jupyter.widget-view+json": {
       "model_id": "648dd1a60923481a9316e9c470034dab",
       "version_major": 2,
       "version_minor": 0
      },
      "text/plain": [
       "SelectMultiple(description='Select ASN to investigate', options=('SIFY-AS-IN Sify Limited, IN',), value=())"
      ]
     },
     "metadata": {},
     "output_type": "display_data"
    }
   ],
   "source": [
    "#Lookup each IP in whois data and extract the ASN\n",
    "@lru_cache(maxsize=1024)\n",
    "def whois_desc(ip_lookup, progress=False):\n",
    "    try:\n",
    "        ip = ip_address(ip_lookup)\n",
    "    except ValueError:\n",
    "        return \"Not an IP Address\"\n",
    "    if ip.is_private:\n",
    "        return \"private address\"\n",
    "    if not ip.is_global:\n",
    "        return \"other address\"\n",
    "    whois = IPWhois(ip)\n",
    "    whois_result = whois.lookup_whois()\n",
    "    if progress:\n",
    "        print(\".\", end=\"\")\n",
    "    return whois_result[\"asn_description\"]\n",
    "\n",
    "# Summarise network data by ASN\n",
    "ASN_List = []\n",
    "print(\"WhoIs Lookups\")\n",
    "ASNs = ips.apply(lambda x: whois_desc(x, True))\n",
    "IP_ASN = pd.DataFrame(dict(IPs=ips, ASN=ASNs)).reset_index()\n",
    "x = IP_ASN.groupby([\"ASN\"]).count().drop(\n",
    "    'index', axis=1).sort_values('IPs', ascending=False)\n",
    "display(x)\n",
    "ASN_List = x.index\n",
    "\n",
    "# Select an ASN to investigate in more detail\n",
    "selection = widgets.SelectMultiple(\n",
    "    options=ASN_List,\n",
    "    width=900,\n",
    "    description='Select ASN to investigate',\n",
    "    disabled=False\n",
    ")\n",
    "display(selection)"
   ]
  },
  {
   "cell_type": "code",
   "execution_count": 79,
   "metadata": {
    "ExecuteTime": {
     "end_time": "2020-06-24T02:03:09.018331Z",
     "start_time": "2020-06-24T02:03:08.996333Z"
    }
   },
   "outputs": [
    {
     "data": {
      "text/html": [
       "<p style=''>No IPs to investigate</p>"
      ],
      "text/plain": [
       "<IPython.core.display.HTML object>"
      ]
     },
     "metadata": {},
     "output_type": "display_data"
    }
   ],
   "source": [
    "# For every IP associated with the selected ASN look them up in TI feeds\n",
    "ip_invest_list = None\n",
    "ip_selection = None\n",
    "for ASN in selection.value:\n",
    "    if ip_invest_list is None:\n",
    "        ip_invest_list = (IP_ASN[IP_ASN[\"ASN\"] == ASN]['IPs'].tolist())\n",
    "    else:\n",
    "        ip_invest_list + (IP_ASN[IP_ASN[\"ASN\"] == ASN]['IPs'].tolist())\n",
    "\n",
    "if ip_invest_list is not None:\n",
    "    ioc_ip_list = []\n",
    "    if len(ip_invest_list) > 0:\n",
    "        ti_resps = tilookup.lookup_iocs(data=ip_invest_list, providers=[\"OTX\"])\n",
    "        i = 0\n",
    "        ti_hits = []\n",
    "        while i < len(ti_resps):\n",
    "            if ti_resps['Details'][i]['pulse_count'] > 0:\n",
    "                ti_hits.append(ti_resps['Ioc'][i])\n",
    "                i += 1\n",
    "            else:\n",
    "                i += 1\n",
    "        display(HTML(f\"Found {len(ti_hits)} IoCs in Threat Intelligence\"))\n",
    "        for ioc in ti_hits:\n",
    "            ioc_ip_list.append(ioc)\n",
    "\n",
    "    #Show IPs found in TI feeds for further investigation        \n",
    "    if len(ioc_ip_list) > 0: \n",
    "        display(HTML(\"Select an IP whcih appeared in TI to investigate further\"))\n",
    "        ip_selection = nbwidgets.SelectItem(description='Select IP Address to investigate: ', item_list = ioc_ip_list, width='95%', auto_display=True)\n",
    "       \n",
    "else:\n",
    "    md(\"No IPs to investigate\")"
   ]
  },
  {
   "cell_type": "code",
   "execution_count": 80,
   "metadata": {
    "ExecuteTime": {
     "end_time": "2020-06-24T02:03:11.613331Z",
     "start_time": "2020-06-24T02:03:11.600332Z"
    }
   },
   "outputs": [
    {
     "data": {
      "text/html": [
       "<p style=''>No IP address selected</p>"
      ],
      "text/plain": [
       "<IPython.core.display.HTML object>"
      ]
     },
     "metadata": {},
     "output_type": "display_data"
    }
   ],
   "source": [
    "# Get all syslog for the IPs\n",
    "if ip_selection is not None:\n",
    "    display(HTML(\"Syslog data associated with this IP Address\"))\n",
    "    sys_hits = all_syslog_data[all_syslog_data['SyslogMessage'].str.contains(\n",
    "        ip_selection.value)]\n",
    "    display(sys_hits)\n",
    "    os_family = host_entity.OSType if host_entity.OSType else 'Linux'\n",
    "\n",
    "    display(HTML(\"TI result for this IP Address\"))\n",
    "    display(ti_resps[ti_resps['Ioc'] == ip_selection.value])\n",
    "else:\n",
    "    md(\"No IP address selected\")"
   ]
  },
  {
   "cell_type": "markdown",
   "metadata": {},
   "source": [
    "## Configuration\n",
    "\n",
    "### `msticpyconfig.yaml` configuration File\n",
    "You can configure primary and secondary TI providers and any required parameters in the `msticpyconfig.yaml` file. This is read from the current directory or you can set an environment variable (`MSTICPYCONFIG`) pointing to its location.\n",
    "\n",
    "To configure this file see the [ConfigureNotebookEnvironment notebook](https://github.com/Azure/Azure-Sentinel-Notebooks/blob/master/ConfiguringNotebookEnvironment.ipynb)"
   ]
  },
  {
   "cell_type": "code",
   "execution_count": null,
   "metadata": {},
   "outputs": [],
   "source": []
  }
 ],
 "metadata": {
  "hide_input": false,
  "kernelspec": {
   "display_name": "Python 3",
   "language": "python",
   "name": "python3"
  },
  "language_info": {
   "codemirror_mode": {
    "name": "ipython",
    "version": 3
   },
   "file_extension": ".py",
   "mimetype": "text/x-python",
   "name": "python",
   "nbconvert_exporter": "python",
   "pygments_lexer": "ipython3",
   "version": "3.6.4"
  },
  "latex_envs": {
   "LaTeX_envs_menu_present": true,
   "autoclose": false,
   "autocomplete": true,
   "bibliofile": "biblio.bib",
   "cite_by": "apalike",
   "current_citInitial": 1,
   "eqLabelWithNumbers": true,
   "eqNumInitial": 1,
   "hotkeys": {
    "equation": "Ctrl-E",
    "itemize": "Ctrl-I"
   },
   "labels_anchors": false,
   "latex_user_defs": false,
   "report_style_numbering": false,
   "user_envs_cfg": false
  },
  "toc": {
   "base_numbering": 1,
   "nav_menu": {
    "height": "683px",
    "width": "424px"
   },
   "number_sections": true,
   "sideBar": true,
   "skip_h1_title": true,
   "title_cell": "Table of Contents",
   "title_sidebar": "Contents",
   "toc_cell": true,
   "toc_position": {
    "height": "calc(100% - 180px)",
    "left": "10px",
    "top": "150px",
    "width": "374.667px"
   },
   "toc_section_display": true,
   "toc_window_display": true
  },
  "varInspector": {
   "cols": {
    "lenName": 16,
    "lenType": 16,
    "lenVar": 40
   },
   "kernels_config": {
    "python": {
     "delete_cmd_postfix": "",
     "delete_cmd_prefix": "del ",
     "library": "var_list.py",
     "varRefreshCmd": "print(var_dic_list())"
    },
    "r": {
     "delete_cmd_postfix": ") ",
     "delete_cmd_prefix": "rm(",
     "library": "var_list.r",
     "varRefreshCmd": "cat(var_dic_list()) "
    }
   },
   "types_to_exclude": [
    "module",
    "function",
    "builtin_function_or_method",
    "instance",
    "_Feature"
   ],
   "window_display": false
  },
  "widgets": {
   "application/vnd.jupyter.widget-state+json": {
    "state": {},
    "version_major": 2,
    "version_minor": 0
   }
  }
 },
 "nbformat": 4,
 "nbformat_minor": 4
}